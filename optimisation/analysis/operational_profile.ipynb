{
 "cells": [
  {
   "cell_type": "markdown",
   "metadata": {},
   "source": [
    "### Operational Profile\n",
    "\n",
    "This file allows the user to generate a visualisation charge/discharge profile of BESS & state of charge of BESS.\n",
    "\n",
    "1. Inputs\n",
    "raw_output_filename:str - the model output filename that the user wants to analyse\n",
    "random_day:pd.datetime - the date the user desires to view\n",
    "\n",
    "2. Outputs\n",
    "figure:plotlyfig - a plotly figure"
   ]
  },
  {
   "cell_type": "code",
   "execution_count": 99,
   "metadata": {},
   "outputs": [],
   "source": [
    "import os \n",
    "import pandas as pd\n",
    "import plotly.express as px\n",
    "import nbformat\n",
    "import plotly.graph_objects as go\n",
    "\n",
    "# set some default colors\n",
    "zenobe_grey = \"#9B9A9A\"\n",
    "zenobe_red = \"#F37676\"\n",
    "zenobe_black = \"#000000\"\n",
    "zenobe_blue = \"#4d76ff\"\n",
    "zenobe_green =\"#008000\"\n",
    "\n",
    "graph_primary = \"rgba(230,98,5,1)\" \n",
    "graph_primary_med = \"rgba(230,98,5,0.75)\" \n",
    "graph_primary_light = \"rgba(230,98,5,0.4)\"\n",
    "graph_primary_v_light = \"rgba(230,98,5,0.1)\"\n",
    "graph_secondary = \"rgb(144,144,144)\"\n",
    "graph_secondary_med = \"rgba(144,144,144,0.75)\" \n",
    "graph_secondary_light = \"rgba(144,144,144,0.5)\"\n",
    "graph_secondary_v_light = \"rgba(144,144,144,0.2)\"\n",
    "\n",
    "\n",
    "font_size = 14\n",
    "font_family = \"Century Gothic\"\n",
    "num_time_periods = 48\n",
    "font_color = \"black\"\n",
    "project_name = \"Example\"\n",
    "logo_filename = \"zenobe_logo.png\"\n",
    "project_power_capacity = 100\n",
    "project_energy_capacity = 100\n",
    "\n"
   ]
  },
  {
   "cell_type": "code",
   "execution_count": 100,
   "metadata": {},
   "outputs": [],
   "source": [
    "# Read in data\n",
    "# Get the current directory of the script\n",
    "current_directory = os.path.dirname(os.path.abspath(os.getcwd()))\n",
    "\n",
    "# Get the parent directory\n",
    "parent_directory = os.path.dirname(current_directory)\n",
    "raw_output_filename = \"example_02-07.csv\"\n",
    "optimiser_output_df = pd.read_csv(os.path.join(parent_directory,\"optimisation\",\"data_output\",\"raw_output\",raw_output_filename),index_col=[0])\n",
    "optimiser_output_df.index = pd.to_datetime(optimiser_output_df.index)\n"
   ]
  },
  {
   "cell_type": "code",
   "execution_count": 101,
   "metadata": {},
   "outputs": [],
   "source": [
    "# Choose a day to analyse \n",
    "random_period_start= pd.to_datetime(\"2023-01-20\")\n",
    "random_period_end= pd.to_datetime(\"2023-01-23\")\n",
    "random_period = optimiser_output_df.loc[(optimiser_output_df.index>=random_period_start)&(optimiser_output_df.index<=random_period_end)]\n"
   ]
  },
  {
   "cell_type": "code",
   "execution_count": 102,
   "metadata": {},
   "outputs": [],
   "source": [
    "\n",
    "from plotly.subplots import make_subplots\n",
    "fig = make_subplots(rows=3,cols=1,specs=[[{\"secondary_y\": True}], [{\"secondary_y\": True}], [{\"secondary_y\": True}]])\n"
   ]
  },
  {
   "cell_type": "code",
   "execution_count": 103,
   "metadata": {},
   "outputs": [
    {
     "data": {
      "application/vnd.plotly.v1+json": {
       "config": {
        "plotlyServerURL": "https://plot.ly"
       },
       "data": [
        {
         "marker": {
          "color": "rgba(230,98,5,1)"
         },
         "name": "Day Ahead",
         "type": "bar",
         "x": [
          "2023-01-20T00:00:00.000000000",
          "2023-01-20T00:30:00.000000000",
          "2023-01-20T01:00:00.000000000",
          "2023-01-20T01:30:00.000000000",
          "2023-01-20T02:00:00.000000000",
          "2023-01-20T02:30:00.000000000",
          "2023-01-20T03:00:00.000000000",
          "2023-01-20T03:30:00.000000000",
          "2023-01-20T04:00:00.000000000",
          "2023-01-20T04:30:00.000000000",
          "2023-01-20T05:00:00.000000000",
          "2023-01-20T05:30:00.000000000",
          "2023-01-20T06:00:00.000000000",
          "2023-01-20T06:30:00.000000000",
          "2023-01-20T07:00:00.000000000",
          "2023-01-20T07:30:00.000000000",
          "2023-01-20T08:00:00.000000000",
          "2023-01-20T08:30:00.000000000",
          "2023-01-20T09:00:00.000000000",
          "2023-01-20T09:30:00.000000000",
          "2023-01-20T10:00:00.000000000",
          "2023-01-20T10:30:00.000000000",
          "2023-01-20T11:00:00.000000000",
          "2023-01-20T11:30:00.000000000",
          "2023-01-20T12:00:00.000000000",
          "2023-01-20T12:30:00.000000000",
          "2023-01-20T13:00:00.000000000",
          "2023-01-20T13:30:00.000000000",
          "2023-01-20T14:00:00.000000000",
          "2023-01-20T14:30:00.000000000",
          "2023-01-20T15:00:00.000000000",
          "2023-01-20T15:30:00.000000000",
          "2023-01-20T16:00:00.000000000",
          "2023-01-20T16:30:00.000000000",
          "2023-01-20T17:00:00.000000000",
          "2023-01-20T17:30:00.000000000",
          "2023-01-20T18:00:00.000000000",
          "2023-01-20T18:30:00.000000000",
          "2023-01-20T19:00:00.000000000",
          "2023-01-20T19:30:00.000000000",
          "2023-01-20T20:00:00.000000000",
          "2023-01-20T20:30:00.000000000",
          "2023-01-20T21:00:00.000000000",
          "2023-01-20T21:30:00.000000000",
          "2023-01-20T22:00:00.000000000",
          "2023-01-20T22:30:00.000000000",
          "2023-01-20T23:00:00.000000000",
          "2023-01-20T23:30:00.000000000",
          "2023-01-21T00:00:00.000000000",
          "2023-01-21T00:30:00.000000000",
          "2023-01-21T01:00:00.000000000",
          "2023-01-21T01:30:00.000000000",
          "2023-01-21T02:00:00.000000000",
          "2023-01-21T02:30:00.000000000",
          "2023-01-21T03:00:00.000000000",
          "2023-01-21T03:30:00.000000000",
          "2023-01-21T04:00:00.000000000",
          "2023-01-21T04:30:00.000000000",
          "2023-01-21T05:00:00.000000000",
          "2023-01-21T05:30:00.000000000",
          "2023-01-21T06:00:00.000000000",
          "2023-01-21T06:30:00.000000000",
          "2023-01-21T07:00:00.000000000",
          "2023-01-21T07:30:00.000000000",
          "2023-01-21T08:00:00.000000000",
          "2023-01-21T08:30:00.000000000",
          "2023-01-21T09:00:00.000000000",
          "2023-01-21T09:30:00.000000000",
          "2023-01-21T10:00:00.000000000",
          "2023-01-21T10:30:00.000000000",
          "2023-01-21T11:00:00.000000000",
          "2023-01-21T11:30:00.000000000",
          "2023-01-21T12:00:00.000000000",
          "2023-01-21T12:30:00.000000000",
          "2023-01-21T13:00:00.000000000",
          "2023-01-21T13:30:00.000000000",
          "2023-01-21T14:00:00.000000000",
          "2023-01-21T14:30:00.000000000",
          "2023-01-21T15:00:00.000000000",
          "2023-01-21T15:30:00.000000000",
          "2023-01-21T16:00:00.000000000",
          "2023-01-21T16:30:00.000000000",
          "2023-01-21T17:00:00.000000000",
          "2023-01-21T17:30:00.000000000",
          "2023-01-21T18:00:00.000000000",
          "2023-01-21T18:30:00.000000000",
          "2023-01-21T19:00:00.000000000",
          "2023-01-21T19:30:00.000000000",
          "2023-01-21T20:00:00.000000000",
          "2023-01-21T20:30:00.000000000",
          "2023-01-21T21:00:00.000000000",
          "2023-01-21T21:30:00.000000000",
          "2023-01-21T22:00:00.000000000",
          "2023-01-21T22:30:00.000000000",
          "2023-01-21T23:00:00.000000000",
          "2023-01-21T23:30:00.000000000",
          "2023-01-22T00:00:00.000000000",
          "2023-01-22T00:30:00.000000000",
          "2023-01-22T01:00:00.000000000",
          "2023-01-22T01:30:00.000000000",
          "2023-01-22T02:00:00.000000000",
          "2023-01-22T02:30:00.000000000",
          "2023-01-22T03:00:00.000000000",
          "2023-01-22T03:30:00.000000000",
          "2023-01-22T04:00:00.000000000",
          "2023-01-22T04:30:00.000000000",
          "2023-01-22T05:00:00.000000000",
          "2023-01-22T05:30:00.000000000",
          "2023-01-22T06:00:00.000000000",
          "2023-01-22T06:30:00.000000000",
          "2023-01-22T07:00:00.000000000",
          "2023-01-22T07:30:00.000000000",
          "2023-01-22T08:00:00.000000000",
          "2023-01-22T08:30:00.000000000",
          "2023-01-22T09:00:00.000000000",
          "2023-01-22T09:30:00.000000000",
          "2023-01-22T10:00:00.000000000",
          "2023-01-22T10:30:00.000000000",
          "2023-01-22T11:00:00.000000000",
          "2023-01-22T11:30:00.000000000",
          "2023-01-22T12:00:00.000000000",
          "2023-01-22T12:30:00.000000000",
          "2023-01-22T13:00:00.000000000",
          "2023-01-22T13:30:00.000000000",
          "2023-01-22T14:00:00.000000000",
          "2023-01-22T14:30:00.000000000",
          "2023-01-22T15:00:00.000000000",
          "2023-01-22T15:30:00.000000000",
          "2023-01-22T16:00:00.000000000",
          "2023-01-22T16:30:00.000000000",
          "2023-01-22T17:00:00.000000000",
          "2023-01-22T17:30:00.000000000",
          "2023-01-22T18:00:00.000000000",
          "2023-01-22T18:30:00.000000000",
          "2023-01-22T19:00:00.000000000",
          "2023-01-22T19:30:00.000000000",
          "2023-01-22T20:00:00.000000000",
          "2023-01-22T20:30:00.000000000",
          "2023-01-22T21:00:00.000000000",
          "2023-01-22T21:30:00.000000000",
          "2023-01-22T22:00:00.000000000",
          "2023-01-22T22:30:00.000000000",
          "2023-01-22T23:00:00.000000000",
          "2023-01-22T23:30:00.000000000",
          "2023-01-23T00:00:00.000000000"
         ],
         "xaxis": "x",
         "y": {
          "bdata": "AAAAAAAAAIAAAAAAAAAAgAAAAAAAAACAAAAAAAAAAIAAAAAAAAAAgAAAAAAAAACAAAAAAAAAAIAAAAAAAAAAgAAAAAAAAACAAAAAAAAAAIAAAAAAAAAAgAAAAAAAAACAAAAAAAAAAIAAAAAAAAAAgAAAAAAAAACAAAAAAAAAWcAAAAAAAABZwIuNjY2NjTHAi42NjY2NMcAAAAAAAAAAgAAAAAAAAACAAAAAAAAAAIAAAAAAAAAAgAAAAAAAAACAAAAAAAAAAIAAAAAAAAAAgAAAAAAAAACAAAAAAAAAAIAAAAAAAAAAgAAAAAAAAACAAAAAAAAAAIAAAAAAAAAAgAAAAAAAAACAAAAAAAAAAIAAAAAAAAAAgIFPHOm1glfAgU8c6bWCV8AAAAAAAAAAgAAAAAAAAACAAAAAAAAAAIAAAAAAAAAAgAAAAAAAAACAAAAAAAAAAIAAAAAAAAAAgAAAAAAAAACAAAAAAAAAAIAAAAAAAAAAgAAAAAAAAACAAAAAAAAAAIAAAAAAAAAAgAAAAAAAAACAAAAAAAAAAIAAAAAAAAAAgAAAAAAAAACAAAAAAAAAAIAAAAAAAAAAgAAAAAAAAACAAAAAAAAAAIAAAAAAAAAAgAAAAAAAAACAAAAAAAAAAIAAAAAAAAAAgAAAAAAAAACAAAAAAAAAAIAAAAAAAAAAgAAAAAAAAFnAAAAAAAAAWcCNVSLvu4gxwI1VIu+7iDHAAAAAAAAAAIAAAAAAAAAAgAAAAAAAAACAAAAAAAAAAIAAAAAAAAAAgAAAAAAAAACAAAAAAAAAAIAAAAAAAAAAgAAAAAAAAACAAAAAAAAAAIAAAAAAAAAAgAAAAAAAAACAAAAAAAAAAIAAAAAAAAAAgLSq0y+/gVfAtKrTL7+BV8AAAAAAAAAAgAAAAAAAAACAAAAAAAAAAIAAAAAAAAAAgAAAAAAAAACAAAAAAAAAAIAAAAAAAAAAgAAAAAAAAACAAAAAAAAAAIAAAAAAAAAAgAAAAAAAAACAAAAAAAAAAIAAAAAAAAAAgAAAAAAAAACAAAAAAAAAAIAAAAAAAAAAgOcFi3bIgFfA5wWLdsiAV8AAAAAAAAAAgAAAAAAAAACAAAAAAAAAAIAAAAAAAAAAgAAAAAAAAACAAAAAAAAAAIAAAAAAAAAAgAAAAAAAAACAAAAAAAAAAIAAAAAAAAAAgAAAAAAAAFnAAAAAAAAAWcB9HbdQ6oMxwH0dt1DqgzHAAAAAAAAAAIAAAAAAAAAAgAAAAAAAAACAAAAAAAAAAIAAAAAAAAAAgAAAAAAAAACAAAAAAAAAAIAAAAAAAAAAgAAAAAAAAACAAAAAAAAAAIAAAAAAAAAAgAAAAAAAAACAAAAAAAAAAIAAAAAAAAAAgAAAAAAAAACAAAAAAAAAAIAAAAAAAAAAgAAAAAAAAACAAAAAAAAAAIAAAAAAAAAAgAAAAAAAAACAAAAAAAAAAIAAAAAAAAAAgAAAAAAAAACAAAAAAAAAAIAAAAAAAAAAgAAAAAAAAACAAAAAAAAAAIA=",
          "dtype": "f8"
         },
         "yaxis": "y"
        },
        {
         "marker": {
          "color": "rgba(230,98,5,1)"
         },
         "name": "",
         "showlegend": false,
         "type": "bar",
         "x": [
          "2023-01-20T00:00:00.000000000",
          "2023-01-20T00:30:00.000000000",
          "2023-01-20T01:00:00.000000000",
          "2023-01-20T01:30:00.000000000",
          "2023-01-20T02:00:00.000000000",
          "2023-01-20T02:30:00.000000000",
          "2023-01-20T03:00:00.000000000",
          "2023-01-20T03:30:00.000000000",
          "2023-01-20T04:00:00.000000000",
          "2023-01-20T04:30:00.000000000",
          "2023-01-20T05:00:00.000000000",
          "2023-01-20T05:30:00.000000000",
          "2023-01-20T06:00:00.000000000",
          "2023-01-20T06:30:00.000000000",
          "2023-01-20T07:00:00.000000000",
          "2023-01-20T07:30:00.000000000",
          "2023-01-20T08:00:00.000000000",
          "2023-01-20T08:30:00.000000000",
          "2023-01-20T09:00:00.000000000",
          "2023-01-20T09:30:00.000000000",
          "2023-01-20T10:00:00.000000000",
          "2023-01-20T10:30:00.000000000",
          "2023-01-20T11:00:00.000000000",
          "2023-01-20T11:30:00.000000000",
          "2023-01-20T12:00:00.000000000",
          "2023-01-20T12:30:00.000000000",
          "2023-01-20T13:00:00.000000000",
          "2023-01-20T13:30:00.000000000",
          "2023-01-20T14:00:00.000000000",
          "2023-01-20T14:30:00.000000000",
          "2023-01-20T15:00:00.000000000",
          "2023-01-20T15:30:00.000000000",
          "2023-01-20T16:00:00.000000000",
          "2023-01-20T16:30:00.000000000",
          "2023-01-20T17:00:00.000000000",
          "2023-01-20T17:30:00.000000000",
          "2023-01-20T18:00:00.000000000",
          "2023-01-20T18:30:00.000000000",
          "2023-01-20T19:00:00.000000000",
          "2023-01-20T19:30:00.000000000",
          "2023-01-20T20:00:00.000000000",
          "2023-01-20T20:30:00.000000000",
          "2023-01-20T21:00:00.000000000",
          "2023-01-20T21:30:00.000000000",
          "2023-01-20T22:00:00.000000000",
          "2023-01-20T22:30:00.000000000",
          "2023-01-20T23:00:00.000000000",
          "2023-01-20T23:30:00.000000000",
          "2023-01-21T00:00:00.000000000",
          "2023-01-21T00:30:00.000000000",
          "2023-01-21T01:00:00.000000000",
          "2023-01-21T01:30:00.000000000",
          "2023-01-21T02:00:00.000000000",
          "2023-01-21T02:30:00.000000000",
          "2023-01-21T03:00:00.000000000",
          "2023-01-21T03:30:00.000000000",
          "2023-01-21T04:00:00.000000000",
          "2023-01-21T04:30:00.000000000",
          "2023-01-21T05:00:00.000000000",
          "2023-01-21T05:30:00.000000000",
          "2023-01-21T06:00:00.000000000",
          "2023-01-21T06:30:00.000000000",
          "2023-01-21T07:00:00.000000000",
          "2023-01-21T07:30:00.000000000",
          "2023-01-21T08:00:00.000000000",
          "2023-01-21T08:30:00.000000000",
          "2023-01-21T09:00:00.000000000",
          "2023-01-21T09:30:00.000000000",
          "2023-01-21T10:00:00.000000000",
          "2023-01-21T10:30:00.000000000",
          "2023-01-21T11:00:00.000000000",
          "2023-01-21T11:30:00.000000000",
          "2023-01-21T12:00:00.000000000",
          "2023-01-21T12:30:00.000000000",
          "2023-01-21T13:00:00.000000000",
          "2023-01-21T13:30:00.000000000",
          "2023-01-21T14:00:00.000000000",
          "2023-01-21T14:30:00.000000000",
          "2023-01-21T15:00:00.000000000",
          "2023-01-21T15:30:00.000000000",
          "2023-01-21T16:00:00.000000000",
          "2023-01-21T16:30:00.000000000",
          "2023-01-21T17:00:00.000000000",
          "2023-01-21T17:30:00.000000000",
          "2023-01-21T18:00:00.000000000",
          "2023-01-21T18:30:00.000000000",
          "2023-01-21T19:00:00.000000000",
          "2023-01-21T19:30:00.000000000",
          "2023-01-21T20:00:00.000000000",
          "2023-01-21T20:30:00.000000000",
          "2023-01-21T21:00:00.000000000",
          "2023-01-21T21:30:00.000000000",
          "2023-01-21T22:00:00.000000000",
          "2023-01-21T22:30:00.000000000",
          "2023-01-21T23:00:00.000000000",
          "2023-01-21T23:30:00.000000000",
          "2023-01-22T00:00:00.000000000",
          "2023-01-22T00:30:00.000000000",
          "2023-01-22T01:00:00.000000000",
          "2023-01-22T01:30:00.000000000",
          "2023-01-22T02:00:00.000000000",
          "2023-01-22T02:30:00.000000000",
          "2023-01-22T03:00:00.000000000",
          "2023-01-22T03:30:00.000000000",
          "2023-01-22T04:00:00.000000000",
          "2023-01-22T04:30:00.000000000",
          "2023-01-22T05:00:00.000000000",
          "2023-01-22T05:30:00.000000000",
          "2023-01-22T06:00:00.000000000",
          "2023-01-22T06:30:00.000000000",
          "2023-01-22T07:00:00.000000000",
          "2023-01-22T07:30:00.000000000",
          "2023-01-22T08:00:00.000000000",
          "2023-01-22T08:30:00.000000000",
          "2023-01-22T09:00:00.000000000",
          "2023-01-22T09:30:00.000000000",
          "2023-01-22T10:00:00.000000000",
          "2023-01-22T10:30:00.000000000",
          "2023-01-22T11:00:00.000000000",
          "2023-01-22T11:30:00.000000000",
          "2023-01-22T12:00:00.000000000",
          "2023-01-22T12:30:00.000000000",
          "2023-01-22T13:00:00.000000000",
          "2023-01-22T13:30:00.000000000",
          "2023-01-22T14:00:00.000000000",
          "2023-01-22T14:30:00.000000000",
          "2023-01-22T15:00:00.000000000",
          "2023-01-22T15:30:00.000000000",
          "2023-01-22T16:00:00.000000000",
          "2023-01-22T16:30:00.000000000",
          "2023-01-22T17:00:00.000000000",
          "2023-01-22T17:30:00.000000000",
          "2023-01-22T18:00:00.000000000",
          "2023-01-22T18:30:00.000000000",
          "2023-01-22T19:00:00.000000000",
          "2023-01-22T19:30:00.000000000",
          "2023-01-22T20:00:00.000000000",
          "2023-01-22T20:30:00.000000000",
          "2023-01-22T21:00:00.000000000",
          "2023-01-22T21:30:00.000000000",
          "2023-01-22T22:00:00.000000000",
          "2023-01-22T22:30:00.000000000",
          "2023-01-22T23:00:00.000000000",
          "2023-01-22T23:30:00.000000000",
          "2023-01-23T00:00:00.000000000"
         ],
         "xaxis": "x",
         "y": {
          "bdata": "AAAAAAAAAAAAAAAAAAAAAAAAAAAAAAAAAAAAAAAAAAAAAAAAAAAAAAAAAAAAAAAAAAAAAAAAAAAAAAAAAAAAAAAAAAAAAAAAAAAAAAAAAAAAAAAAAAAAAAAAAAAAAAAAAAAAAAAAAAAAAAAAAAAAAAAAAAAAAAAAAAAAAAAAAAAAAAAAAAAAAAAAAAAAAAAAAAAAAAAAAAAAAAAAAAAAAAAAAAAAAAAAAAAAAAAAAAAAAAAAAAAAAAAAAAAAAAAAAAAAAAAAAACWQ4ts5/tDQJZDi2zn+0NAlkOLbOf7Q0CWQ4ts5/tDQAAAAAAAAAAAAAAAAAAAAAAAAAAAAAAAAAAAAAAAAAAAAAAAAAAAAAAAAAAAAAAAAAAAAAAAAAAAAAAAAAAAAAAAAAAAAAAAAAAAAAAAAAAAAAAAAAAAAAAAAAAAAAAAAAAAAAAAAAAAAAAAAAAAAACWQ4ts5/tDQJZDi2zn+0NAlkOLbOf7Q0CWQ4ts5/tDQJZDi2zn+0NAAAAAAAAAAAAAAAAAAAAAAAAAAAAAAAAAAAAAAAAAAAAAAAAAAAAAAAAAAAAAAAAAAAAAAAAAAAAAAAAAAAAAAAAAAAAAAAAAAAAAAAAAAAAAAAAAAAAAAAAAAAAAAAAAAAAAAAAAAAAAAAAAAAAAAAAAAAAAAAAAAAAAAAAAAAAAAAAAAAAAAAAAAAAAAAAAAAAAAAAAAAAAAAAAAAAAAAAAAAAAAAAAAAAAAAAAAAAAAAAAAAAAAAAAAAAAAAAAAAAAAAAAAAAAAAAAAAAAAAAAAAAAAAAAs+pztRX7Q0Cz6nO1FftDQLPqc7UV+0NAs+pztRX7Q0AAAAAAAAAAAAAAAAAAAAAAAAAAAAAAAAAAAAAAAAAAAAAAAAAAAAAAAAAAAAAAAAAAAAAAAAAAAAAAAAAAAAAAAAAAAAAAAAAAAAAAAAAAAAAAAAAAAAAAAAAAAAAAAACz6nO1FftDQLPqc7UV+0NAs+pztRX7Q0Cz6nO1FftDQLPqc7UV+0NAAAAAAAAAAAAAAAAAAAAAAAAAAAAAAAAAAAAAAAAAAAAAAAAAAAAAAAAAAAAAAAAAAAAAAAAAAAAAAAAAAAAAAAAAAAAAAAAA0ZFc/kP6Q0DRkVz+Q/pDQNORXP5D+kNA05Fc/kP6Q0AAAAAAAAAAAAAAAAAAAAAAAAAAAAAAAAAAAAAAAAAAAAAAAAAAAAAAAAAAAAAAAAAAAAAAAAAAAAAAAAAAAAAAAAAAAAAAAAAAAAAAAAAAAAAAAAAAAAAAAAAAAAAAAAAAAAAAAAAAAAAAAAAAAAAAAAAAAAAAAAAAAAAAAAAAAAAAAAAAAAAAAAAAAAAAAAAAAAAAAAAAAAAAAAAAAAAAAAAAAAAAAAAAAAAAAAAAAAAAAAAAAAAAAAAAAAAAAAAAAAAAAAAAAAAAAAAAAAAAAAAAAAAAAAAAAAAAAAAAAAAAAAAAAAAAAAAAAAAAAADSkVz+Q/pDQNKRXP5D+kNA0pFc/kP6Q0DSkVz+Q/pDQNKRXP5D+kNAAAAAAAAAAAA=",
          "dtype": "f8"
         },
         "yaxis": "y"
        },
        {
         "line": {
          "color": "rgba(230,98,5,1)",
          "dash": "dash",
          "width": 2
         },
         "marker": {
          "color": "rgba(230,98,5,1)"
         },
         "mode": "lines",
         "name": "Day Ahead Price",
         "type": "scatter",
         "x": [
          "2023-01-20T00:00:00.000000000",
          "2023-01-20T00:30:00.000000000",
          "2023-01-20T01:00:00.000000000",
          "2023-01-20T01:30:00.000000000",
          "2023-01-20T02:00:00.000000000",
          "2023-01-20T02:30:00.000000000",
          "2023-01-20T03:00:00.000000000",
          "2023-01-20T03:30:00.000000000",
          "2023-01-20T04:00:00.000000000",
          "2023-01-20T04:30:00.000000000",
          "2023-01-20T05:00:00.000000000",
          "2023-01-20T05:30:00.000000000",
          "2023-01-20T06:00:00.000000000",
          "2023-01-20T06:30:00.000000000",
          "2023-01-20T07:00:00.000000000",
          "2023-01-20T07:30:00.000000000",
          "2023-01-20T08:00:00.000000000",
          "2023-01-20T08:30:00.000000000",
          "2023-01-20T09:00:00.000000000",
          "2023-01-20T09:30:00.000000000",
          "2023-01-20T10:00:00.000000000",
          "2023-01-20T10:30:00.000000000",
          "2023-01-20T11:00:00.000000000",
          "2023-01-20T11:30:00.000000000",
          "2023-01-20T12:00:00.000000000",
          "2023-01-20T12:30:00.000000000",
          "2023-01-20T13:00:00.000000000",
          "2023-01-20T13:30:00.000000000",
          "2023-01-20T14:00:00.000000000",
          "2023-01-20T14:30:00.000000000",
          "2023-01-20T15:00:00.000000000",
          "2023-01-20T15:30:00.000000000",
          "2023-01-20T16:00:00.000000000",
          "2023-01-20T16:30:00.000000000",
          "2023-01-20T17:00:00.000000000",
          "2023-01-20T17:30:00.000000000",
          "2023-01-20T18:00:00.000000000",
          "2023-01-20T18:30:00.000000000",
          "2023-01-20T19:00:00.000000000",
          "2023-01-20T19:30:00.000000000",
          "2023-01-20T20:00:00.000000000",
          "2023-01-20T20:30:00.000000000",
          "2023-01-20T21:00:00.000000000",
          "2023-01-20T21:30:00.000000000",
          "2023-01-20T22:00:00.000000000",
          "2023-01-20T22:30:00.000000000",
          "2023-01-20T23:00:00.000000000",
          "2023-01-20T23:30:00.000000000",
          "2023-01-21T00:00:00.000000000",
          "2023-01-21T00:30:00.000000000",
          "2023-01-21T01:00:00.000000000",
          "2023-01-21T01:30:00.000000000",
          "2023-01-21T02:00:00.000000000",
          "2023-01-21T02:30:00.000000000",
          "2023-01-21T03:00:00.000000000",
          "2023-01-21T03:30:00.000000000",
          "2023-01-21T04:00:00.000000000",
          "2023-01-21T04:30:00.000000000",
          "2023-01-21T05:00:00.000000000",
          "2023-01-21T05:30:00.000000000",
          "2023-01-21T06:00:00.000000000",
          "2023-01-21T06:30:00.000000000",
          "2023-01-21T07:00:00.000000000",
          "2023-01-21T07:30:00.000000000",
          "2023-01-21T08:00:00.000000000",
          "2023-01-21T08:30:00.000000000",
          "2023-01-21T09:00:00.000000000",
          "2023-01-21T09:30:00.000000000",
          "2023-01-21T10:00:00.000000000",
          "2023-01-21T10:30:00.000000000",
          "2023-01-21T11:00:00.000000000",
          "2023-01-21T11:30:00.000000000",
          "2023-01-21T12:00:00.000000000",
          "2023-01-21T12:30:00.000000000",
          "2023-01-21T13:00:00.000000000",
          "2023-01-21T13:30:00.000000000",
          "2023-01-21T14:00:00.000000000",
          "2023-01-21T14:30:00.000000000",
          "2023-01-21T15:00:00.000000000",
          "2023-01-21T15:30:00.000000000",
          "2023-01-21T16:00:00.000000000",
          "2023-01-21T16:30:00.000000000",
          "2023-01-21T17:00:00.000000000",
          "2023-01-21T17:30:00.000000000",
          "2023-01-21T18:00:00.000000000",
          "2023-01-21T18:30:00.000000000",
          "2023-01-21T19:00:00.000000000",
          "2023-01-21T19:30:00.000000000",
          "2023-01-21T20:00:00.000000000",
          "2023-01-21T20:30:00.000000000",
          "2023-01-21T21:00:00.000000000",
          "2023-01-21T21:30:00.000000000",
          "2023-01-21T22:00:00.000000000",
          "2023-01-21T22:30:00.000000000",
          "2023-01-21T23:00:00.000000000",
          "2023-01-21T23:30:00.000000000",
          "2023-01-22T00:00:00.000000000",
          "2023-01-22T00:30:00.000000000",
          "2023-01-22T01:00:00.000000000",
          "2023-01-22T01:30:00.000000000",
          "2023-01-22T02:00:00.000000000",
          "2023-01-22T02:30:00.000000000",
          "2023-01-22T03:00:00.000000000",
          "2023-01-22T03:30:00.000000000",
          "2023-01-22T04:00:00.000000000",
          "2023-01-22T04:30:00.000000000",
          "2023-01-22T05:00:00.000000000",
          "2023-01-22T05:30:00.000000000",
          "2023-01-22T06:00:00.000000000",
          "2023-01-22T06:30:00.000000000",
          "2023-01-22T07:00:00.000000000",
          "2023-01-22T07:30:00.000000000",
          "2023-01-22T08:00:00.000000000",
          "2023-01-22T08:30:00.000000000",
          "2023-01-22T09:00:00.000000000",
          "2023-01-22T09:30:00.000000000",
          "2023-01-22T10:00:00.000000000",
          "2023-01-22T10:30:00.000000000",
          "2023-01-22T11:00:00.000000000",
          "2023-01-22T11:30:00.000000000",
          "2023-01-22T12:00:00.000000000",
          "2023-01-22T12:30:00.000000000",
          "2023-01-22T13:00:00.000000000",
          "2023-01-22T13:30:00.000000000",
          "2023-01-22T14:00:00.000000000",
          "2023-01-22T14:30:00.000000000",
          "2023-01-22T15:00:00.000000000",
          "2023-01-22T15:30:00.000000000",
          "2023-01-22T16:00:00.000000000",
          "2023-01-22T16:30:00.000000000",
          "2023-01-22T17:00:00.000000000",
          "2023-01-22T17:30:00.000000000",
          "2023-01-22T18:00:00.000000000",
          "2023-01-22T18:30:00.000000000",
          "2023-01-22T19:00:00.000000000",
          "2023-01-22T19:30:00.000000000",
          "2023-01-22T20:00:00.000000000",
          "2023-01-22T20:30:00.000000000",
          "2023-01-22T21:00:00.000000000",
          "2023-01-22T21:30:00.000000000",
          "2023-01-22T22:00:00.000000000",
          "2023-01-22T22:30:00.000000000",
          "2023-01-22T23:00:00.000000000",
          "2023-01-22T23:30:00.000000000",
          "2023-01-23T00:00:00.000000000"
         ],
         "xaxis": "x",
         "y": {
          "bdata": "rkfhehSeZUCuR+F6FJ5lQNejcD0KZ2JA16NwPQpnYkA9CtejcJViQD0K16NwlWJAj8L1KFzPX0CPwvUoXM9fQHsUrkfhwmBAexSuR+HCYEDD9Shcj1JgQMP1KFyPUmBA7FG4HoVTYEDsUbgehVNgQLgehetRIGBAuB6F61EgYEAAAAAAACBgQAAAAAAAIGBAAAAAAABAYEAAAAAAAEBgQB+F61G4fmJAH4XrUbh+YkDD9Shcj7JkQMP1KFyPsmRAexSuR+H6Z0B7FK5H4fpnQM3MzMzMfGhAzczMzMx8aEDhehSuR+lnQOF6FK5H6WdAuB6F61EwZkC4HoXrUTBmQMP1KFyPgmRAw/UoXI+CZEA9CtejcJ1jQD0K16NwnWNA9ihcj8KVY0D2KFyPwpVjQNejcD0KJ2VA16NwPQonZUD2KFyPwhVmQPYoXI/CFWZAMzMzMzOTaEAzMzMzM5NoQEjhehSux2hASOF6FK7HaEB7FK5H4SpoQHsUrkfhKmhAZmZmZmbuZkBmZmZmZu5mQOxRuB6Fo2NA7FG4HoWjY0CamZmZmRFjQJqZmZmZEWNAFK5H4XrMYUAUrkfhesxhQPYoXI/ChWFA9ihcj8KFYUCPwvUoXAdhQI/C9ShcB2FAuB6F61EIYUC4HoXrUQhhQDMzMzMzO2BAMzMzMzM7YECuR+F6FAZgQK5H4XoUBmBAKVyPwvUAYEApXI/C9QBgQKRwPQrXK2BApHA9CtcrYEDhehSuRwlhQOF6FK5HCWFACtejcD2iYkAK16NwPaJiQOF6FK5HsWNA4XoUrkexY0CamZmZmdFjQJqZmZmZ0WNAUrgehevZYkBSuB6F69liQB+F61G4bmFAH4XrUbhuYUCuR+F6FI5gQK5H4XoUjmBAPQrXo3BlYEA9CtejcGVgQEjhehSuv2BASOF6FK6/YEDNzMzMzBxiQM3MzMzMHGJAexSuR+FaZEB7FK5H4VpkQK5H4XoUdmhArkfhehR2aECuR+F6FF5mQK5H4XoUXmZAexSuR+EyY0B7FK5H4TJjQHsUrkfhimJAexSuR+GKYkBSuB6F65FhQFK4HoXrkWFAexSuR+FiYEB7FK5H4WJgQArXo3A9wmJACtejcD3CYkDXo3A9Co9iQNejcD0Kj2JAAAAAAAAAYkAAAAAAAABiQM3MzMzMXGFAzczMzMxcYUCPwvUoXF9fQI/C9ShcX19A16NwPQoXXkDXo3A9ChdeQLgehetRQGBAuB6F61FAYEBmZmZmZtZgQGZmZmZm1mBAexSuR+H6YEB7FK5H4fpgQDMzMzMzg2FAMzMzMzODYUAUrkfherRiQBSuR+F6tGJAPQrXo3DNZEA9CtejcM1kQK5H4XoUBmRArkfhehQGZED2KFyPwt1lQPYoXI/C3WVAKVyPwvVoZ0ApXI/C9WhnQDMzMzMzI2ZAMzMzMzMjZkApXI/C9eBlQClcj8L14GVAFK5H4Xp8aUAUrkfhenxpQLgehetRwGxAuB6F61HAbEA9CtejcA1rQD0K16NwDWtACtejcD2yaEA=",
          "dtype": "f8"
         },
         "yaxis": "y2"
        }
       ],
       "layout": {
        "barmode": "stack",
        "template": {
         "data": {
          "bar": [
           {
            "error_x": {
             "color": "#2a3f5f"
            },
            "error_y": {
             "color": "#2a3f5f"
            },
            "marker": {
             "line": {
              "color": "#E5ECF6",
              "width": 0.5
             },
             "pattern": {
              "fillmode": "overlay",
              "size": 10,
              "solidity": 0.2
             }
            },
            "type": "bar"
           }
          ],
          "barpolar": [
           {
            "marker": {
             "line": {
              "color": "#E5ECF6",
              "width": 0.5
             },
             "pattern": {
              "fillmode": "overlay",
              "size": 10,
              "solidity": 0.2
             }
            },
            "type": "barpolar"
           }
          ],
          "carpet": [
           {
            "aaxis": {
             "endlinecolor": "#2a3f5f",
             "gridcolor": "white",
             "linecolor": "white",
             "minorgridcolor": "white",
             "startlinecolor": "#2a3f5f"
            },
            "baxis": {
             "endlinecolor": "#2a3f5f",
             "gridcolor": "white",
             "linecolor": "white",
             "minorgridcolor": "white",
             "startlinecolor": "#2a3f5f"
            },
            "type": "carpet"
           }
          ],
          "choropleth": [
           {
            "colorbar": {
             "outlinewidth": 0,
             "ticks": ""
            },
            "type": "choropleth"
           }
          ],
          "contour": [
           {
            "colorbar": {
             "outlinewidth": 0,
             "ticks": ""
            },
            "colorscale": [
             [
              0,
              "#0d0887"
             ],
             [
              0.1111111111111111,
              "#46039f"
             ],
             [
              0.2222222222222222,
              "#7201a8"
             ],
             [
              0.3333333333333333,
              "#9c179e"
             ],
             [
              0.4444444444444444,
              "#bd3786"
             ],
             [
              0.5555555555555556,
              "#d8576b"
             ],
             [
              0.6666666666666666,
              "#ed7953"
             ],
             [
              0.7777777777777778,
              "#fb9f3a"
             ],
             [
              0.8888888888888888,
              "#fdca26"
             ],
             [
              1,
              "#f0f921"
             ]
            ],
            "type": "contour"
           }
          ],
          "contourcarpet": [
           {
            "colorbar": {
             "outlinewidth": 0,
             "ticks": ""
            },
            "type": "contourcarpet"
           }
          ],
          "heatmap": [
           {
            "colorbar": {
             "outlinewidth": 0,
             "ticks": ""
            },
            "colorscale": [
             [
              0,
              "#0d0887"
             ],
             [
              0.1111111111111111,
              "#46039f"
             ],
             [
              0.2222222222222222,
              "#7201a8"
             ],
             [
              0.3333333333333333,
              "#9c179e"
             ],
             [
              0.4444444444444444,
              "#bd3786"
             ],
             [
              0.5555555555555556,
              "#d8576b"
             ],
             [
              0.6666666666666666,
              "#ed7953"
             ],
             [
              0.7777777777777778,
              "#fb9f3a"
             ],
             [
              0.8888888888888888,
              "#fdca26"
             ],
             [
              1,
              "#f0f921"
             ]
            ],
            "type": "heatmap"
           }
          ],
          "histogram": [
           {
            "marker": {
             "pattern": {
              "fillmode": "overlay",
              "size": 10,
              "solidity": 0.2
             }
            },
            "type": "histogram"
           }
          ],
          "histogram2d": [
           {
            "colorbar": {
             "outlinewidth": 0,
             "ticks": ""
            },
            "colorscale": [
             [
              0,
              "#0d0887"
             ],
             [
              0.1111111111111111,
              "#46039f"
             ],
             [
              0.2222222222222222,
              "#7201a8"
             ],
             [
              0.3333333333333333,
              "#9c179e"
             ],
             [
              0.4444444444444444,
              "#bd3786"
             ],
             [
              0.5555555555555556,
              "#d8576b"
             ],
             [
              0.6666666666666666,
              "#ed7953"
             ],
             [
              0.7777777777777778,
              "#fb9f3a"
             ],
             [
              0.8888888888888888,
              "#fdca26"
             ],
             [
              1,
              "#f0f921"
             ]
            ],
            "type": "histogram2d"
           }
          ],
          "histogram2dcontour": [
           {
            "colorbar": {
             "outlinewidth": 0,
             "ticks": ""
            },
            "colorscale": [
             [
              0,
              "#0d0887"
             ],
             [
              0.1111111111111111,
              "#46039f"
             ],
             [
              0.2222222222222222,
              "#7201a8"
             ],
             [
              0.3333333333333333,
              "#9c179e"
             ],
             [
              0.4444444444444444,
              "#bd3786"
             ],
             [
              0.5555555555555556,
              "#d8576b"
             ],
             [
              0.6666666666666666,
              "#ed7953"
             ],
             [
              0.7777777777777778,
              "#fb9f3a"
             ],
             [
              0.8888888888888888,
              "#fdca26"
             ],
             [
              1,
              "#f0f921"
             ]
            ],
            "type": "histogram2dcontour"
           }
          ],
          "mesh3d": [
           {
            "colorbar": {
             "outlinewidth": 0,
             "ticks": ""
            },
            "type": "mesh3d"
           }
          ],
          "parcoords": [
           {
            "line": {
             "colorbar": {
              "outlinewidth": 0,
              "ticks": ""
             }
            },
            "type": "parcoords"
           }
          ],
          "pie": [
           {
            "automargin": true,
            "type": "pie"
           }
          ],
          "scatter": [
           {
            "fillpattern": {
             "fillmode": "overlay",
             "size": 10,
             "solidity": 0.2
            },
            "type": "scatter"
           }
          ],
          "scatter3d": [
           {
            "line": {
             "colorbar": {
              "outlinewidth": 0,
              "ticks": ""
             }
            },
            "marker": {
             "colorbar": {
              "outlinewidth": 0,
              "ticks": ""
             }
            },
            "type": "scatter3d"
           }
          ],
          "scattercarpet": [
           {
            "marker": {
             "colorbar": {
              "outlinewidth": 0,
              "ticks": ""
             }
            },
            "type": "scattercarpet"
           }
          ],
          "scattergeo": [
           {
            "marker": {
             "colorbar": {
              "outlinewidth": 0,
              "ticks": ""
             }
            },
            "type": "scattergeo"
           }
          ],
          "scattergl": [
           {
            "marker": {
             "colorbar": {
              "outlinewidth": 0,
              "ticks": ""
             }
            },
            "type": "scattergl"
           }
          ],
          "scattermap": [
           {
            "marker": {
             "colorbar": {
              "outlinewidth": 0,
              "ticks": ""
             }
            },
            "type": "scattermap"
           }
          ],
          "scattermapbox": [
           {
            "marker": {
             "colorbar": {
              "outlinewidth": 0,
              "ticks": ""
             }
            },
            "type": "scattermapbox"
           }
          ],
          "scatterpolar": [
           {
            "marker": {
             "colorbar": {
              "outlinewidth": 0,
              "ticks": ""
             }
            },
            "type": "scatterpolar"
           }
          ],
          "scatterpolargl": [
           {
            "marker": {
             "colorbar": {
              "outlinewidth": 0,
              "ticks": ""
             }
            },
            "type": "scatterpolargl"
           }
          ],
          "scatterternary": [
           {
            "marker": {
             "colorbar": {
              "outlinewidth": 0,
              "ticks": ""
             }
            },
            "type": "scatterternary"
           }
          ],
          "surface": [
           {
            "colorbar": {
             "outlinewidth": 0,
             "ticks": ""
            },
            "colorscale": [
             [
              0,
              "#0d0887"
             ],
             [
              0.1111111111111111,
              "#46039f"
             ],
             [
              0.2222222222222222,
              "#7201a8"
             ],
             [
              0.3333333333333333,
              "#9c179e"
             ],
             [
              0.4444444444444444,
              "#bd3786"
             ],
             [
              0.5555555555555556,
              "#d8576b"
             ],
             [
              0.6666666666666666,
              "#ed7953"
             ],
             [
              0.7777777777777778,
              "#fb9f3a"
             ],
             [
              0.8888888888888888,
              "#fdca26"
             ],
             [
              1,
              "#f0f921"
             ]
            ],
            "type": "surface"
           }
          ],
          "table": [
           {
            "cells": {
             "fill": {
              "color": "#EBF0F8"
             },
             "line": {
              "color": "white"
             }
            },
            "header": {
             "fill": {
              "color": "#C8D4E3"
             },
             "line": {
              "color": "white"
             }
            },
            "type": "table"
           }
          ]
         },
         "layout": {
          "annotationdefaults": {
           "arrowcolor": "#2a3f5f",
           "arrowhead": 0,
           "arrowwidth": 1
          },
          "autotypenumbers": "strict",
          "coloraxis": {
           "colorbar": {
            "outlinewidth": 0,
            "ticks": ""
           }
          },
          "colorscale": {
           "diverging": [
            [
             0,
             "#8e0152"
            ],
            [
             0.1,
             "#c51b7d"
            ],
            [
             0.2,
             "#de77ae"
            ],
            [
             0.3,
             "#f1b6da"
            ],
            [
             0.4,
             "#fde0ef"
            ],
            [
             0.5,
             "#f7f7f7"
            ],
            [
             0.6,
             "#e6f5d0"
            ],
            [
             0.7,
             "#b8e186"
            ],
            [
             0.8,
             "#7fbc41"
            ],
            [
             0.9,
             "#4d9221"
            ],
            [
             1,
             "#276419"
            ]
           ],
           "sequential": [
            [
             0,
             "#0d0887"
            ],
            [
             0.1111111111111111,
             "#46039f"
            ],
            [
             0.2222222222222222,
             "#7201a8"
            ],
            [
             0.3333333333333333,
             "#9c179e"
            ],
            [
             0.4444444444444444,
             "#bd3786"
            ],
            [
             0.5555555555555556,
             "#d8576b"
            ],
            [
             0.6666666666666666,
             "#ed7953"
            ],
            [
             0.7777777777777778,
             "#fb9f3a"
            ],
            [
             0.8888888888888888,
             "#fdca26"
            ],
            [
             1,
             "#f0f921"
            ]
           ],
           "sequentialminus": [
            [
             0,
             "#0d0887"
            ],
            [
             0.1111111111111111,
             "#46039f"
            ],
            [
             0.2222222222222222,
             "#7201a8"
            ],
            [
             0.3333333333333333,
             "#9c179e"
            ],
            [
             0.4444444444444444,
             "#bd3786"
            ],
            [
             0.5555555555555556,
             "#d8576b"
            ],
            [
             0.6666666666666666,
             "#ed7953"
            ],
            [
             0.7777777777777778,
             "#fb9f3a"
            ],
            [
             0.8888888888888888,
             "#fdca26"
            ],
            [
             1,
             "#f0f921"
            ]
           ]
          },
          "colorway": [
           "#636efa",
           "#EF553B",
           "#00cc96",
           "#ab63fa",
           "#FFA15A",
           "#19d3f3",
           "#FF6692",
           "#B6E880",
           "#FF97FF",
           "#FECB52"
          ],
          "font": {
           "color": "#2a3f5f"
          },
          "geo": {
           "bgcolor": "white",
           "lakecolor": "white",
           "landcolor": "#E5ECF6",
           "showlakes": true,
           "showland": true,
           "subunitcolor": "white"
          },
          "hoverlabel": {
           "align": "left"
          },
          "hovermode": "closest",
          "mapbox": {
           "style": "light"
          },
          "paper_bgcolor": "white",
          "plot_bgcolor": "#E5ECF6",
          "polar": {
           "angularaxis": {
            "gridcolor": "white",
            "linecolor": "white",
            "ticks": ""
           },
           "bgcolor": "#E5ECF6",
           "radialaxis": {
            "gridcolor": "white",
            "linecolor": "white",
            "ticks": ""
           }
          },
          "scene": {
           "xaxis": {
            "backgroundcolor": "#E5ECF6",
            "gridcolor": "white",
            "gridwidth": 2,
            "linecolor": "white",
            "showbackground": true,
            "ticks": "",
            "zerolinecolor": "white"
           },
           "yaxis": {
            "backgroundcolor": "#E5ECF6",
            "gridcolor": "white",
            "gridwidth": 2,
            "linecolor": "white",
            "showbackground": true,
            "ticks": "",
            "zerolinecolor": "white"
           },
           "zaxis": {
            "backgroundcolor": "#E5ECF6",
            "gridcolor": "white",
            "gridwidth": 2,
            "linecolor": "white",
            "showbackground": true,
            "ticks": "",
            "zerolinecolor": "white"
           }
          },
          "shapedefaults": {
           "line": {
            "color": "#2a3f5f"
           }
          },
          "ternary": {
           "aaxis": {
            "gridcolor": "white",
            "linecolor": "white",
            "ticks": ""
           },
           "baxis": {
            "gridcolor": "white",
            "linecolor": "white",
            "ticks": ""
           },
           "bgcolor": "#E5ECF6",
           "caxis": {
            "gridcolor": "white",
            "linecolor": "white",
            "ticks": ""
           }
          },
          "title": {
           "x": 0.05
          },
          "xaxis": {
           "automargin": true,
           "gridcolor": "white",
           "linecolor": "white",
           "ticks": "",
           "title": {
            "standoff": 15
           },
           "zerolinecolor": "white",
           "zerolinewidth": 2
          },
          "yaxis": {
           "automargin": true,
           "gridcolor": "white",
           "linecolor": "white",
           "ticks": "",
           "title": {
            "standoff": 15
           },
           "zerolinecolor": "white",
           "zerolinewidth": 2
          }
         }
        },
        "xaxis": {
         "anchor": "y",
         "domain": [
          0,
          0.94
         ]
        },
        "xaxis2": {
         "anchor": "y3",
         "domain": [
          0,
          0.94
         ]
        },
        "xaxis3": {
         "anchor": "y5",
         "domain": [
          0,
          0.94
         ]
        },
        "yaxis": {
         "anchor": "x",
         "domain": [
          0.7333333333333333,
          1
         ],
         "title": {
          "text": "Power (MW)"
         }
        },
        "yaxis2": {
         "anchor": "x",
         "overlaying": "y",
         "side": "right",
         "title": {
          "text": "Price (£/MWh)"
         }
        },
        "yaxis3": {
         "anchor": "x2",
         "domain": [
          0.36666666666666664,
          0.6333333333333333
         ]
        },
        "yaxis4": {
         "anchor": "x2",
         "overlaying": "y3",
         "side": "right"
        },
        "yaxis5": {
         "anchor": "x3",
         "domain": [
          0,
          0.26666666666666666
         ]
        },
        "yaxis6": {
         "anchor": "x3",
         "overlaying": "y5",
         "side": "right"
        }
       }
      }
     },
     "metadata": {},
     "output_type": "display_data"
    }
   ],
   "source": [
    "\n",
    "# Import Export and BM Actions\n",
    "trace1 = go.Bar(x=random_period.index,\n",
    "                y=-random_period[\"import_da_vol\"],\n",
    "                name='Day Ahead',\n",
    "                marker_color=graph_primary,\n",
    "                yaxis='y1'\n",
    "                    )\n",
    "trace2 = go.Bar(x=random_period.index,\n",
    "                y=random_period[\"export_da_vol\"],\n",
    "                name='',\n",
    "                marker_color=graph_primary,\n",
    "                yaxis='y1',\n",
    "                showlegend=False\n",
    "                    )\n",
    "trace3 = go.Scatter(x=random_period.index,\n",
    "                        y=random_period[\"day_ahead_price\"],\n",
    "                        name='Day Ahead Price',\n",
    "                        mode='lines',\n",
    "                        marker_color=graph_primary,\n",
    "                        line=dict(width=2, \n",
    "                        color=graph_primary, \n",
    "                        dash='dash'),\n",
    "                        yaxis='y2')\n",
    "data = [trace1,trace2]\n",
    "\n",
    "fig.update_layout(barmode='stack')\n",
    "\n",
    "fig.update_yaxes(title_text=\"Power (MW)\",row=1,col=1)   \n",
    "fig.update_yaxes(title_text= \"Price (£/MWh)\",row=1,col=1,secondary_y=True) \n",
    "for trace in data:\n",
    "    fig.add_trace(trace,row=1,col=1)\n",
    "fig.add_trace(trace3,row=1,col=1,secondary_y=True)"
   ]
  },
  {
   "cell_type": "code",
   "execution_count": 104,
   "metadata": {},
   "outputs": [
    {
     "data": {
      "application/vnd.plotly.v1+json": {
       "config": {
        "plotlyServerURL": "https://plot.ly"
       },
       "data": [
        {
         "marker": {
          "color": "rgba(230,98,5,1)"
         },
         "name": "Day Ahead",
         "type": "bar",
         "x": [
          "2023-01-20T00:00:00.000000000",
          "2023-01-20T00:30:00.000000000",
          "2023-01-20T01:00:00.000000000",
          "2023-01-20T01:30:00.000000000",
          "2023-01-20T02:00:00.000000000",
          "2023-01-20T02:30:00.000000000",
          "2023-01-20T03:00:00.000000000",
          "2023-01-20T03:30:00.000000000",
          "2023-01-20T04:00:00.000000000",
          "2023-01-20T04:30:00.000000000",
          "2023-01-20T05:00:00.000000000",
          "2023-01-20T05:30:00.000000000",
          "2023-01-20T06:00:00.000000000",
          "2023-01-20T06:30:00.000000000",
          "2023-01-20T07:00:00.000000000",
          "2023-01-20T07:30:00.000000000",
          "2023-01-20T08:00:00.000000000",
          "2023-01-20T08:30:00.000000000",
          "2023-01-20T09:00:00.000000000",
          "2023-01-20T09:30:00.000000000",
          "2023-01-20T10:00:00.000000000",
          "2023-01-20T10:30:00.000000000",
          "2023-01-20T11:00:00.000000000",
          "2023-01-20T11:30:00.000000000",
          "2023-01-20T12:00:00.000000000",
          "2023-01-20T12:30:00.000000000",
          "2023-01-20T13:00:00.000000000",
          "2023-01-20T13:30:00.000000000",
          "2023-01-20T14:00:00.000000000",
          "2023-01-20T14:30:00.000000000",
          "2023-01-20T15:00:00.000000000",
          "2023-01-20T15:30:00.000000000",
          "2023-01-20T16:00:00.000000000",
          "2023-01-20T16:30:00.000000000",
          "2023-01-20T17:00:00.000000000",
          "2023-01-20T17:30:00.000000000",
          "2023-01-20T18:00:00.000000000",
          "2023-01-20T18:30:00.000000000",
          "2023-01-20T19:00:00.000000000",
          "2023-01-20T19:30:00.000000000",
          "2023-01-20T20:00:00.000000000",
          "2023-01-20T20:30:00.000000000",
          "2023-01-20T21:00:00.000000000",
          "2023-01-20T21:30:00.000000000",
          "2023-01-20T22:00:00.000000000",
          "2023-01-20T22:30:00.000000000",
          "2023-01-20T23:00:00.000000000",
          "2023-01-20T23:30:00.000000000",
          "2023-01-21T00:00:00.000000000",
          "2023-01-21T00:30:00.000000000",
          "2023-01-21T01:00:00.000000000",
          "2023-01-21T01:30:00.000000000",
          "2023-01-21T02:00:00.000000000",
          "2023-01-21T02:30:00.000000000",
          "2023-01-21T03:00:00.000000000",
          "2023-01-21T03:30:00.000000000",
          "2023-01-21T04:00:00.000000000",
          "2023-01-21T04:30:00.000000000",
          "2023-01-21T05:00:00.000000000",
          "2023-01-21T05:30:00.000000000",
          "2023-01-21T06:00:00.000000000",
          "2023-01-21T06:30:00.000000000",
          "2023-01-21T07:00:00.000000000",
          "2023-01-21T07:30:00.000000000",
          "2023-01-21T08:00:00.000000000",
          "2023-01-21T08:30:00.000000000",
          "2023-01-21T09:00:00.000000000",
          "2023-01-21T09:30:00.000000000",
          "2023-01-21T10:00:00.000000000",
          "2023-01-21T10:30:00.000000000",
          "2023-01-21T11:00:00.000000000",
          "2023-01-21T11:30:00.000000000",
          "2023-01-21T12:00:00.000000000",
          "2023-01-21T12:30:00.000000000",
          "2023-01-21T13:00:00.000000000",
          "2023-01-21T13:30:00.000000000",
          "2023-01-21T14:00:00.000000000",
          "2023-01-21T14:30:00.000000000",
          "2023-01-21T15:00:00.000000000",
          "2023-01-21T15:30:00.000000000",
          "2023-01-21T16:00:00.000000000",
          "2023-01-21T16:30:00.000000000",
          "2023-01-21T17:00:00.000000000",
          "2023-01-21T17:30:00.000000000",
          "2023-01-21T18:00:00.000000000",
          "2023-01-21T18:30:00.000000000",
          "2023-01-21T19:00:00.000000000",
          "2023-01-21T19:30:00.000000000",
          "2023-01-21T20:00:00.000000000",
          "2023-01-21T20:30:00.000000000",
          "2023-01-21T21:00:00.000000000",
          "2023-01-21T21:30:00.000000000",
          "2023-01-21T22:00:00.000000000",
          "2023-01-21T22:30:00.000000000",
          "2023-01-21T23:00:00.000000000",
          "2023-01-21T23:30:00.000000000",
          "2023-01-22T00:00:00.000000000",
          "2023-01-22T00:30:00.000000000",
          "2023-01-22T01:00:00.000000000",
          "2023-01-22T01:30:00.000000000",
          "2023-01-22T02:00:00.000000000",
          "2023-01-22T02:30:00.000000000",
          "2023-01-22T03:00:00.000000000",
          "2023-01-22T03:30:00.000000000",
          "2023-01-22T04:00:00.000000000",
          "2023-01-22T04:30:00.000000000",
          "2023-01-22T05:00:00.000000000",
          "2023-01-22T05:30:00.000000000",
          "2023-01-22T06:00:00.000000000",
          "2023-01-22T06:30:00.000000000",
          "2023-01-22T07:00:00.000000000",
          "2023-01-22T07:30:00.000000000",
          "2023-01-22T08:00:00.000000000",
          "2023-01-22T08:30:00.000000000",
          "2023-01-22T09:00:00.000000000",
          "2023-01-22T09:30:00.000000000",
          "2023-01-22T10:00:00.000000000",
          "2023-01-22T10:30:00.000000000",
          "2023-01-22T11:00:00.000000000",
          "2023-01-22T11:30:00.000000000",
          "2023-01-22T12:00:00.000000000",
          "2023-01-22T12:30:00.000000000",
          "2023-01-22T13:00:00.000000000",
          "2023-01-22T13:30:00.000000000",
          "2023-01-22T14:00:00.000000000",
          "2023-01-22T14:30:00.000000000",
          "2023-01-22T15:00:00.000000000",
          "2023-01-22T15:30:00.000000000",
          "2023-01-22T16:00:00.000000000",
          "2023-01-22T16:30:00.000000000",
          "2023-01-22T17:00:00.000000000",
          "2023-01-22T17:30:00.000000000",
          "2023-01-22T18:00:00.000000000",
          "2023-01-22T18:30:00.000000000",
          "2023-01-22T19:00:00.000000000",
          "2023-01-22T19:30:00.000000000",
          "2023-01-22T20:00:00.000000000",
          "2023-01-22T20:30:00.000000000",
          "2023-01-22T21:00:00.000000000",
          "2023-01-22T21:30:00.000000000",
          "2023-01-22T22:00:00.000000000",
          "2023-01-22T22:30:00.000000000",
          "2023-01-22T23:00:00.000000000",
          "2023-01-22T23:30:00.000000000",
          "2023-01-23T00:00:00.000000000"
         ],
         "xaxis": "x",
         "y": {
          "bdata": "AAAAAAAAAIAAAAAAAAAAgAAAAAAAAACAAAAAAAAAAIAAAAAAAAAAgAAAAAAAAACAAAAAAAAAAIAAAAAAAAAAgAAAAAAAAACAAAAAAAAAAIAAAAAAAAAAgAAAAAAAAACAAAAAAAAAAIAAAAAAAAAAgAAAAAAAAACAAAAAAAAAWcAAAAAAAABZwIuNjY2NjTHAi42NjY2NMcAAAAAAAAAAgAAAAAAAAACAAAAAAAAAAIAAAAAAAAAAgAAAAAAAAACAAAAAAAAAAIAAAAAAAAAAgAAAAAAAAACAAAAAAAAAAIAAAAAAAAAAgAAAAAAAAACAAAAAAAAAAIAAAAAAAAAAgAAAAAAAAACAAAAAAAAAAIAAAAAAAAAAgIFPHOm1glfAgU8c6bWCV8AAAAAAAAAAgAAAAAAAAACAAAAAAAAAAIAAAAAAAAAAgAAAAAAAAACAAAAAAAAAAIAAAAAAAAAAgAAAAAAAAACAAAAAAAAAAIAAAAAAAAAAgAAAAAAAAACAAAAAAAAAAIAAAAAAAAAAgAAAAAAAAACAAAAAAAAAAIAAAAAAAAAAgAAAAAAAAACAAAAAAAAAAIAAAAAAAAAAgAAAAAAAAACAAAAAAAAAAIAAAAAAAAAAgAAAAAAAAACAAAAAAAAAAIAAAAAAAAAAgAAAAAAAAACAAAAAAAAAAIAAAAAAAAAAgAAAAAAAAFnAAAAAAAAAWcCNVSLvu4gxwI1VIu+7iDHAAAAAAAAAAIAAAAAAAAAAgAAAAAAAAACAAAAAAAAAAIAAAAAAAAAAgAAAAAAAAACAAAAAAAAAAIAAAAAAAAAAgAAAAAAAAACAAAAAAAAAAIAAAAAAAAAAgAAAAAAAAACAAAAAAAAAAIAAAAAAAAAAgLSq0y+/gVfAtKrTL7+BV8AAAAAAAAAAgAAAAAAAAACAAAAAAAAAAIAAAAAAAAAAgAAAAAAAAACAAAAAAAAAAIAAAAAAAAAAgAAAAAAAAACAAAAAAAAAAIAAAAAAAAAAgAAAAAAAAACAAAAAAAAAAIAAAAAAAAAAgAAAAAAAAACAAAAAAAAAAIAAAAAAAAAAgOcFi3bIgFfA5wWLdsiAV8AAAAAAAAAAgAAAAAAAAACAAAAAAAAAAIAAAAAAAAAAgAAAAAAAAACAAAAAAAAAAIAAAAAAAAAAgAAAAAAAAACAAAAAAAAAAIAAAAAAAAAAgAAAAAAAAFnAAAAAAAAAWcB9HbdQ6oMxwH0dt1DqgzHAAAAAAAAAAIAAAAAAAAAAgAAAAAAAAACAAAAAAAAAAIAAAAAAAAAAgAAAAAAAAACAAAAAAAAAAIAAAAAAAAAAgAAAAAAAAACAAAAAAAAAAIAAAAAAAAAAgAAAAAAAAACAAAAAAAAAAIAAAAAAAAAAgAAAAAAAAACAAAAAAAAAAIAAAAAAAAAAgAAAAAAAAACAAAAAAAAAAIAAAAAAAAAAgAAAAAAAAACAAAAAAAAAAIAAAAAAAAAAgAAAAAAAAACAAAAAAAAAAIAAAAAAAAAAgAAAAAAAAACAAAAAAAAAAIA=",
          "dtype": "f8"
         },
         "yaxis": "y"
        },
        {
         "marker": {
          "color": "rgba(230,98,5,1)"
         },
         "name": "",
         "showlegend": false,
         "type": "bar",
         "x": [
          "2023-01-20T00:00:00.000000000",
          "2023-01-20T00:30:00.000000000",
          "2023-01-20T01:00:00.000000000",
          "2023-01-20T01:30:00.000000000",
          "2023-01-20T02:00:00.000000000",
          "2023-01-20T02:30:00.000000000",
          "2023-01-20T03:00:00.000000000",
          "2023-01-20T03:30:00.000000000",
          "2023-01-20T04:00:00.000000000",
          "2023-01-20T04:30:00.000000000",
          "2023-01-20T05:00:00.000000000",
          "2023-01-20T05:30:00.000000000",
          "2023-01-20T06:00:00.000000000",
          "2023-01-20T06:30:00.000000000",
          "2023-01-20T07:00:00.000000000",
          "2023-01-20T07:30:00.000000000",
          "2023-01-20T08:00:00.000000000",
          "2023-01-20T08:30:00.000000000",
          "2023-01-20T09:00:00.000000000",
          "2023-01-20T09:30:00.000000000",
          "2023-01-20T10:00:00.000000000",
          "2023-01-20T10:30:00.000000000",
          "2023-01-20T11:00:00.000000000",
          "2023-01-20T11:30:00.000000000",
          "2023-01-20T12:00:00.000000000",
          "2023-01-20T12:30:00.000000000",
          "2023-01-20T13:00:00.000000000",
          "2023-01-20T13:30:00.000000000",
          "2023-01-20T14:00:00.000000000",
          "2023-01-20T14:30:00.000000000",
          "2023-01-20T15:00:00.000000000",
          "2023-01-20T15:30:00.000000000",
          "2023-01-20T16:00:00.000000000",
          "2023-01-20T16:30:00.000000000",
          "2023-01-20T17:00:00.000000000",
          "2023-01-20T17:30:00.000000000",
          "2023-01-20T18:00:00.000000000",
          "2023-01-20T18:30:00.000000000",
          "2023-01-20T19:00:00.000000000",
          "2023-01-20T19:30:00.000000000",
          "2023-01-20T20:00:00.000000000",
          "2023-01-20T20:30:00.000000000",
          "2023-01-20T21:00:00.000000000",
          "2023-01-20T21:30:00.000000000",
          "2023-01-20T22:00:00.000000000",
          "2023-01-20T22:30:00.000000000",
          "2023-01-20T23:00:00.000000000",
          "2023-01-20T23:30:00.000000000",
          "2023-01-21T00:00:00.000000000",
          "2023-01-21T00:30:00.000000000",
          "2023-01-21T01:00:00.000000000",
          "2023-01-21T01:30:00.000000000",
          "2023-01-21T02:00:00.000000000",
          "2023-01-21T02:30:00.000000000",
          "2023-01-21T03:00:00.000000000",
          "2023-01-21T03:30:00.000000000",
          "2023-01-21T04:00:00.000000000",
          "2023-01-21T04:30:00.000000000",
          "2023-01-21T05:00:00.000000000",
          "2023-01-21T05:30:00.000000000",
          "2023-01-21T06:00:00.000000000",
          "2023-01-21T06:30:00.000000000",
          "2023-01-21T07:00:00.000000000",
          "2023-01-21T07:30:00.000000000",
          "2023-01-21T08:00:00.000000000",
          "2023-01-21T08:30:00.000000000",
          "2023-01-21T09:00:00.000000000",
          "2023-01-21T09:30:00.000000000",
          "2023-01-21T10:00:00.000000000",
          "2023-01-21T10:30:00.000000000",
          "2023-01-21T11:00:00.000000000",
          "2023-01-21T11:30:00.000000000",
          "2023-01-21T12:00:00.000000000",
          "2023-01-21T12:30:00.000000000",
          "2023-01-21T13:00:00.000000000",
          "2023-01-21T13:30:00.000000000",
          "2023-01-21T14:00:00.000000000",
          "2023-01-21T14:30:00.000000000",
          "2023-01-21T15:00:00.000000000",
          "2023-01-21T15:30:00.000000000",
          "2023-01-21T16:00:00.000000000",
          "2023-01-21T16:30:00.000000000",
          "2023-01-21T17:00:00.000000000",
          "2023-01-21T17:30:00.000000000",
          "2023-01-21T18:00:00.000000000",
          "2023-01-21T18:30:00.000000000",
          "2023-01-21T19:00:00.000000000",
          "2023-01-21T19:30:00.000000000",
          "2023-01-21T20:00:00.000000000",
          "2023-01-21T20:30:00.000000000",
          "2023-01-21T21:00:00.000000000",
          "2023-01-21T21:30:00.000000000",
          "2023-01-21T22:00:00.000000000",
          "2023-01-21T22:30:00.000000000",
          "2023-01-21T23:00:00.000000000",
          "2023-01-21T23:30:00.000000000",
          "2023-01-22T00:00:00.000000000",
          "2023-01-22T00:30:00.000000000",
          "2023-01-22T01:00:00.000000000",
          "2023-01-22T01:30:00.000000000",
          "2023-01-22T02:00:00.000000000",
          "2023-01-22T02:30:00.000000000",
          "2023-01-22T03:00:00.000000000",
          "2023-01-22T03:30:00.000000000",
          "2023-01-22T04:00:00.000000000",
          "2023-01-22T04:30:00.000000000",
          "2023-01-22T05:00:00.000000000",
          "2023-01-22T05:30:00.000000000",
          "2023-01-22T06:00:00.000000000",
          "2023-01-22T06:30:00.000000000",
          "2023-01-22T07:00:00.000000000",
          "2023-01-22T07:30:00.000000000",
          "2023-01-22T08:00:00.000000000",
          "2023-01-22T08:30:00.000000000",
          "2023-01-22T09:00:00.000000000",
          "2023-01-22T09:30:00.000000000",
          "2023-01-22T10:00:00.000000000",
          "2023-01-22T10:30:00.000000000",
          "2023-01-22T11:00:00.000000000",
          "2023-01-22T11:30:00.000000000",
          "2023-01-22T12:00:00.000000000",
          "2023-01-22T12:30:00.000000000",
          "2023-01-22T13:00:00.000000000",
          "2023-01-22T13:30:00.000000000",
          "2023-01-22T14:00:00.000000000",
          "2023-01-22T14:30:00.000000000",
          "2023-01-22T15:00:00.000000000",
          "2023-01-22T15:30:00.000000000",
          "2023-01-22T16:00:00.000000000",
          "2023-01-22T16:30:00.000000000",
          "2023-01-22T17:00:00.000000000",
          "2023-01-22T17:30:00.000000000",
          "2023-01-22T18:00:00.000000000",
          "2023-01-22T18:30:00.000000000",
          "2023-01-22T19:00:00.000000000",
          "2023-01-22T19:30:00.000000000",
          "2023-01-22T20:00:00.000000000",
          "2023-01-22T20:30:00.000000000",
          "2023-01-22T21:00:00.000000000",
          "2023-01-22T21:30:00.000000000",
          "2023-01-22T22:00:00.000000000",
          "2023-01-22T22:30:00.000000000",
          "2023-01-22T23:00:00.000000000",
          "2023-01-22T23:30:00.000000000",
          "2023-01-23T00:00:00.000000000"
         ],
         "xaxis": "x",
         "y": {
          "bdata": "AAAAAAAAAAAAAAAAAAAAAAAAAAAAAAAAAAAAAAAAAAAAAAAAAAAAAAAAAAAAAAAAAAAAAAAAAAAAAAAAAAAAAAAAAAAAAAAAAAAAAAAAAAAAAAAAAAAAAAAAAAAAAAAAAAAAAAAAAAAAAAAAAAAAAAAAAAAAAAAAAAAAAAAAAAAAAAAAAAAAAAAAAAAAAAAAAAAAAAAAAAAAAAAAAAAAAAAAAAAAAAAAAAAAAAAAAAAAAAAAAAAAAAAAAAAAAAAAAAAAAAAAAACWQ4ts5/tDQJZDi2zn+0NAlkOLbOf7Q0CWQ4ts5/tDQAAAAAAAAAAAAAAAAAAAAAAAAAAAAAAAAAAAAAAAAAAAAAAAAAAAAAAAAAAAAAAAAAAAAAAAAAAAAAAAAAAAAAAAAAAAAAAAAAAAAAAAAAAAAAAAAAAAAAAAAAAAAAAAAAAAAAAAAAAAAAAAAAAAAACWQ4ts5/tDQJZDi2zn+0NAlkOLbOf7Q0CWQ4ts5/tDQJZDi2zn+0NAAAAAAAAAAAAAAAAAAAAAAAAAAAAAAAAAAAAAAAAAAAAAAAAAAAAAAAAAAAAAAAAAAAAAAAAAAAAAAAAAAAAAAAAAAAAAAAAAAAAAAAAAAAAAAAAAAAAAAAAAAAAAAAAAAAAAAAAAAAAAAAAAAAAAAAAAAAAAAAAAAAAAAAAAAAAAAAAAAAAAAAAAAAAAAAAAAAAAAAAAAAAAAAAAAAAAAAAAAAAAAAAAAAAAAAAAAAAAAAAAAAAAAAAAAAAAAAAAAAAAAAAAAAAAAAAAAAAAAAAAAAAAAAAAs+pztRX7Q0Cz6nO1FftDQLPqc7UV+0NAs+pztRX7Q0AAAAAAAAAAAAAAAAAAAAAAAAAAAAAAAAAAAAAAAAAAAAAAAAAAAAAAAAAAAAAAAAAAAAAAAAAAAAAAAAAAAAAAAAAAAAAAAAAAAAAAAAAAAAAAAAAAAAAAAAAAAAAAAACz6nO1FftDQLPqc7UV+0NAs+pztRX7Q0Cz6nO1FftDQLPqc7UV+0NAAAAAAAAAAAAAAAAAAAAAAAAAAAAAAAAAAAAAAAAAAAAAAAAAAAAAAAAAAAAAAAAAAAAAAAAAAAAAAAAAAAAAAAAAAAAAAAAA0ZFc/kP6Q0DRkVz+Q/pDQNORXP5D+kNA05Fc/kP6Q0AAAAAAAAAAAAAAAAAAAAAAAAAAAAAAAAAAAAAAAAAAAAAAAAAAAAAAAAAAAAAAAAAAAAAAAAAAAAAAAAAAAAAAAAAAAAAAAAAAAAAAAAAAAAAAAAAAAAAAAAAAAAAAAAAAAAAAAAAAAAAAAAAAAAAAAAAAAAAAAAAAAAAAAAAAAAAAAAAAAAAAAAAAAAAAAAAAAAAAAAAAAAAAAAAAAAAAAAAAAAAAAAAAAAAAAAAAAAAAAAAAAAAAAAAAAAAAAAAAAAAAAAAAAAAAAAAAAAAAAAAAAAAAAAAAAAAAAAAAAAAAAAAAAAAAAAAAAAAAAADSkVz+Q/pDQNKRXP5D+kNA0pFc/kP6Q0DSkVz+Q/pDQNKRXP5D+kNAAAAAAAAAAAA=",
          "dtype": "f8"
         },
         "yaxis": "y"
        },
        {
         "line": {
          "color": "rgba(230,98,5,1)",
          "dash": "dash",
          "width": 2
         },
         "marker": {
          "color": "rgba(230,98,5,1)"
         },
         "mode": "lines",
         "name": "Day Ahead Price",
         "type": "scatter",
         "x": [
          "2023-01-20T00:00:00.000000000",
          "2023-01-20T00:30:00.000000000",
          "2023-01-20T01:00:00.000000000",
          "2023-01-20T01:30:00.000000000",
          "2023-01-20T02:00:00.000000000",
          "2023-01-20T02:30:00.000000000",
          "2023-01-20T03:00:00.000000000",
          "2023-01-20T03:30:00.000000000",
          "2023-01-20T04:00:00.000000000",
          "2023-01-20T04:30:00.000000000",
          "2023-01-20T05:00:00.000000000",
          "2023-01-20T05:30:00.000000000",
          "2023-01-20T06:00:00.000000000",
          "2023-01-20T06:30:00.000000000",
          "2023-01-20T07:00:00.000000000",
          "2023-01-20T07:30:00.000000000",
          "2023-01-20T08:00:00.000000000",
          "2023-01-20T08:30:00.000000000",
          "2023-01-20T09:00:00.000000000",
          "2023-01-20T09:30:00.000000000",
          "2023-01-20T10:00:00.000000000",
          "2023-01-20T10:30:00.000000000",
          "2023-01-20T11:00:00.000000000",
          "2023-01-20T11:30:00.000000000",
          "2023-01-20T12:00:00.000000000",
          "2023-01-20T12:30:00.000000000",
          "2023-01-20T13:00:00.000000000",
          "2023-01-20T13:30:00.000000000",
          "2023-01-20T14:00:00.000000000",
          "2023-01-20T14:30:00.000000000",
          "2023-01-20T15:00:00.000000000",
          "2023-01-20T15:30:00.000000000",
          "2023-01-20T16:00:00.000000000",
          "2023-01-20T16:30:00.000000000",
          "2023-01-20T17:00:00.000000000",
          "2023-01-20T17:30:00.000000000",
          "2023-01-20T18:00:00.000000000",
          "2023-01-20T18:30:00.000000000",
          "2023-01-20T19:00:00.000000000",
          "2023-01-20T19:30:00.000000000",
          "2023-01-20T20:00:00.000000000",
          "2023-01-20T20:30:00.000000000",
          "2023-01-20T21:00:00.000000000",
          "2023-01-20T21:30:00.000000000",
          "2023-01-20T22:00:00.000000000",
          "2023-01-20T22:30:00.000000000",
          "2023-01-20T23:00:00.000000000",
          "2023-01-20T23:30:00.000000000",
          "2023-01-21T00:00:00.000000000",
          "2023-01-21T00:30:00.000000000",
          "2023-01-21T01:00:00.000000000",
          "2023-01-21T01:30:00.000000000",
          "2023-01-21T02:00:00.000000000",
          "2023-01-21T02:30:00.000000000",
          "2023-01-21T03:00:00.000000000",
          "2023-01-21T03:30:00.000000000",
          "2023-01-21T04:00:00.000000000",
          "2023-01-21T04:30:00.000000000",
          "2023-01-21T05:00:00.000000000",
          "2023-01-21T05:30:00.000000000",
          "2023-01-21T06:00:00.000000000",
          "2023-01-21T06:30:00.000000000",
          "2023-01-21T07:00:00.000000000",
          "2023-01-21T07:30:00.000000000",
          "2023-01-21T08:00:00.000000000",
          "2023-01-21T08:30:00.000000000",
          "2023-01-21T09:00:00.000000000",
          "2023-01-21T09:30:00.000000000",
          "2023-01-21T10:00:00.000000000",
          "2023-01-21T10:30:00.000000000",
          "2023-01-21T11:00:00.000000000",
          "2023-01-21T11:30:00.000000000",
          "2023-01-21T12:00:00.000000000",
          "2023-01-21T12:30:00.000000000",
          "2023-01-21T13:00:00.000000000",
          "2023-01-21T13:30:00.000000000",
          "2023-01-21T14:00:00.000000000",
          "2023-01-21T14:30:00.000000000",
          "2023-01-21T15:00:00.000000000",
          "2023-01-21T15:30:00.000000000",
          "2023-01-21T16:00:00.000000000",
          "2023-01-21T16:30:00.000000000",
          "2023-01-21T17:00:00.000000000",
          "2023-01-21T17:30:00.000000000",
          "2023-01-21T18:00:00.000000000",
          "2023-01-21T18:30:00.000000000",
          "2023-01-21T19:00:00.000000000",
          "2023-01-21T19:30:00.000000000",
          "2023-01-21T20:00:00.000000000",
          "2023-01-21T20:30:00.000000000",
          "2023-01-21T21:00:00.000000000",
          "2023-01-21T21:30:00.000000000",
          "2023-01-21T22:00:00.000000000",
          "2023-01-21T22:30:00.000000000",
          "2023-01-21T23:00:00.000000000",
          "2023-01-21T23:30:00.000000000",
          "2023-01-22T00:00:00.000000000",
          "2023-01-22T00:30:00.000000000",
          "2023-01-22T01:00:00.000000000",
          "2023-01-22T01:30:00.000000000",
          "2023-01-22T02:00:00.000000000",
          "2023-01-22T02:30:00.000000000",
          "2023-01-22T03:00:00.000000000",
          "2023-01-22T03:30:00.000000000",
          "2023-01-22T04:00:00.000000000",
          "2023-01-22T04:30:00.000000000",
          "2023-01-22T05:00:00.000000000",
          "2023-01-22T05:30:00.000000000",
          "2023-01-22T06:00:00.000000000",
          "2023-01-22T06:30:00.000000000",
          "2023-01-22T07:00:00.000000000",
          "2023-01-22T07:30:00.000000000",
          "2023-01-22T08:00:00.000000000",
          "2023-01-22T08:30:00.000000000",
          "2023-01-22T09:00:00.000000000",
          "2023-01-22T09:30:00.000000000",
          "2023-01-22T10:00:00.000000000",
          "2023-01-22T10:30:00.000000000",
          "2023-01-22T11:00:00.000000000",
          "2023-01-22T11:30:00.000000000",
          "2023-01-22T12:00:00.000000000",
          "2023-01-22T12:30:00.000000000",
          "2023-01-22T13:00:00.000000000",
          "2023-01-22T13:30:00.000000000",
          "2023-01-22T14:00:00.000000000",
          "2023-01-22T14:30:00.000000000",
          "2023-01-22T15:00:00.000000000",
          "2023-01-22T15:30:00.000000000",
          "2023-01-22T16:00:00.000000000",
          "2023-01-22T16:30:00.000000000",
          "2023-01-22T17:00:00.000000000",
          "2023-01-22T17:30:00.000000000",
          "2023-01-22T18:00:00.000000000",
          "2023-01-22T18:30:00.000000000",
          "2023-01-22T19:00:00.000000000",
          "2023-01-22T19:30:00.000000000",
          "2023-01-22T20:00:00.000000000",
          "2023-01-22T20:30:00.000000000",
          "2023-01-22T21:00:00.000000000",
          "2023-01-22T21:30:00.000000000",
          "2023-01-22T22:00:00.000000000",
          "2023-01-22T22:30:00.000000000",
          "2023-01-22T23:00:00.000000000",
          "2023-01-22T23:30:00.000000000",
          "2023-01-23T00:00:00.000000000"
         ],
         "xaxis": "x",
         "y": {
          "bdata": "rkfhehSeZUCuR+F6FJ5lQNejcD0KZ2JA16NwPQpnYkA9CtejcJViQD0K16NwlWJAj8L1KFzPX0CPwvUoXM9fQHsUrkfhwmBAexSuR+HCYEDD9Shcj1JgQMP1KFyPUmBA7FG4HoVTYEDsUbgehVNgQLgehetRIGBAuB6F61EgYEAAAAAAACBgQAAAAAAAIGBAAAAAAABAYEAAAAAAAEBgQB+F61G4fmJAH4XrUbh+YkDD9Shcj7JkQMP1KFyPsmRAexSuR+H6Z0B7FK5H4fpnQM3MzMzMfGhAzczMzMx8aEDhehSuR+lnQOF6FK5H6WdAuB6F61EwZkC4HoXrUTBmQMP1KFyPgmRAw/UoXI+CZEA9CtejcJ1jQD0K16NwnWNA9ihcj8KVY0D2KFyPwpVjQNejcD0KJ2VA16NwPQonZUD2KFyPwhVmQPYoXI/CFWZAMzMzMzOTaEAzMzMzM5NoQEjhehSux2hASOF6FK7HaEB7FK5H4SpoQHsUrkfhKmhAZmZmZmbuZkBmZmZmZu5mQOxRuB6Fo2NA7FG4HoWjY0CamZmZmRFjQJqZmZmZEWNAFK5H4XrMYUAUrkfhesxhQPYoXI/ChWFA9ihcj8KFYUCPwvUoXAdhQI/C9ShcB2FAuB6F61EIYUC4HoXrUQhhQDMzMzMzO2BAMzMzMzM7YECuR+F6FAZgQK5H4XoUBmBAKVyPwvUAYEApXI/C9QBgQKRwPQrXK2BApHA9CtcrYEDhehSuRwlhQOF6FK5HCWFACtejcD2iYkAK16NwPaJiQOF6FK5HsWNA4XoUrkexY0CamZmZmdFjQJqZmZmZ0WNAUrgehevZYkBSuB6F69liQB+F61G4bmFAH4XrUbhuYUCuR+F6FI5gQK5H4XoUjmBAPQrXo3BlYEA9CtejcGVgQEjhehSuv2BASOF6FK6/YEDNzMzMzBxiQM3MzMzMHGJAexSuR+FaZEB7FK5H4VpkQK5H4XoUdmhArkfhehR2aECuR+F6FF5mQK5H4XoUXmZAexSuR+EyY0B7FK5H4TJjQHsUrkfhimJAexSuR+GKYkBSuB6F65FhQFK4HoXrkWFAexSuR+FiYEB7FK5H4WJgQArXo3A9wmJACtejcD3CYkDXo3A9Co9iQNejcD0Kj2JAAAAAAAAAYkAAAAAAAABiQM3MzMzMXGFAzczMzMxcYUCPwvUoXF9fQI/C9ShcX19A16NwPQoXXkDXo3A9ChdeQLgehetRQGBAuB6F61FAYEBmZmZmZtZgQGZmZmZm1mBAexSuR+H6YEB7FK5H4fpgQDMzMzMzg2FAMzMzMzODYUAUrkfherRiQBSuR+F6tGJAPQrXo3DNZEA9CtejcM1kQK5H4XoUBmRArkfhehQGZED2KFyPwt1lQPYoXI/C3WVAKVyPwvVoZ0ApXI/C9WhnQDMzMzMzI2ZAMzMzMzMjZkApXI/C9eBlQClcj8L14GVAFK5H4Xp8aUAUrkfhenxpQLgehetRwGxAuB6F61HAbEA9CtejcA1rQD0K16NwDWtACtejcD2yaEA=",
          "dtype": "f8"
         },
         "yaxis": "y2"
        },
        {
         "marker": {
          "color": "rgb(144,144,144)"
         },
         "name": "Intraday",
         "type": "bar",
         "x": [
          "2023-01-20T00:00:00.000000000",
          "2023-01-20T00:30:00.000000000",
          "2023-01-20T01:00:00.000000000",
          "2023-01-20T01:30:00.000000000",
          "2023-01-20T02:00:00.000000000",
          "2023-01-20T02:30:00.000000000",
          "2023-01-20T03:00:00.000000000",
          "2023-01-20T03:30:00.000000000",
          "2023-01-20T04:00:00.000000000",
          "2023-01-20T04:30:00.000000000",
          "2023-01-20T05:00:00.000000000",
          "2023-01-20T05:30:00.000000000",
          "2023-01-20T06:00:00.000000000",
          "2023-01-20T06:30:00.000000000",
          "2023-01-20T07:00:00.000000000",
          "2023-01-20T07:30:00.000000000",
          "2023-01-20T08:00:00.000000000",
          "2023-01-20T08:30:00.000000000",
          "2023-01-20T09:00:00.000000000",
          "2023-01-20T09:30:00.000000000",
          "2023-01-20T10:00:00.000000000",
          "2023-01-20T10:30:00.000000000",
          "2023-01-20T11:00:00.000000000",
          "2023-01-20T11:30:00.000000000",
          "2023-01-20T12:00:00.000000000",
          "2023-01-20T12:30:00.000000000",
          "2023-01-20T13:00:00.000000000",
          "2023-01-20T13:30:00.000000000",
          "2023-01-20T14:00:00.000000000",
          "2023-01-20T14:30:00.000000000",
          "2023-01-20T15:00:00.000000000",
          "2023-01-20T15:30:00.000000000",
          "2023-01-20T16:00:00.000000000",
          "2023-01-20T16:30:00.000000000",
          "2023-01-20T17:00:00.000000000",
          "2023-01-20T17:30:00.000000000",
          "2023-01-20T18:00:00.000000000",
          "2023-01-20T18:30:00.000000000",
          "2023-01-20T19:00:00.000000000",
          "2023-01-20T19:30:00.000000000",
          "2023-01-20T20:00:00.000000000",
          "2023-01-20T20:30:00.000000000",
          "2023-01-20T21:00:00.000000000",
          "2023-01-20T21:30:00.000000000",
          "2023-01-20T22:00:00.000000000",
          "2023-01-20T22:30:00.000000000",
          "2023-01-20T23:00:00.000000000",
          "2023-01-20T23:30:00.000000000",
          "2023-01-21T00:00:00.000000000",
          "2023-01-21T00:30:00.000000000",
          "2023-01-21T01:00:00.000000000",
          "2023-01-21T01:30:00.000000000",
          "2023-01-21T02:00:00.000000000",
          "2023-01-21T02:30:00.000000000",
          "2023-01-21T03:00:00.000000000",
          "2023-01-21T03:30:00.000000000",
          "2023-01-21T04:00:00.000000000",
          "2023-01-21T04:30:00.000000000",
          "2023-01-21T05:00:00.000000000",
          "2023-01-21T05:30:00.000000000",
          "2023-01-21T06:00:00.000000000",
          "2023-01-21T06:30:00.000000000",
          "2023-01-21T07:00:00.000000000",
          "2023-01-21T07:30:00.000000000",
          "2023-01-21T08:00:00.000000000",
          "2023-01-21T08:30:00.000000000",
          "2023-01-21T09:00:00.000000000",
          "2023-01-21T09:30:00.000000000",
          "2023-01-21T10:00:00.000000000",
          "2023-01-21T10:30:00.000000000",
          "2023-01-21T11:00:00.000000000",
          "2023-01-21T11:30:00.000000000",
          "2023-01-21T12:00:00.000000000",
          "2023-01-21T12:30:00.000000000",
          "2023-01-21T13:00:00.000000000",
          "2023-01-21T13:30:00.000000000",
          "2023-01-21T14:00:00.000000000",
          "2023-01-21T14:30:00.000000000",
          "2023-01-21T15:00:00.000000000",
          "2023-01-21T15:30:00.000000000",
          "2023-01-21T16:00:00.000000000",
          "2023-01-21T16:30:00.000000000",
          "2023-01-21T17:00:00.000000000",
          "2023-01-21T17:30:00.000000000",
          "2023-01-21T18:00:00.000000000",
          "2023-01-21T18:30:00.000000000",
          "2023-01-21T19:00:00.000000000",
          "2023-01-21T19:30:00.000000000",
          "2023-01-21T20:00:00.000000000",
          "2023-01-21T20:30:00.000000000",
          "2023-01-21T21:00:00.000000000",
          "2023-01-21T21:30:00.000000000",
          "2023-01-21T22:00:00.000000000",
          "2023-01-21T22:30:00.000000000",
          "2023-01-21T23:00:00.000000000",
          "2023-01-21T23:30:00.000000000",
          "2023-01-22T00:00:00.000000000",
          "2023-01-22T00:30:00.000000000",
          "2023-01-22T01:00:00.000000000",
          "2023-01-22T01:30:00.000000000",
          "2023-01-22T02:00:00.000000000",
          "2023-01-22T02:30:00.000000000",
          "2023-01-22T03:00:00.000000000",
          "2023-01-22T03:30:00.000000000",
          "2023-01-22T04:00:00.000000000",
          "2023-01-22T04:30:00.000000000",
          "2023-01-22T05:00:00.000000000",
          "2023-01-22T05:30:00.000000000",
          "2023-01-22T06:00:00.000000000",
          "2023-01-22T06:30:00.000000000",
          "2023-01-22T07:00:00.000000000",
          "2023-01-22T07:30:00.000000000",
          "2023-01-22T08:00:00.000000000",
          "2023-01-22T08:30:00.000000000",
          "2023-01-22T09:00:00.000000000",
          "2023-01-22T09:30:00.000000000",
          "2023-01-22T10:00:00.000000000",
          "2023-01-22T10:30:00.000000000",
          "2023-01-22T11:00:00.000000000",
          "2023-01-22T11:30:00.000000000",
          "2023-01-22T12:00:00.000000000",
          "2023-01-22T12:30:00.000000000",
          "2023-01-22T13:00:00.000000000",
          "2023-01-22T13:30:00.000000000",
          "2023-01-22T14:00:00.000000000",
          "2023-01-22T14:30:00.000000000",
          "2023-01-22T15:00:00.000000000",
          "2023-01-22T15:30:00.000000000",
          "2023-01-22T16:00:00.000000000",
          "2023-01-22T16:30:00.000000000",
          "2023-01-22T17:00:00.000000000",
          "2023-01-22T17:30:00.000000000",
          "2023-01-22T18:00:00.000000000",
          "2023-01-22T18:30:00.000000000",
          "2023-01-22T19:00:00.000000000",
          "2023-01-22T19:30:00.000000000",
          "2023-01-22T20:00:00.000000000",
          "2023-01-22T20:30:00.000000000",
          "2023-01-22T21:00:00.000000000",
          "2023-01-22T21:30:00.000000000",
          "2023-01-22T22:00:00.000000000",
          "2023-01-22T22:30:00.000000000",
          "2023-01-22T23:00:00.000000000",
          "2023-01-22T23:30:00.000000000",
          "2023-01-23T00:00:00.000000000"
         ],
         "xaxis": "x2",
         "y": {
          "bdata": "AAAAAAAAAIAAAAAAAAAAgAAAAAAAAACAAAAAAAAAAIAAAAAAAAAAgAAAAAAAAACAAAAAAAAAAIAAAAAAAAAAgAAAAAAAAACAAAAAAAAAAIAAAAAAAAAAgAAAAAAAAACAAAAAAAAAAIAAAAAAAAAAgAAAAAAAAACAAAAAAAAAAIAAAAAAAAAAgAAAAAAAAACAAAAAAAAAAIAAAAAAAAAAgAAAAAAAAACAAAAAAAAAAIAAAAAAAAAAgAAAAAAAAACAAAAAAAAAAIAAAAAAAAAAgAAAAAAAAACAAAAAAAAAAIAAAAAAAAAAgAAAAAAAAACAAAAAAAAAAIAAAAAAAAAAgAAAAAAAAACAAAAAAAAAAIAAAAAAAAAAgAAAAAAAAACAAAAAAAAAAIAAAAAAAAAAgAAAAAAAAACAAAAAAAAAAIAAAAAAAAAAgAAAAAAAAACAAAAAAAAAAICDTxzptYJHwAAAAAAAAACAAAAAAAAAAIAAAAAAAAAAgAAAAAAAAACAAAAAAAAAAIAAAAAAAAAAgAAAAAAAAACAAAAAAAAAAIAAAAAAAAAAgAAAAAAAAACAAAAAAAAAAIAAAAAAAAAAgAAAAAAAAACAAAAAAAAAAIAAAAAAAAAAgAAAAAAAAACAAAAAAAAAAIAAAAAAAAAAgAAAAAAAAACAAAAAAAAAAIAAAAAAAAAAgAAAAAAAAACAAAAAAAAAAIAAAAAAAAAAgAAAAAAAAACAAAAAAAAAAIAAAAAAAAAAgAAAAAAAAACAAAAAAAAAAIAAAAAAAAAAgAAAAAAAAACAAAAAAAAAAIAAAAAAAAAAgAAAAAAAAACAAAAAAAAAAIAAAAAAAAAAgAAAAAAAAACAAAAAAAAAAIAAAAAAAAAAgAAAAAAAAACAAAAAAAAAAIAAAAAAAAAAgAAAAAAAAACAAAAAAAAAAIAAAAAAAAAAgAAAAAAAAACAAAAAAAAAAIAAAAAAAAAAgAAAAAAAAACAAAAAAAAAAICoqtMvv4FHwAAAAAAAAACAAAAAAAAAAIAAAAAAAAAAgAAAAAAAAACAAAAAAAAAAIAAAAAAAAAAgAAAAAAAAACAAAAAAAAAAIAAAAAAAAAAgAAAAAAAAACAAAAAAAAAAIAAAAAAAAAAgAAAAAAAAACAAAAAAAAAAIAAAAAAAAAAgAAAAAAAAACAAAAAAAAAAIAAAAAAAAAAgAAAAAAAAACAAAAAAAAAAIAAAAAAAAAAgAAAAAAAAACAAAAAAAAAAIAAAAAAAAAAgAAAAAAAAACAAAAAAAAAAIAAAAAAAAAAgAAAAAAAAACAAAAAAAAAAIAAAAAAAAAAgAAAAAAAAACAAAAAAAAAAIAAAAAAAAAAgAAAAAAAAACAAAAAAAAAAIAAAAAAAAAAgAAAAAAAAACAAAAAAAAAAIAAAAAAAAAAgAAAAAAAAACAAAAAAAAAAIAAAAAAAAAAgAAAAAAAAACAAAAAAAAAAIAAAAAAAAAAgAAAAAAAAACAAAAAAAAAAIAAAAAAAAAAgAAAAAAAAACAAAAAAAAAAIA=",
          "dtype": "f8"
         },
         "yaxis": "y3"
        },
        {
         "marker": {
          "color": "rgb(144,144,144)"
         },
         "name": "Export Intraday",
         "showlegend": false,
         "type": "bar",
         "x": [
          "2023-01-20T00:00:00.000000000",
          "2023-01-20T00:30:00.000000000",
          "2023-01-20T01:00:00.000000000",
          "2023-01-20T01:30:00.000000000",
          "2023-01-20T02:00:00.000000000",
          "2023-01-20T02:30:00.000000000",
          "2023-01-20T03:00:00.000000000",
          "2023-01-20T03:30:00.000000000",
          "2023-01-20T04:00:00.000000000",
          "2023-01-20T04:30:00.000000000",
          "2023-01-20T05:00:00.000000000",
          "2023-01-20T05:30:00.000000000",
          "2023-01-20T06:00:00.000000000",
          "2023-01-20T06:30:00.000000000",
          "2023-01-20T07:00:00.000000000",
          "2023-01-20T07:30:00.000000000",
          "2023-01-20T08:00:00.000000000",
          "2023-01-20T08:30:00.000000000",
          "2023-01-20T09:00:00.000000000",
          "2023-01-20T09:30:00.000000000",
          "2023-01-20T10:00:00.000000000",
          "2023-01-20T10:30:00.000000000",
          "2023-01-20T11:00:00.000000000",
          "2023-01-20T11:30:00.000000000",
          "2023-01-20T12:00:00.000000000",
          "2023-01-20T12:30:00.000000000",
          "2023-01-20T13:00:00.000000000",
          "2023-01-20T13:30:00.000000000",
          "2023-01-20T14:00:00.000000000",
          "2023-01-20T14:30:00.000000000",
          "2023-01-20T15:00:00.000000000",
          "2023-01-20T15:30:00.000000000",
          "2023-01-20T16:00:00.000000000",
          "2023-01-20T16:30:00.000000000",
          "2023-01-20T17:00:00.000000000",
          "2023-01-20T17:30:00.000000000",
          "2023-01-20T18:00:00.000000000",
          "2023-01-20T18:30:00.000000000",
          "2023-01-20T19:00:00.000000000",
          "2023-01-20T19:30:00.000000000",
          "2023-01-20T20:00:00.000000000",
          "2023-01-20T20:30:00.000000000",
          "2023-01-20T21:00:00.000000000",
          "2023-01-20T21:30:00.000000000",
          "2023-01-20T22:00:00.000000000",
          "2023-01-20T22:30:00.000000000",
          "2023-01-20T23:00:00.000000000",
          "2023-01-20T23:30:00.000000000",
          "2023-01-21T00:00:00.000000000",
          "2023-01-21T00:30:00.000000000",
          "2023-01-21T01:00:00.000000000",
          "2023-01-21T01:30:00.000000000",
          "2023-01-21T02:00:00.000000000",
          "2023-01-21T02:30:00.000000000",
          "2023-01-21T03:00:00.000000000",
          "2023-01-21T03:30:00.000000000",
          "2023-01-21T04:00:00.000000000",
          "2023-01-21T04:30:00.000000000",
          "2023-01-21T05:00:00.000000000",
          "2023-01-21T05:30:00.000000000",
          "2023-01-21T06:00:00.000000000",
          "2023-01-21T06:30:00.000000000",
          "2023-01-21T07:00:00.000000000",
          "2023-01-21T07:30:00.000000000",
          "2023-01-21T08:00:00.000000000",
          "2023-01-21T08:30:00.000000000",
          "2023-01-21T09:00:00.000000000",
          "2023-01-21T09:30:00.000000000",
          "2023-01-21T10:00:00.000000000",
          "2023-01-21T10:30:00.000000000",
          "2023-01-21T11:00:00.000000000",
          "2023-01-21T11:30:00.000000000",
          "2023-01-21T12:00:00.000000000",
          "2023-01-21T12:30:00.000000000",
          "2023-01-21T13:00:00.000000000",
          "2023-01-21T13:30:00.000000000",
          "2023-01-21T14:00:00.000000000",
          "2023-01-21T14:30:00.000000000",
          "2023-01-21T15:00:00.000000000",
          "2023-01-21T15:30:00.000000000",
          "2023-01-21T16:00:00.000000000",
          "2023-01-21T16:30:00.000000000",
          "2023-01-21T17:00:00.000000000",
          "2023-01-21T17:30:00.000000000",
          "2023-01-21T18:00:00.000000000",
          "2023-01-21T18:30:00.000000000",
          "2023-01-21T19:00:00.000000000",
          "2023-01-21T19:30:00.000000000",
          "2023-01-21T20:00:00.000000000",
          "2023-01-21T20:30:00.000000000",
          "2023-01-21T21:00:00.000000000",
          "2023-01-21T21:30:00.000000000",
          "2023-01-21T22:00:00.000000000",
          "2023-01-21T22:30:00.000000000",
          "2023-01-21T23:00:00.000000000",
          "2023-01-21T23:30:00.000000000",
          "2023-01-22T00:00:00.000000000",
          "2023-01-22T00:30:00.000000000",
          "2023-01-22T01:00:00.000000000",
          "2023-01-22T01:30:00.000000000",
          "2023-01-22T02:00:00.000000000",
          "2023-01-22T02:30:00.000000000",
          "2023-01-22T03:00:00.000000000",
          "2023-01-22T03:30:00.000000000",
          "2023-01-22T04:00:00.000000000",
          "2023-01-22T04:30:00.000000000",
          "2023-01-22T05:00:00.000000000",
          "2023-01-22T05:30:00.000000000",
          "2023-01-22T06:00:00.000000000",
          "2023-01-22T06:30:00.000000000",
          "2023-01-22T07:00:00.000000000",
          "2023-01-22T07:30:00.000000000",
          "2023-01-22T08:00:00.000000000",
          "2023-01-22T08:30:00.000000000",
          "2023-01-22T09:00:00.000000000",
          "2023-01-22T09:30:00.000000000",
          "2023-01-22T10:00:00.000000000",
          "2023-01-22T10:30:00.000000000",
          "2023-01-22T11:00:00.000000000",
          "2023-01-22T11:30:00.000000000",
          "2023-01-22T12:00:00.000000000",
          "2023-01-22T12:30:00.000000000",
          "2023-01-22T13:00:00.000000000",
          "2023-01-22T13:30:00.000000000",
          "2023-01-22T14:00:00.000000000",
          "2023-01-22T14:30:00.000000000",
          "2023-01-22T15:00:00.000000000",
          "2023-01-22T15:30:00.000000000",
          "2023-01-22T16:00:00.000000000",
          "2023-01-22T16:30:00.000000000",
          "2023-01-22T17:00:00.000000000",
          "2023-01-22T17:30:00.000000000",
          "2023-01-22T18:00:00.000000000",
          "2023-01-22T18:30:00.000000000",
          "2023-01-22T19:00:00.000000000",
          "2023-01-22T19:30:00.000000000",
          "2023-01-22T20:00:00.000000000",
          "2023-01-22T20:30:00.000000000",
          "2023-01-22T21:00:00.000000000",
          "2023-01-22T21:30:00.000000000",
          "2023-01-22T22:00:00.000000000",
          "2023-01-22T22:30:00.000000000",
          "2023-01-22T23:00:00.000000000",
          "2023-01-22T23:30:00.000000000",
          "2023-01-23T00:00:00.000000000"
         ],
         "xaxis": "x2",
         "y": {
          "bdata": "AAAAAAAAAAAAAAAAAAAAAAAAAAAAAAAAAAAAAAAAAAAAAAAAAAAAAAAAAAAAAAAAAAAAAAAAAAAAAAAAAAAAAAAAAAAAAAAAAAAAAAAAAAAAAAAAAAAAAAAAAAAAAAAAAAAAAAAAAAAAAAAAAAAAAAAAAAAAAAAAAAAAAAAAAAAAAAAAAAAAAAAAAAAAAAAAAAAAAAAAAAAAAAAAAAAAAAAAAAAAAAAAAAAAAAAAAACTQ4ts5/tDQAAAAAAAAAAAAAAAAAAAAAAAAAAAAAAAAAAAAAAAAAAAAAAAAAAAAAAAAAAAAAAAAAAAAAAAAAAAAAAAAAAAAAAAAAAAAAAAAAAAAAAAAAAAAAAAAAAAAAAAAAAAAAAAAAAAAAAAAAAAAAAAAAAAAAAAAAAAAAAAAAAAAAAAAAAAAAAAAAAAAAAAAAAAAAAAAAAAAAAAAAAAAAAAAAAAAAAAAAAAAAAAAAAAAAAAAAAAAAAAAAAAAAAAAAAAAAAAAAAAAAAAAAAAAAAAAAAAAAAAAAAAAAAAAAAAAAAAAAAAAAAAAAAAAAAAAAAAAAAAAAAAAAAAAAAAAAAAAAAAAAAAAAAAAAAAAAAAAAAAAAAAAAAAAAAAAAAAAAAAAAAAAAAAAAAAAAAAAAAAAAAAAAAAAAAAAAAAAAAAAAAAAAAAAAAAAAAAAAAAAAAAAAAAAAAAAAAAAAAAAAAAAAAAAAAAAAAAAAAAAAAAAAAAAAAAuOpztRX7Q0AAAAAAAAAAAAAAAAAAAAAAAAAAAAAAAAAAAAAAAAAAAAAAAAAAAAAAAAAAAAAAAAAAAAAAAAAAAAAAAAAAAAAAAAAAAAAAAAAAAAAAAAAAAAAAAAAAAAAAAAAAAAAAAAAAAAAAAAAAAAAAAAAAAAAAAAAAAAAAAAAAAAAAAAAAAAAAAAAAAAAAAAAAAAAAAAAAAAAAAAAAAAAAAAAAAAAAAAAAAAAAAAAAAAAAAAAAAAAAAAAAAAAAAAAAAAAAAAAAAAAAAAAAAAAAAAAAAAAAAAAAAAAAAAAAAAAAAAAAAAAAAAAAAAAAAAAAAAAAAAAAAAAAAAAAAAAAAAAAAAAAAAAAAAAAAAAAAAAAAAAAAAAAAAAAAAAAAAAAAAAAAAAAAAAAAAAAAAAAAAAAAAAAAAAAAAAAAAAAAAAAAAAAAAAAAAAAAAAAAAAAAAAAAAAAAAAAAAAAAExLpv1vkzM9AAAAAAAAAAAAAAAAAAAAAAAAAAAAAAAAAAAAAAAAAAAAAAAAAAAAAAAAAAAAAAAAAAAAAAAAAAAAAAAAAAAAAAAAAAAAAAAAAAAAAAAAAAAAAAAAAAAAAAAAAAAAAAAAAAAAAAAAAAAAAAAAAAAAAAAAAAAAAAAAAAAAAAAAAAAAAAAAAAAAAAAAAAAAAAAAAAAAAAAAAAAAAAAAAAAAAAAAAAAAAAAAAAAAAAAAAAAAAAAAAAAAAAAAAAAAAAAAAAAAAAAAAAAAAAAAAAAAAAAAAAAAAAAAAAAAAAAAAAAAAAAAAAAAAAAAAAAAAAAAAAAAAAAAAAA=",
          "dtype": "f8"
         },
         "yaxis": "y3"
        },
        {
         "line": {
          "color": "rgb(144,144,144)",
          "dash": "dash",
          "width": 2
         },
         "marker": {
          "color": "rgb(144,144,144)"
         },
         "mode": "lines",
         "name": "Intraday Price",
         "type": "scatter",
         "x": [
          "2023-01-20T00:00:00.000000000",
          "2023-01-20T00:30:00.000000000",
          "2023-01-20T01:00:00.000000000",
          "2023-01-20T01:30:00.000000000",
          "2023-01-20T02:00:00.000000000",
          "2023-01-20T02:30:00.000000000",
          "2023-01-20T03:00:00.000000000",
          "2023-01-20T03:30:00.000000000",
          "2023-01-20T04:00:00.000000000",
          "2023-01-20T04:30:00.000000000",
          "2023-01-20T05:00:00.000000000",
          "2023-01-20T05:30:00.000000000",
          "2023-01-20T06:00:00.000000000",
          "2023-01-20T06:30:00.000000000",
          "2023-01-20T07:00:00.000000000",
          "2023-01-20T07:30:00.000000000",
          "2023-01-20T08:00:00.000000000",
          "2023-01-20T08:30:00.000000000",
          "2023-01-20T09:00:00.000000000",
          "2023-01-20T09:30:00.000000000",
          "2023-01-20T10:00:00.000000000",
          "2023-01-20T10:30:00.000000000",
          "2023-01-20T11:00:00.000000000",
          "2023-01-20T11:30:00.000000000",
          "2023-01-20T12:00:00.000000000",
          "2023-01-20T12:30:00.000000000",
          "2023-01-20T13:00:00.000000000",
          "2023-01-20T13:30:00.000000000",
          "2023-01-20T14:00:00.000000000",
          "2023-01-20T14:30:00.000000000",
          "2023-01-20T15:00:00.000000000",
          "2023-01-20T15:30:00.000000000",
          "2023-01-20T16:00:00.000000000",
          "2023-01-20T16:30:00.000000000",
          "2023-01-20T17:00:00.000000000",
          "2023-01-20T17:30:00.000000000",
          "2023-01-20T18:00:00.000000000",
          "2023-01-20T18:30:00.000000000",
          "2023-01-20T19:00:00.000000000",
          "2023-01-20T19:30:00.000000000",
          "2023-01-20T20:00:00.000000000",
          "2023-01-20T20:30:00.000000000",
          "2023-01-20T21:00:00.000000000",
          "2023-01-20T21:30:00.000000000",
          "2023-01-20T22:00:00.000000000",
          "2023-01-20T22:30:00.000000000",
          "2023-01-20T23:00:00.000000000",
          "2023-01-20T23:30:00.000000000",
          "2023-01-21T00:00:00.000000000",
          "2023-01-21T00:30:00.000000000",
          "2023-01-21T01:00:00.000000000",
          "2023-01-21T01:30:00.000000000",
          "2023-01-21T02:00:00.000000000",
          "2023-01-21T02:30:00.000000000",
          "2023-01-21T03:00:00.000000000",
          "2023-01-21T03:30:00.000000000",
          "2023-01-21T04:00:00.000000000",
          "2023-01-21T04:30:00.000000000",
          "2023-01-21T05:00:00.000000000",
          "2023-01-21T05:30:00.000000000",
          "2023-01-21T06:00:00.000000000",
          "2023-01-21T06:30:00.000000000",
          "2023-01-21T07:00:00.000000000",
          "2023-01-21T07:30:00.000000000",
          "2023-01-21T08:00:00.000000000",
          "2023-01-21T08:30:00.000000000",
          "2023-01-21T09:00:00.000000000",
          "2023-01-21T09:30:00.000000000",
          "2023-01-21T10:00:00.000000000",
          "2023-01-21T10:30:00.000000000",
          "2023-01-21T11:00:00.000000000",
          "2023-01-21T11:30:00.000000000",
          "2023-01-21T12:00:00.000000000",
          "2023-01-21T12:30:00.000000000",
          "2023-01-21T13:00:00.000000000",
          "2023-01-21T13:30:00.000000000",
          "2023-01-21T14:00:00.000000000",
          "2023-01-21T14:30:00.000000000",
          "2023-01-21T15:00:00.000000000",
          "2023-01-21T15:30:00.000000000",
          "2023-01-21T16:00:00.000000000",
          "2023-01-21T16:30:00.000000000",
          "2023-01-21T17:00:00.000000000",
          "2023-01-21T17:30:00.000000000",
          "2023-01-21T18:00:00.000000000",
          "2023-01-21T18:30:00.000000000",
          "2023-01-21T19:00:00.000000000",
          "2023-01-21T19:30:00.000000000",
          "2023-01-21T20:00:00.000000000",
          "2023-01-21T20:30:00.000000000",
          "2023-01-21T21:00:00.000000000",
          "2023-01-21T21:30:00.000000000",
          "2023-01-21T22:00:00.000000000",
          "2023-01-21T22:30:00.000000000",
          "2023-01-21T23:00:00.000000000",
          "2023-01-21T23:30:00.000000000",
          "2023-01-22T00:00:00.000000000",
          "2023-01-22T00:30:00.000000000",
          "2023-01-22T01:00:00.000000000",
          "2023-01-22T01:30:00.000000000",
          "2023-01-22T02:00:00.000000000",
          "2023-01-22T02:30:00.000000000",
          "2023-01-22T03:00:00.000000000",
          "2023-01-22T03:30:00.000000000",
          "2023-01-22T04:00:00.000000000",
          "2023-01-22T04:30:00.000000000",
          "2023-01-22T05:00:00.000000000",
          "2023-01-22T05:30:00.000000000",
          "2023-01-22T06:00:00.000000000",
          "2023-01-22T06:30:00.000000000",
          "2023-01-22T07:00:00.000000000",
          "2023-01-22T07:30:00.000000000",
          "2023-01-22T08:00:00.000000000",
          "2023-01-22T08:30:00.000000000",
          "2023-01-22T09:00:00.000000000",
          "2023-01-22T09:30:00.000000000",
          "2023-01-22T10:00:00.000000000",
          "2023-01-22T10:30:00.000000000",
          "2023-01-22T11:00:00.000000000",
          "2023-01-22T11:30:00.000000000",
          "2023-01-22T12:00:00.000000000",
          "2023-01-22T12:30:00.000000000",
          "2023-01-22T13:00:00.000000000",
          "2023-01-22T13:30:00.000000000",
          "2023-01-22T14:00:00.000000000",
          "2023-01-22T14:30:00.000000000",
          "2023-01-22T15:00:00.000000000",
          "2023-01-22T15:30:00.000000000",
          "2023-01-22T16:00:00.000000000",
          "2023-01-22T16:30:00.000000000",
          "2023-01-22T17:00:00.000000000",
          "2023-01-22T17:30:00.000000000",
          "2023-01-22T18:00:00.000000000",
          "2023-01-22T18:30:00.000000000",
          "2023-01-22T19:00:00.000000000",
          "2023-01-22T19:30:00.000000000",
          "2023-01-22T20:00:00.000000000",
          "2023-01-22T20:30:00.000000000",
          "2023-01-22T21:00:00.000000000",
          "2023-01-22T21:30:00.000000000",
          "2023-01-22T22:00:00.000000000",
          "2023-01-22T22:30:00.000000000",
          "2023-01-22T23:00:00.000000000",
          "2023-01-22T23:30:00.000000000",
          "2023-01-23T00:00:00.000000000"
         ],
         "xaxis": "x2",
         "y": {
          "bdata": "XI/C9Sg8Z0BxPQrXo6BqQHE9CtejCGdAPQrXo3ANakAAAAAAAFhqQOxRuB6Fi2lACtejcD2aaECuR+F6FG5oQNejcD0Kh2dArkfhehTGZkCkcD0K1wNmQBSuR+F63GVAZmZmZmYOZkCkcD0K16tlQMP1KFyPUmZAH4XrUbjOZkDsUbgehRtkQOF6FK5HCWdArkfhehR+ZUAUrkfherRoQHE9CtejyGVAcT0K16MIZ0DsUbgehbtoQFyPwvUonGdACtejcD0aZEDXo3A9CsdjQFK4HoXreWZAhetRuB41ZEBxPQrXoxBjQPYoXI/CBWJAzczMzMz0YUA9CtejcJViQAAAAAAAQGJAMzMzMzOzYUDsUbgehbNgQHsUrkfhAmJAFK5H4XpEYkApXI/C9WBhQArXo3A9smBAUrgeheuBXkCuR+F6FM5eQAAAAAAAIFxAUrgehetxXUCPwvUoXL9bQEjhehSuF2FAUrgeheu5YUCamZmZmaFgQKRwPQrXU19AuB6F61F4YUAAAAAAAJhhQArXo3A9omJAuB6F61HoZEAAAAAAALhiQClcj8L1iGNAw/UoXI/SY0DNzMzMzOxhQD0K16NwZWNArkfhehQOY0AUrkfhehRhQB+F61G4rmBAexSuR+FiYUA9CtejcLVgQPYoXI/CXWBAPQrXo3DdYECamZmZmSFgQAAAAAAA8GBApHA9CtfTYUD2KFyPwgVmQI/C9Shcb2hAzczMzMwUaUAK16NwPfpoQJqZmZmZMWdA16NwPQpHZkAUrkfhekRiQB+F61G4NmNAcT0K16OwX0CuR+F6FL5jQD0K16NwnWJACtejcD1iYkCkcD0K1ztiQM3MzMzMhGFAhetRuB7lY0DXo3A9CodiQBSuR+F6jGRA4XoUrkfZY0AUrkfheuRiQGZmZmZm/mFAMzMzMzMLYEC4HoXrUQBiQI/C9Shct2BASOF6FK5/YEAfhetRuK5fQB+F61G4rl9AH4XrUbiuX0AfhetRuK5fQB+F61G4rl9AH4XrUbiuX0AfhetRuK5fQB+F61G4rl9AH4XrUbiuX0AfhetRuK5fQB+F61G4rl9AH4XrUbiuX0AfhetRuK5fQB+F61G4rl9AH4XrUbiuX0AfhetRuK5fQB+F61G4rl9AH4XrUbiuX0AfhetRuK5fQB+F61G4rl9AH4XrUbiuX0AfhetRuK5fQB+F61G4rl9AH4XrUbiuX0AfhetRuK5fQB+F61G4rl9AH4XrUbiuX0AfhetRuK5fQB+F61G4rl9AH4XrUbiuX0AfhetRuK5fQB+F61G4rl9AH4XrUbiuX0AfhetRuK5fQB+F61G4rl9AH4XrUbiuX0AfhetRuK5fQB+F61G4rl9AH4XrUbiuX0AfhetRuK5fQB+F61G4rl9AH4XrUbiuX0AfhetRuK5fQB+F61G4rl9AH4XrUbiuX0AfhetRuK5fQB+F61G4rl9AH4XrUbiuX0AfhetRuK5fQB+F61G4rl9AH4XrUbiuX0AfhetRuK5fQB+F61G4rl9AH4XrUbiuX0A=",
          "dtype": "f8"
         },
         "yaxis": "y4"
        }
       ],
       "layout": {
        "barmode": "stack",
        "template": {
         "data": {
          "bar": [
           {
            "error_x": {
             "color": "#2a3f5f"
            },
            "error_y": {
             "color": "#2a3f5f"
            },
            "marker": {
             "line": {
              "color": "#E5ECF6",
              "width": 0.5
             },
             "pattern": {
              "fillmode": "overlay",
              "size": 10,
              "solidity": 0.2
             }
            },
            "type": "bar"
           }
          ],
          "barpolar": [
           {
            "marker": {
             "line": {
              "color": "#E5ECF6",
              "width": 0.5
             },
             "pattern": {
              "fillmode": "overlay",
              "size": 10,
              "solidity": 0.2
             }
            },
            "type": "barpolar"
           }
          ],
          "carpet": [
           {
            "aaxis": {
             "endlinecolor": "#2a3f5f",
             "gridcolor": "white",
             "linecolor": "white",
             "minorgridcolor": "white",
             "startlinecolor": "#2a3f5f"
            },
            "baxis": {
             "endlinecolor": "#2a3f5f",
             "gridcolor": "white",
             "linecolor": "white",
             "minorgridcolor": "white",
             "startlinecolor": "#2a3f5f"
            },
            "type": "carpet"
           }
          ],
          "choropleth": [
           {
            "colorbar": {
             "outlinewidth": 0,
             "ticks": ""
            },
            "type": "choropleth"
           }
          ],
          "contour": [
           {
            "colorbar": {
             "outlinewidth": 0,
             "ticks": ""
            },
            "colorscale": [
             [
              0,
              "#0d0887"
             ],
             [
              0.1111111111111111,
              "#46039f"
             ],
             [
              0.2222222222222222,
              "#7201a8"
             ],
             [
              0.3333333333333333,
              "#9c179e"
             ],
             [
              0.4444444444444444,
              "#bd3786"
             ],
             [
              0.5555555555555556,
              "#d8576b"
             ],
             [
              0.6666666666666666,
              "#ed7953"
             ],
             [
              0.7777777777777778,
              "#fb9f3a"
             ],
             [
              0.8888888888888888,
              "#fdca26"
             ],
             [
              1,
              "#f0f921"
             ]
            ],
            "type": "contour"
           }
          ],
          "contourcarpet": [
           {
            "colorbar": {
             "outlinewidth": 0,
             "ticks": ""
            },
            "type": "contourcarpet"
           }
          ],
          "heatmap": [
           {
            "colorbar": {
             "outlinewidth": 0,
             "ticks": ""
            },
            "colorscale": [
             [
              0,
              "#0d0887"
             ],
             [
              0.1111111111111111,
              "#46039f"
             ],
             [
              0.2222222222222222,
              "#7201a8"
             ],
             [
              0.3333333333333333,
              "#9c179e"
             ],
             [
              0.4444444444444444,
              "#bd3786"
             ],
             [
              0.5555555555555556,
              "#d8576b"
             ],
             [
              0.6666666666666666,
              "#ed7953"
             ],
             [
              0.7777777777777778,
              "#fb9f3a"
             ],
             [
              0.8888888888888888,
              "#fdca26"
             ],
             [
              1,
              "#f0f921"
             ]
            ],
            "type": "heatmap"
           }
          ],
          "histogram": [
           {
            "marker": {
             "pattern": {
              "fillmode": "overlay",
              "size": 10,
              "solidity": 0.2
             }
            },
            "type": "histogram"
           }
          ],
          "histogram2d": [
           {
            "colorbar": {
             "outlinewidth": 0,
             "ticks": ""
            },
            "colorscale": [
             [
              0,
              "#0d0887"
             ],
             [
              0.1111111111111111,
              "#46039f"
             ],
             [
              0.2222222222222222,
              "#7201a8"
             ],
             [
              0.3333333333333333,
              "#9c179e"
             ],
             [
              0.4444444444444444,
              "#bd3786"
             ],
             [
              0.5555555555555556,
              "#d8576b"
             ],
             [
              0.6666666666666666,
              "#ed7953"
             ],
             [
              0.7777777777777778,
              "#fb9f3a"
             ],
             [
              0.8888888888888888,
              "#fdca26"
             ],
             [
              1,
              "#f0f921"
             ]
            ],
            "type": "histogram2d"
           }
          ],
          "histogram2dcontour": [
           {
            "colorbar": {
             "outlinewidth": 0,
             "ticks": ""
            },
            "colorscale": [
             [
              0,
              "#0d0887"
             ],
             [
              0.1111111111111111,
              "#46039f"
             ],
             [
              0.2222222222222222,
              "#7201a8"
             ],
             [
              0.3333333333333333,
              "#9c179e"
             ],
             [
              0.4444444444444444,
              "#bd3786"
             ],
             [
              0.5555555555555556,
              "#d8576b"
             ],
             [
              0.6666666666666666,
              "#ed7953"
             ],
             [
              0.7777777777777778,
              "#fb9f3a"
             ],
             [
              0.8888888888888888,
              "#fdca26"
             ],
             [
              1,
              "#f0f921"
             ]
            ],
            "type": "histogram2dcontour"
           }
          ],
          "mesh3d": [
           {
            "colorbar": {
             "outlinewidth": 0,
             "ticks": ""
            },
            "type": "mesh3d"
           }
          ],
          "parcoords": [
           {
            "line": {
             "colorbar": {
              "outlinewidth": 0,
              "ticks": ""
             }
            },
            "type": "parcoords"
           }
          ],
          "pie": [
           {
            "automargin": true,
            "type": "pie"
           }
          ],
          "scatter": [
           {
            "fillpattern": {
             "fillmode": "overlay",
             "size": 10,
             "solidity": 0.2
            },
            "type": "scatter"
           }
          ],
          "scatter3d": [
           {
            "line": {
             "colorbar": {
              "outlinewidth": 0,
              "ticks": ""
             }
            },
            "marker": {
             "colorbar": {
              "outlinewidth": 0,
              "ticks": ""
             }
            },
            "type": "scatter3d"
           }
          ],
          "scattercarpet": [
           {
            "marker": {
             "colorbar": {
              "outlinewidth": 0,
              "ticks": ""
             }
            },
            "type": "scattercarpet"
           }
          ],
          "scattergeo": [
           {
            "marker": {
             "colorbar": {
              "outlinewidth": 0,
              "ticks": ""
             }
            },
            "type": "scattergeo"
           }
          ],
          "scattergl": [
           {
            "marker": {
             "colorbar": {
              "outlinewidth": 0,
              "ticks": ""
             }
            },
            "type": "scattergl"
           }
          ],
          "scattermap": [
           {
            "marker": {
             "colorbar": {
              "outlinewidth": 0,
              "ticks": ""
             }
            },
            "type": "scattermap"
           }
          ],
          "scattermapbox": [
           {
            "marker": {
             "colorbar": {
              "outlinewidth": 0,
              "ticks": ""
             }
            },
            "type": "scattermapbox"
           }
          ],
          "scatterpolar": [
           {
            "marker": {
             "colorbar": {
              "outlinewidth": 0,
              "ticks": ""
             }
            },
            "type": "scatterpolar"
           }
          ],
          "scatterpolargl": [
           {
            "marker": {
             "colorbar": {
              "outlinewidth": 0,
              "ticks": ""
             }
            },
            "type": "scatterpolargl"
           }
          ],
          "scatterternary": [
           {
            "marker": {
             "colorbar": {
              "outlinewidth": 0,
              "ticks": ""
             }
            },
            "type": "scatterternary"
           }
          ],
          "surface": [
           {
            "colorbar": {
             "outlinewidth": 0,
             "ticks": ""
            },
            "colorscale": [
             [
              0,
              "#0d0887"
             ],
             [
              0.1111111111111111,
              "#46039f"
             ],
             [
              0.2222222222222222,
              "#7201a8"
             ],
             [
              0.3333333333333333,
              "#9c179e"
             ],
             [
              0.4444444444444444,
              "#bd3786"
             ],
             [
              0.5555555555555556,
              "#d8576b"
             ],
             [
              0.6666666666666666,
              "#ed7953"
             ],
             [
              0.7777777777777778,
              "#fb9f3a"
             ],
             [
              0.8888888888888888,
              "#fdca26"
             ],
             [
              1,
              "#f0f921"
             ]
            ],
            "type": "surface"
           }
          ],
          "table": [
           {
            "cells": {
             "fill": {
              "color": "#EBF0F8"
             },
             "line": {
              "color": "white"
             }
            },
            "header": {
             "fill": {
              "color": "#C8D4E3"
             },
             "line": {
              "color": "white"
             }
            },
            "type": "table"
           }
          ]
         },
         "layout": {
          "annotationdefaults": {
           "arrowcolor": "#2a3f5f",
           "arrowhead": 0,
           "arrowwidth": 1
          },
          "autotypenumbers": "strict",
          "coloraxis": {
           "colorbar": {
            "outlinewidth": 0,
            "ticks": ""
           }
          },
          "colorscale": {
           "diverging": [
            [
             0,
             "#8e0152"
            ],
            [
             0.1,
             "#c51b7d"
            ],
            [
             0.2,
             "#de77ae"
            ],
            [
             0.3,
             "#f1b6da"
            ],
            [
             0.4,
             "#fde0ef"
            ],
            [
             0.5,
             "#f7f7f7"
            ],
            [
             0.6,
             "#e6f5d0"
            ],
            [
             0.7,
             "#b8e186"
            ],
            [
             0.8,
             "#7fbc41"
            ],
            [
             0.9,
             "#4d9221"
            ],
            [
             1,
             "#276419"
            ]
           ],
           "sequential": [
            [
             0,
             "#0d0887"
            ],
            [
             0.1111111111111111,
             "#46039f"
            ],
            [
             0.2222222222222222,
             "#7201a8"
            ],
            [
             0.3333333333333333,
             "#9c179e"
            ],
            [
             0.4444444444444444,
             "#bd3786"
            ],
            [
             0.5555555555555556,
             "#d8576b"
            ],
            [
             0.6666666666666666,
             "#ed7953"
            ],
            [
             0.7777777777777778,
             "#fb9f3a"
            ],
            [
             0.8888888888888888,
             "#fdca26"
            ],
            [
             1,
             "#f0f921"
            ]
           ],
           "sequentialminus": [
            [
             0,
             "#0d0887"
            ],
            [
             0.1111111111111111,
             "#46039f"
            ],
            [
             0.2222222222222222,
             "#7201a8"
            ],
            [
             0.3333333333333333,
             "#9c179e"
            ],
            [
             0.4444444444444444,
             "#bd3786"
            ],
            [
             0.5555555555555556,
             "#d8576b"
            ],
            [
             0.6666666666666666,
             "#ed7953"
            ],
            [
             0.7777777777777778,
             "#fb9f3a"
            ],
            [
             0.8888888888888888,
             "#fdca26"
            ],
            [
             1,
             "#f0f921"
            ]
           ]
          },
          "colorway": [
           "#636efa",
           "#EF553B",
           "#00cc96",
           "#ab63fa",
           "#FFA15A",
           "#19d3f3",
           "#FF6692",
           "#B6E880",
           "#FF97FF",
           "#FECB52"
          ],
          "font": {
           "color": "#2a3f5f"
          },
          "geo": {
           "bgcolor": "white",
           "lakecolor": "white",
           "landcolor": "#E5ECF6",
           "showlakes": true,
           "showland": true,
           "subunitcolor": "white"
          },
          "hoverlabel": {
           "align": "left"
          },
          "hovermode": "closest",
          "mapbox": {
           "style": "light"
          },
          "paper_bgcolor": "white",
          "plot_bgcolor": "#E5ECF6",
          "polar": {
           "angularaxis": {
            "gridcolor": "white",
            "linecolor": "white",
            "ticks": ""
           },
           "bgcolor": "#E5ECF6",
           "radialaxis": {
            "gridcolor": "white",
            "linecolor": "white",
            "ticks": ""
           }
          },
          "scene": {
           "xaxis": {
            "backgroundcolor": "#E5ECF6",
            "gridcolor": "white",
            "gridwidth": 2,
            "linecolor": "white",
            "showbackground": true,
            "ticks": "",
            "zerolinecolor": "white"
           },
           "yaxis": {
            "backgroundcolor": "#E5ECF6",
            "gridcolor": "white",
            "gridwidth": 2,
            "linecolor": "white",
            "showbackground": true,
            "ticks": "",
            "zerolinecolor": "white"
           },
           "zaxis": {
            "backgroundcolor": "#E5ECF6",
            "gridcolor": "white",
            "gridwidth": 2,
            "linecolor": "white",
            "showbackground": true,
            "ticks": "",
            "zerolinecolor": "white"
           }
          },
          "shapedefaults": {
           "line": {
            "color": "#2a3f5f"
           }
          },
          "ternary": {
           "aaxis": {
            "gridcolor": "white",
            "linecolor": "white",
            "ticks": ""
           },
           "baxis": {
            "gridcolor": "white",
            "linecolor": "white",
            "ticks": ""
           },
           "bgcolor": "#E5ECF6",
           "caxis": {
            "gridcolor": "white",
            "linecolor": "white",
            "ticks": ""
           }
          },
          "title": {
           "x": 0.05
          },
          "xaxis": {
           "automargin": true,
           "gridcolor": "white",
           "linecolor": "white",
           "ticks": "",
           "title": {
            "standoff": 15
           },
           "zerolinecolor": "white",
           "zerolinewidth": 2
          },
          "yaxis": {
           "automargin": true,
           "gridcolor": "white",
           "linecolor": "white",
           "ticks": "",
           "title": {
            "standoff": 15
           },
           "zerolinecolor": "white",
           "zerolinewidth": 2
          }
         }
        },
        "xaxis": {
         "anchor": "y",
         "domain": [
          0,
          0.94
         ]
        },
        "xaxis2": {
         "anchor": "y3",
         "domain": [
          0,
          0.94
         ]
        },
        "xaxis3": {
         "anchor": "y5",
         "domain": [
          0,
          0.94
         ]
        },
        "yaxis": {
         "anchor": "x",
         "domain": [
          0.7333333333333333,
          1
         ],
         "title": {
          "text": "Power (MW)"
         }
        },
        "yaxis2": {
         "anchor": "x",
         "overlaying": "y",
         "side": "right",
         "title": {
          "text": "Price (£/MWh)"
         }
        },
        "yaxis3": {
         "anchor": "x2",
         "domain": [
          0.36666666666666664,
          0.6333333333333333
         ],
         "title": {
          "text": "Power (MW)"
         }
        },
        "yaxis4": {
         "anchor": "x2",
         "overlaying": "y3",
         "side": "right",
         "title": {
          "text": "Price (£/MWh)"
         }
        },
        "yaxis5": {
         "anchor": "x3",
         "domain": [
          0,
          0.26666666666666666
         ]
        },
        "yaxis6": {
         "anchor": "x3",
         "overlaying": "y5",
         "side": "right"
        }
       }
      }
     },
     "metadata": {},
     "output_type": "display_data"
    }
   ],
   "source": [
    "\n",
    "\n",
    "trace1 = go.Bar(x=random_period.index,\n",
    "                y=-random_period[\"import_intraday_vol\"],\n",
    "                name=\"Intraday\",\n",
    "                marker_color=graph_secondary,\n",
    "                yaxis='y1'\n",
    "                    )\n",
    "\n",
    "\n",
    "trace2 = go.Bar(x=random_period.index,\n",
    "                y=random_period[\"export_intraday_vol\"],\n",
    "                name='Export Intraday',\n",
    "                marker_color=graph_secondary,\n",
    "                yaxis='y1',\n",
    "                showlegend=False\n",
    "                    )\n",
    "trace3 = go.Scatter(x=random_period.index,\n",
    "                        y=random_period[\"intraday_price\"],\n",
    "                        name='Intraday Price',\n",
    "                        mode='lines',\n",
    "                        marker_color=graph_secondary,\n",
    "                        line=dict(width=2, \n",
    "                        color=graph_secondary, \n",
    "                        dash='dash'),\n",
    "                        yaxis='y2')\n",
    "data = [trace1,trace2]\n",
    "\n",
    "fig.update_layout(barmode='stack')\n",
    "\n",
    "fig.update_yaxes(title_text=\"Power (MW)\",row=2,col=1)   \n",
    "fig.update_yaxes(title_text= \"Price (£/MWh)\",row=2,col=1,secondary_y=True) \n",
    "for trace in data:\n",
    "    fig.add_trace(trace,row=2,col=1)\n",
    "fig.add_trace(trace3,row=2,col=1,secondary_y=True)\n"
   ]
  },
  {
   "cell_type": "code",
   "execution_count": 105,
   "metadata": {},
   "outputs": [],
   "source": [
    "#SoC\n",
    "trace1 = go.Scatter(x=random_period.index,\n",
    "                        y=(random_period[\"soc_intraday\"]/project_energy_capacity)*100,\n",
    "                        name='SoC (%)',\n",
    "                        mode='lines',\n",
    "                        marker_color=graph_secondary,\n",
    "                        line=dict(width=2, \n",
    "                        color='black', \n",
    "                        dash='dash'),\n",
    "                        yaxis='y2')\n",
    "\n",
    "soc_data = [trace1]\n",
    "\n",
    "\n",
    "fig.update_yaxes(title_text= \"SoC (%)\",range=[0,110], row=3,col=1,secondary_y=False) \n",
    "\n",
    "\n",
    "for trace in soc_data:\n",
    "    fig.add_trace(trace,row=3,col=1)"
   ]
  },
  {
   "cell_type": "code",
   "execution_count": 106,
   "metadata": {},
   "outputs": [
    {
     "data": {
      "application/vnd.plotly.v1+json": {
       "config": {
        "plotlyServerURL": "https://plot.ly"
       },
       "data": [
        {
         "marker": {
          "color": "rgba(230,98,5,1)"
         },
         "name": "Day Ahead",
         "type": "bar",
         "x": [
          "2023-01-20T00:00:00.000000000",
          "2023-01-20T00:30:00.000000000",
          "2023-01-20T01:00:00.000000000",
          "2023-01-20T01:30:00.000000000",
          "2023-01-20T02:00:00.000000000",
          "2023-01-20T02:30:00.000000000",
          "2023-01-20T03:00:00.000000000",
          "2023-01-20T03:30:00.000000000",
          "2023-01-20T04:00:00.000000000",
          "2023-01-20T04:30:00.000000000",
          "2023-01-20T05:00:00.000000000",
          "2023-01-20T05:30:00.000000000",
          "2023-01-20T06:00:00.000000000",
          "2023-01-20T06:30:00.000000000",
          "2023-01-20T07:00:00.000000000",
          "2023-01-20T07:30:00.000000000",
          "2023-01-20T08:00:00.000000000",
          "2023-01-20T08:30:00.000000000",
          "2023-01-20T09:00:00.000000000",
          "2023-01-20T09:30:00.000000000",
          "2023-01-20T10:00:00.000000000",
          "2023-01-20T10:30:00.000000000",
          "2023-01-20T11:00:00.000000000",
          "2023-01-20T11:30:00.000000000",
          "2023-01-20T12:00:00.000000000",
          "2023-01-20T12:30:00.000000000",
          "2023-01-20T13:00:00.000000000",
          "2023-01-20T13:30:00.000000000",
          "2023-01-20T14:00:00.000000000",
          "2023-01-20T14:30:00.000000000",
          "2023-01-20T15:00:00.000000000",
          "2023-01-20T15:30:00.000000000",
          "2023-01-20T16:00:00.000000000",
          "2023-01-20T16:30:00.000000000",
          "2023-01-20T17:00:00.000000000",
          "2023-01-20T17:30:00.000000000",
          "2023-01-20T18:00:00.000000000",
          "2023-01-20T18:30:00.000000000",
          "2023-01-20T19:00:00.000000000",
          "2023-01-20T19:30:00.000000000",
          "2023-01-20T20:00:00.000000000",
          "2023-01-20T20:30:00.000000000",
          "2023-01-20T21:00:00.000000000",
          "2023-01-20T21:30:00.000000000",
          "2023-01-20T22:00:00.000000000",
          "2023-01-20T22:30:00.000000000",
          "2023-01-20T23:00:00.000000000",
          "2023-01-20T23:30:00.000000000",
          "2023-01-21T00:00:00.000000000",
          "2023-01-21T00:30:00.000000000",
          "2023-01-21T01:00:00.000000000",
          "2023-01-21T01:30:00.000000000",
          "2023-01-21T02:00:00.000000000",
          "2023-01-21T02:30:00.000000000",
          "2023-01-21T03:00:00.000000000",
          "2023-01-21T03:30:00.000000000",
          "2023-01-21T04:00:00.000000000",
          "2023-01-21T04:30:00.000000000",
          "2023-01-21T05:00:00.000000000",
          "2023-01-21T05:30:00.000000000",
          "2023-01-21T06:00:00.000000000",
          "2023-01-21T06:30:00.000000000",
          "2023-01-21T07:00:00.000000000",
          "2023-01-21T07:30:00.000000000",
          "2023-01-21T08:00:00.000000000",
          "2023-01-21T08:30:00.000000000",
          "2023-01-21T09:00:00.000000000",
          "2023-01-21T09:30:00.000000000",
          "2023-01-21T10:00:00.000000000",
          "2023-01-21T10:30:00.000000000",
          "2023-01-21T11:00:00.000000000",
          "2023-01-21T11:30:00.000000000",
          "2023-01-21T12:00:00.000000000",
          "2023-01-21T12:30:00.000000000",
          "2023-01-21T13:00:00.000000000",
          "2023-01-21T13:30:00.000000000",
          "2023-01-21T14:00:00.000000000",
          "2023-01-21T14:30:00.000000000",
          "2023-01-21T15:00:00.000000000",
          "2023-01-21T15:30:00.000000000",
          "2023-01-21T16:00:00.000000000",
          "2023-01-21T16:30:00.000000000",
          "2023-01-21T17:00:00.000000000",
          "2023-01-21T17:30:00.000000000",
          "2023-01-21T18:00:00.000000000",
          "2023-01-21T18:30:00.000000000",
          "2023-01-21T19:00:00.000000000",
          "2023-01-21T19:30:00.000000000",
          "2023-01-21T20:00:00.000000000",
          "2023-01-21T20:30:00.000000000",
          "2023-01-21T21:00:00.000000000",
          "2023-01-21T21:30:00.000000000",
          "2023-01-21T22:00:00.000000000",
          "2023-01-21T22:30:00.000000000",
          "2023-01-21T23:00:00.000000000",
          "2023-01-21T23:30:00.000000000",
          "2023-01-22T00:00:00.000000000",
          "2023-01-22T00:30:00.000000000",
          "2023-01-22T01:00:00.000000000",
          "2023-01-22T01:30:00.000000000",
          "2023-01-22T02:00:00.000000000",
          "2023-01-22T02:30:00.000000000",
          "2023-01-22T03:00:00.000000000",
          "2023-01-22T03:30:00.000000000",
          "2023-01-22T04:00:00.000000000",
          "2023-01-22T04:30:00.000000000",
          "2023-01-22T05:00:00.000000000",
          "2023-01-22T05:30:00.000000000",
          "2023-01-22T06:00:00.000000000",
          "2023-01-22T06:30:00.000000000",
          "2023-01-22T07:00:00.000000000",
          "2023-01-22T07:30:00.000000000",
          "2023-01-22T08:00:00.000000000",
          "2023-01-22T08:30:00.000000000",
          "2023-01-22T09:00:00.000000000",
          "2023-01-22T09:30:00.000000000",
          "2023-01-22T10:00:00.000000000",
          "2023-01-22T10:30:00.000000000",
          "2023-01-22T11:00:00.000000000",
          "2023-01-22T11:30:00.000000000",
          "2023-01-22T12:00:00.000000000",
          "2023-01-22T12:30:00.000000000",
          "2023-01-22T13:00:00.000000000",
          "2023-01-22T13:30:00.000000000",
          "2023-01-22T14:00:00.000000000",
          "2023-01-22T14:30:00.000000000",
          "2023-01-22T15:00:00.000000000",
          "2023-01-22T15:30:00.000000000",
          "2023-01-22T16:00:00.000000000",
          "2023-01-22T16:30:00.000000000",
          "2023-01-22T17:00:00.000000000",
          "2023-01-22T17:30:00.000000000",
          "2023-01-22T18:00:00.000000000",
          "2023-01-22T18:30:00.000000000",
          "2023-01-22T19:00:00.000000000",
          "2023-01-22T19:30:00.000000000",
          "2023-01-22T20:00:00.000000000",
          "2023-01-22T20:30:00.000000000",
          "2023-01-22T21:00:00.000000000",
          "2023-01-22T21:30:00.000000000",
          "2023-01-22T22:00:00.000000000",
          "2023-01-22T22:30:00.000000000",
          "2023-01-22T23:00:00.000000000",
          "2023-01-22T23:30:00.000000000",
          "2023-01-23T00:00:00.000000000"
         ],
         "xaxis": "x",
         "y": {
          "bdata": "AAAAAAAAAIAAAAAAAAAAgAAAAAAAAACAAAAAAAAAAIAAAAAAAAAAgAAAAAAAAACAAAAAAAAAAIAAAAAAAAAAgAAAAAAAAACAAAAAAAAAAIAAAAAAAAAAgAAAAAAAAACAAAAAAAAAAIAAAAAAAAAAgAAAAAAAAACAAAAAAAAAWcAAAAAAAABZwIuNjY2NjTHAi42NjY2NMcAAAAAAAAAAgAAAAAAAAACAAAAAAAAAAIAAAAAAAAAAgAAAAAAAAACAAAAAAAAAAIAAAAAAAAAAgAAAAAAAAACAAAAAAAAAAIAAAAAAAAAAgAAAAAAAAACAAAAAAAAAAIAAAAAAAAAAgAAAAAAAAACAAAAAAAAAAIAAAAAAAAAAgIFPHOm1glfAgU8c6bWCV8AAAAAAAAAAgAAAAAAAAACAAAAAAAAAAIAAAAAAAAAAgAAAAAAAAACAAAAAAAAAAIAAAAAAAAAAgAAAAAAAAACAAAAAAAAAAIAAAAAAAAAAgAAAAAAAAACAAAAAAAAAAIAAAAAAAAAAgAAAAAAAAACAAAAAAAAAAIAAAAAAAAAAgAAAAAAAAACAAAAAAAAAAIAAAAAAAAAAgAAAAAAAAACAAAAAAAAAAIAAAAAAAAAAgAAAAAAAAACAAAAAAAAAAIAAAAAAAAAAgAAAAAAAAACAAAAAAAAAAIAAAAAAAAAAgAAAAAAAAFnAAAAAAAAAWcCNVSLvu4gxwI1VIu+7iDHAAAAAAAAAAIAAAAAAAAAAgAAAAAAAAACAAAAAAAAAAIAAAAAAAAAAgAAAAAAAAACAAAAAAAAAAIAAAAAAAAAAgAAAAAAAAACAAAAAAAAAAIAAAAAAAAAAgAAAAAAAAACAAAAAAAAAAIAAAAAAAAAAgLSq0y+/gVfAtKrTL7+BV8AAAAAAAAAAgAAAAAAAAACAAAAAAAAAAIAAAAAAAAAAgAAAAAAAAACAAAAAAAAAAIAAAAAAAAAAgAAAAAAAAACAAAAAAAAAAIAAAAAAAAAAgAAAAAAAAACAAAAAAAAAAIAAAAAAAAAAgAAAAAAAAACAAAAAAAAAAIAAAAAAAAAAgOcFi3bIgFfA5wWLdsiAV8AAAAAAAAAAgAAAAAAAAACAAAAAAAAAAIAAAAAAAAAAgAAAAAAAAACAAAAAAAAAAIAAAAAAAAAAgAAAAAAAAACAAAAAAAAAAIAAAAAAAAAAgAAAAAAAAFnAAAAAAAAAWcB9HbdQ6oMxwH0dt1DqgzHAAAAAAAAAAIAAAAAAAAAAgAAAAAAAAACAAAAAAAAAAIAAAAAAAAAAgAAAAAAAAACAAAAAAAAAAIAAAAAAAAAAgAAAAAAAAACAAAAAAAAAAIAAAAAAAAAAgAAAAAAAAACAAAAAAAAAAIAAAAAAAAAAgAAAAAAAAACAAAAAAAAAAIAAAAAAAAAAgAAAAAAAAACAAAAAAAAAAIAAAAAAAAAAgAAAAAAAAACAAAAAAAAAAIAAAAAAAAAAgAAAAAAAAACAAAAAAAAAAIAAAAAAAAAAgAAAAAAAAACAAAAAAAAAAIA=",
          "dtype": "f8"
         },
         "yaxis": "y"
        },
        {
         "marker": {
          "color": "rgba(230,98,5,1)"
         },
         "name": "",
         "showlegend": false,
         "type": "bar",
         "x": [
          "2023-01-20T00:00:00.000000000",
          "2023-01-20T00:30:00.000000000",
          "2023-01-20T01:00:00.000000000",
          "2023-01-20T01:30:00.000000000",
          "2023-01-20T02:00:00.000000000",
          "2023-01-20T02:30:00.000000000",
          "2023-01-20T03:00:00.000000000",
          "2023-01-20T03:30:00.000000000",
          "2023-01-20T04:00:00.000000000",
          "2023-01-20T04:30:00.000000000",
          "2023-01-20T05:00:00.000000000",
          "2023-01-20T05:30:00.000000000",
          "2023-01-20T06:00:00.000000000",
          "2023-01-20T06:30:00.000000000",
          "2023-01-20T07:00:00.000000000",
          "2023-01-20T07:30:00.000000000",
          "2023-01-20T08:00:00.000000000",
          "2023-01-20T08:30:00.000000000",
          "2023-01-20T09:00:00.000000000",
          "2023-01-20T09:30:00.000000000",
          "2023-01-20T10:00:00.000000000",
          "2023-01-20T10:30:00.000000000",
          "2023-01-20T11:00:00.000000000",
          "2023-01-20T11:30:00.000000000",
          "2023-01-20T12:00:00.000000000",
          "2023-01-20T12:30:00.000000000",
          "2023-01-20T13:00:00.000000000",
          "2023-01-20T13:30:00.000000000",
          "2023-01-20T14:00:00.000000000",
          "2023-01-20T14:30:00.000000000",
          "2023-01-20T15:00:00.000000000",
          "2023-01-20T15:30:00.000000000",
          "2023-01-20T16:00:00.000000000",
          "2023-01-20T16:30:00.000000000",
          "2023-01-20T17:00:00.000000000",
          "2023-01-20T17:30:00.000000000",
          "2023-01-20T18:00:00.000000000",
          "2023-01-20T18:30:00.000000000",
          "2023-01-20T19:00:00.000000000",
          "2023-01-20T19:30:00.000000000",
          "2023-01-20T20:00:00.000000000",
          "2023-01-20T20:30:00.000000000",
          "2023-01-20T21:00:00.000000000",
          "2023-01-20T21:30:00.000000000",
          "2023-01-20T22:00:00.000000000",
          "2023-01-20T22:30:00.000000000",
          "2023-01-20T23:00:00.000000000",
          "2023-01-20T23:30:00.000000000",
          "2023-01-21T00:00:00.000000000",
          "2023-01-21T00:30:00.000000000",
          "2023-01-21T01:00:00.000000000",
          "2023-01-21T01:30:00.000000000",
          "2023-01-21T02:00:00.000000000",
          "2023-01-21T02:30:00.000000000",
          "2023-01-21T03:00:00.000000000",
          "2023-01-21T03:30:00.000000000",
          "2023-01-21T04:00:00.000000000",
          "2023-01-21T04:30:00.000000000",
          "2023-01-21T05:00:00.000000000",
          "2023-01-21T05:30:00.000000000",
          "2023-01-21T06:00:00.000000000",
          "2023-01-21T06:30:00.000000000",
          "2023-01-21T07:00:00.000000000",
          "2023-01-21T07:30:00.000000000",
          "2023-01-21T08:00:00.000000000",
          "2023-01-21T08:30:00.000000000",
          "2023-01-21T09:00:00.000000000",
          "2023-01-21T09:30:00.000000000",
          "2023-01-21T10:00:00.000000000",
          "2023-01-21T10:30:00.000000000",
          "2023-01-21T11:00:00.000000000",
          "2023-01-21T11:30:00.000000000",
          "2023-01-21T12:00:00.000000000",
          "2023-01-21T12:30:00.000000000",
          "2023-01-21T13:00:00.000000000",
          "2023-01-21T13:30:00.000000000",
          "2023-01-21T14:00:00.000000000",
          "2023-01-21T14:30:00.000000000",
          "2023-01-21T15:00:00.000000000",
          "2023-01-21T15:30:00.000000000",
          "2023-01-21T16:00:00.000000000",
          "2023-01-21T16:30:00.000000000",
          "2023-01-21T17:00:00.000000000",
          "2023-01-21T17:30:00.000000000",
          "2023-01-21T18:00:00.000000000",
          "2023-01-21T18:30:00.000000000",
          "2023-01-21T19:00:00.000000000",
          "2023-01-21T19:30:00.000000000",
          "2023-01-21T20:00:00.000000000",
          "2023-01-21T20:30:00.000000000",
          "2023-01-21T21:00:00.000000000",
          "2023-01-21T21:30:00.000000000",
          "2023-01-21T22:00:00.000000000",
          "2023-01-21T22:30:00.000000000",
          "2023-01-21T23:00:00.000000000",
          "2023-01-21T23:30:00.000000000",
          "2023-01-22T00:00:00.000000000",
          "2023-01-22T00:30:00.000000000",
          "2023-01-22T01:00:00.000000000",
          "2023-01-22T01:30:00.000000000",
          "2023-01-22T02:00:00.000000000",
          "2023-01-22T02:30:00.000000000",
          "2023-01-22T03:00:00.000000000",
          "2023-01-22T03:30:00.000000000",
          "2023-01-22T04:00:00.000000000",
          "2023-01-22T04:30:00.000000000",
          "2023-01-22T05:00:00.000000000",
          "2023-01-22T05:30:00.000000000",
          "2023-01-22T06:00:00.000000000",
          "2023-01-22T06:30:00.000000000",
          "2023-01-22T07:00:00.000000000",
          "2023-01-22T07:30:00.000000000",
          "2023-01-22T08:00:00.000000000",
          "2023-01-22T08:30:00.000000000",
          "2023-01-22T09:00:00.000000000",
          "2023-01-22T09:30:00.000000000",
          "2023-01-22T10:00:00.000000000",
          "2023-01-22T10:30:00.000000000",
          "2023-01-22T11:00:00.000000000",
          "2023-01-22T11:30:00.000000000",
          "2023-01-22T12:00:00.000000000",
          "2023-01-22T12:30:00.000000000",
          "2023-01-22T13:00:00.000000000",
          "2023-01-22T13:30:00.000000000",
          "2023-01-22T14:00:00.000000000",
          "2023-01-22T14:30:00.000000000",
          "2023-01-22T15:00:00.000000000",
          "2023-01-22T15:30:00.000000000",
          "2023-01-22T16:00:00.000000000",
          "2023-01-22T16:30:00.000000000",
          "2023-01-22T17:00:00.000000000",
          "2023-01-22T17:30:00.000000000",
          "2023-01-22T18:00:00.000000000",
          "2023-01-22T18:30:00.000000000",
          "2023-01-22T19:00:00.000000000",
          "2023-01-22T19:30:00.000000000",
          "2023-01-22T20:00:00.000000000",
          "2023-01-22T20:30:00.000000000",
          "2023-01-22T21:00:00.000000000",
          "2023-01-22T21:30:00.000000000",
          "2023-01-22T22:00:00.000000000",
          "2023-01-22T22:30:00.000000000",
          "2023-01-22T23:00:00.000000000",
          "2023-01-22T23:30:00.000000000",
          "2023-01-23T00:00:00.000000000"
         ],
         "xaxis": "x",
         "y": {
          "bdata": "AAAAAAAAAAAAAAAAAAAAAAAAAAAAAAAAAAAAAAAAAAAAAAAAAAAAAAAAAAAAAAAAAAAAAAAAAAAAAAAAAAAAAAAAAAAAAAAAAAAAAAAAAAAAAAAAAAAAAAAAAAAAAAAAAAAAAAAAAAAAAAAAAAAAAAAAAAAAAAAAAAAAAAAAAAAAAAAAAAAAAAAAAAAAAAAAAAAAAAAAAAAAAAAAAAAAAAAAAAAAAAAAAAAAAAAAAAAAAAAAAAAAAAAAAAAAAAAAAAAAAAAAAACWQ4ts5/tDQJZDi2zn+0NAlkOLbOf7Q0CWQ4ts5/tDQAAAAAAAAAAAAAAAAAAAAAAAAAAAAAAAAAAAAAAAAAAAAAAAAAAAAAAAAAAAAAAAAAAAAAAAAAAAAAAAAAAAAAAAAAAAAAAAAAAAAAAAAAAAAAAAAAAAAAAAAAAAAAAAAAAAAAAAAAAAAAAAAAAAAACWQ4ts5/tDQJZDi2zn+0NAlkOLbOf7Q0CWQ4ts5/tDQJZDi2zn+0NAAAAAAAAAAAAAAAAAAAAAAAAAAAAAAAAAAAAAAAAAAAAAAAAAAAAAAAAAAAAAAAAAAAAAAAAAAAAAAAAAAAAAAAAAAAAAAAAAAAAAAAAAAAAAAAAAAAAAAAAAAAAAAAAAAAAAAAAAAAAAAAAAAAAAAAAAAAAAAAAAAAAAAAAAAAAAAAAAAAAAAAAAAAAAAAAAAAAAAAAAAAAAAAAAAAAAAAAAAAAAAAAAAAAAAAAAAAAAAAAAAAAAAAAAAAAAAAAAAAAAAAAAAAAAAAAAAAAAAAAAAAAAAAAAs+pztRX7Q0Cz6nO1FftDQLPqc7UV+0NAs+pztRX7Q0AAAAAAAAAAAAAAAAAAAAAAAAAAAAAAAAAAAAAAAAAAAAAAAAAAAAAAAAAAAAAAAAAAAAAAAAAAAAAAAAAAAAAAAAAAAAAAAAAAAAAAAAAAAAAAAAAAAAAAAAAAAAAAAACz6nO1FftDQLPqc7UV+0NAs+pztRX7Q0Cz6nO1FftDQLPqc7UV+0NAAAAAAAAAAAAAAAAAAAAAAAAAAAAAAAAAAAAAAAAAAAAAAAAAAAAAAAAAAAAAAAAAAAAAAAAAAAAAAAAAAAAAAAAAAAAAAAAA0ZFc/kP6Q0DRkVz+Q/pDQNORXP5D+kNA05Fc/kP6Q0AAAAAAAAAAAAAAAAAAAAAAAAAAAAAAAAAAAAAAAAAAAAAAAAAAAAAAAAAAAAAAAAAAAAAAAAAAAAAAAAAAAAAAAAAAAAAAAAAAAAAAAAAAAAAAAAAAAAAAAAAAAAAAAAAAAAAAAAAAAAAAAAAAAAAAAAAAAAAAAAAAAAAAAAAAAAAAAAAAAAAAAAAAAAAAAAAAAAAAAAAAAAAAAAAAAAAAAAAAAAAAAAAAAAAAAAAAAAAAAAAAAAAAAAAAAAAAAAAAAAAAAAAAAAAAAAAAAAAAAAAAAAAAAAAAAAAAAAAAAAAAAAAAAAAAAAAAAAAAAADSkVz+Q/pDQNKRXP5D+kNA0pFc/kP6Q0DSkVz+Q/pDQNKRXP5D+kNAAAAAAAAAAAA=",
          "dtype": "f8"
         },
         "yaxis": "y"
        },
        {
         "line": {
          "color": "rgba(230,98,5,1)",
          "dash": "dash",
          "width": 2
         },
         "marker": {
          "color": "rgba(230,98,5,1)"
         },
         "mode": "lines",
         "name": "Day Ahead Price",
         "type": "scatter",
         "x": [
          "2023-01-20T00:00:00.000000000",
          "2023-01-20T00:30:00.000000000",
          "2023-01-20T01:00:00.000000000",
          "2023-01-20T01:30:00.000000000",
          "2023-01-20T02:00:00.000000000",
          "2023-01-20T02:30:00.000000000",
          "2023-01-20T03:00:00.000000000",
          "2023-01-20T03:30:00.000000000",
          "2023-01-20T04:00:00.000000000",
          "2023-01-20T04:30:00.000000000",
          "2023-01-20T05:00:00.000000000",
          "2023-01-20T05:30:00.000000000",
          "2023-01-20T06:00:00.000000000",
          "2023-01-20T06:30:00.000000000",
          "2023-01-20T07:00:00.000000000",
          "2023-01-20T07:30:00.000000000",
          "2023-01-20T08:00:00.000000000",
          "2023-01-20T08:30:00.000000000",
          "2023-01-20T09:00:00.000000000",
          "2023-01-20T09:30:00.000000000",
          "2023-01-20T10:00:00.000000000",
          "2023-01-20T10:30:00.000000000",
          "2023-01-20T11:00:00.000000000",
          "2023-01-20T11:30:00.000000000",
          "2023-01-20T12:00:00.000000000",
          "2023-01-20T12:30:00.000000000",
          "2023-01-20T13:00:00.000000000",
          "2023-01-20T13:30:00.000000000",
          "2023-01-20T14:00:00.000000000",
          "2023-01-20T14:30:00.000000000",
          "2023-01-20T15:00:00.000000000",
          "2023-01-20T15:30:00.000000000",
          "2023-01-20T16:00:00.000000000",
          "2023-01-20T16:30:00.000000000",
          "2023-01-20T17:00:00.000000000",
          "2023-01-20T17:30:00.000000000",
          "2023-01-20T18:00:00.000000000",
          "2023-01-20T18:30:00.000000000",
          "2023-01-20T19:00:00.000000000",
          "2023-01-20T19:30:00.000000000",
          "2023-01-20T20:00:00.000000000",
          "2023-01-20T20:30:00.000000000",
          "2023-01-20T21:00:00.000000000",
          "2023-01-20T21:30:00.000000000",
          "2023-01-20T22:00:00.000000000",
          "2023-01-20T22:30:00.000000000",
          "2023-01-20T23:00:00.000000000",
          "2023-01-20T23:30:00.000000000",
          "2023-01-21T00:00:00.000000000",
          "2023-01-21T00:30:00.000000000",
          "2023-01-21T01:00:00.000000000",
          "2023-01-21T01:30:00.000000000",
          "2023-01-21T02:00:00.000000000",
          "2023-01-21T02:30:00.000000000",
          "2023-01-21T03:00:00.000000000",
          "2023-01-21T03:30:00.000000000",
          "2023-01-21T04:00:00.000000000",
          "2023-01-21T04:30:00.000000000",
          "2023-01-21T05:00:00.000000000",
          "2023-01-21T05:30:00.000000000",
          "2023-01-21T06:00:00.000000000",
          "2023-01-21T06:30:00.000000000",
          "2023-01-21T07:00:00.000000000",
          "2023-01-21T07:30:00.000000000",
          "2023-01-21T08:00:00.000000000",
          "2023-01-21T08:30:00.000000000",
          "2023-01-21T09:00:00.000000000",
          "2023-01-21T09:30:00.000000000",
          "2023-01-21T10:00:00.000000000",
          "2023-01-21T10:30:00.000000000",
          "2023-01-21T11:00:00.000000000",
          "2023-01-21T11:30:00.000000000",
          "2023-01-21T12:00:00.000000000",
          "2023-01-21T12:30:00.000000000",
          "2023-01-21T13:00:00.000000000",
          "2023-01-21T13:30:00.000000000",
          "2023-01-21T14:00:00.000000000",
          "2023-01-21T14:30:00.000000000",
          "2023-01-21T15:00:00.000000000",
          "2023-01-21T15:30:00.000000000",
          "2023-01-21T16:00:00.000000000",
          "2023-01-21T16:30:00.000000000",
          "2023-01-21T17:00:00.000000000",
          "2023-01-21T17:30:00.000000000",
          "2023-01-21T18:00:00.000000000",
          "2023-01-21T18:30:00.000000000",
          "2023-01-21T19:00:00.000000000",
          "2023-01-21T19:30:00.000000000",
          "2023-01-21T20:00:00.000000000",
          "2023-01-21T20:30:00.000000000",
          "2023-01-21T21:00:00.000000000",
          "2023-01-21T21:30:00.000000000",
          "2023-01-21T22:00:00.000000000",
          "2023-01-21T22:30:00.000000000",
          "2023-01-21T23:00:00.000000000",
          "2023-01-21T23:30:00.000000000",
          "2023-01-22T00:00:00.000000000",
          "2023-01-22T00:30:00.000000000",
          "2023-01-22T01:00:00.000000000",
          "2023-01-22T01:30:00.000000000",
          "2023-01-22T02:00:00.000000000",
          "2023-01-22T02:30:00.000000000",
          "2023-01-22T03:00:00.000000000",
          "2023-01-22T03:30:00.000000000",
          "2023-01-22T04:00:00.000000000",
          "2023-01-22T04:30:00.000000000",
          "2023-01-22T05:00:00.000000000",
          "2023-01-22T05:30:00.000000000",
          "2023-01-22T06:00:00.000000000",
          "2023-01-22T06:30:00.000000000",
          "2023-01-22T07:00:00.000000000",
          "2023-01-22T07:30:00.000000000",
          "2023-01-22T08:00:00.000000000",
          "2023-01-22T08:30:00.000000000",
          "2023-01-22T09:00:00.000000000",
          "2023-01-22T09:30:00.000000000",
          "2023-01-22T10:00:00.000000000",
          "2023-01-22T10:30:00.000000000",
          "2023-01-22T11:00:00.000000000",
          "2023-01-22T11:30:00.000000000",
          "2023-01-22T12:00:00.000000000",
          "2023-01-22T12:30:00.000000000",
          "2023-01-22T13:00:00.000000000",
          "2023-01-22T13:30:00.000000000",
          "2023-01-22T14:00:00.000000000",
          "2023-01-22T14:30:00.000000000",
          "2023-01-22T15:00:00.000000000",
          "2023-01-22T15:30:00.000000000",
          "2023-01-22T16:00:00.000000000",
          "2023-01-22T16:30:00.000000000",
          "2023-01-22T17:00:00.000000000",
          "2023-01-22T17:30:00.000000000",
          "2023-01-22T18:00:00.000000000",
          "2023-01-22T18:30:00.000000000",
          "2023-01-22T19:00:00.000000000",
          "2023-01-22T19:30:00.000000000",
          "2023-01-22T20:00:00.000000000",
          "2023-01-22T20:30:00.000000000",
          "2023-01-22T21:00:00.000000000",
          "2023-01-22T21:30:00.000000000",
          "2023-01-22T22:00:00.000000000",
          "2023-01-22T22:30:00.000000000",
          "2023-01-22T23:00:00.000000000",
          "2023-01-22T23:30:00.000000000",
          "2023-01-23T00:00:00.000000000"
         ],
         "xaxis": "x",
         "y": {
          "bdata": "rkfhehSeZUCuR+F6FJ5lQNejcD0KZ2JA16NwPQpnYkA9CtejcJViQD0K16NwlWJAj8L1KFzPX0CPwvUoXM9fQHsUrkfhwmBAexSuR+HCYEDD9Shcj1JgQMP1KFyPUmBA7FG4HoVTYEDsUbgehVNgQLgehetRIGBAuB6F61EgYEAAAAAAACBgQAAAAAAAIGBAAAAAAABAYEAAAAAAAEBgQB+F61G4fmJAH4XrUbh+YkDD9Shcj7JkQMP1KFyPsmRAexSuR+H6Z0B7FK5H4fpnQM3MzMzMfGhAzczMzMx8aEDhehSuR+lnQOF6FK5H6WdAuB6F61EwZkC4HoXrUTBmQMP1KFyPgmRAw/UoXI+CZEA9CtejcJ1jQD0K16NwnWNA9ihcj8KVY0D2KFyPwpVjQNejcD0KJ2VA16NwPQonZUD2KFyPwhVmQPYoXI/CFWZAMzMzMzOTaEAzMzMzM5NoQEjhehSux2hASOF6FK7HaEB7FK5H4SpoQHsUrkfhKmhAZmZmZmbuZkBmZmZmZu5mQOxRuB6Fo2NA7FG4HoWjY0CamZmZmRFjQJqZmZmZEWNAFK5H4XrMYUAUrkfhesxhQPYoXI/ChWFA9ihcj8KFYUCPwvUoXAdhQI/C9ShcB2FAuB6F61EIYUC4HoXrUQhhQDMzMzMzO2BAMzMzMzM7YECuR+F6FAZgQK5H4XoUBmBAKVyPwvUAYEApXI/C9QBgQKRwPQrXK2BApHA9CtcrYEDhehSuRwlhQOF6FK5HCWFACtejcD2iYkAK16NwPaJiQOF6FK5HsWNA4XoUrkexY0CamZmZmdFjQJqZmZmZ0WNAUrgehevZYkBSuB6F69liQB+F61G4bmFAH4XrUbhuYUCuR+F6FI5gQK5H4XoUjmBAPQrXo3BlYEA9CtejcGVgQEjhehSuv2BASOF6FK6/YEDNzMzMzBxiQM3MzMzMHGJAexSuR+FaZEB7FK5H4VpkQK5H4XoUdmhArkfhehR2aECuR+F6FF5mQK5H4XoUXmZAexSuR+EyY0B7FK5H4TJjQHsUrkfhimJAexSuR+GKYkBSuB6F65FhQFK4HoXrkWFAexSuR+FiYEB7FK5H4WJgQArXo3A9wmJACtejcD3CYkDXo3A9Co9iQNejcD0Kj2JAAAAAAAAAYkAAAAAAAABiQM3MzMzMXGFAzczMzMxcYUCPwvUoXF9fQI/C9ShcX19A16NwPQoXXkDXo3A9ChdeQLgehetRQGBAuB6F61FAYEBmZmZmZtZgQGZmZmZm1mBAexSuR+H6YEB7FK5H4fpgQDMzMzMzg2FAMzMzMzODYUAUrkfherRiQBSuR+F6tGJAPQrXo3DNZEA9CtejcM1kQK5H4XoUBmRArkfhehQGZED2KFyPwt1lQPYoXI/C3WVAKVyPwvVoZ0ApXI/C9WhnQDMzMzMzI2ZAMzMzMzMjZkApXI/C9eBlQClcj8L14GVAFK5H4Xp8aUAUrkfhenxpQLgehetRwGxAuB6F61HAbEA9CtejcA1rQD0K16NwDWtACtejcD2yaEA=",
          "dtype": "f8"
         },
         "yaxis": "y2"
        },
        {
         "marker": {
          "color": "rgb(144,144,144)"
         },
         "name": "Intraday",
         "type": "bar",
         "x": [
          "2023-01-20T00:00:00.000000000",
          "2023-01-20T00:30:00.000000000",
          "2023-01-20T01:00:00.000000000",
          "2023-01-20T01:30:00.000000000",
          "2023-01-20T02:00:00.000000000",
          "2023-01-20T02:30:00.000000000",
          "2023-01-20T03:00:00.000000000",
          "2023-01-20T03:30:00.000000000",
          "2023-01-20T04:00:00.000000000",
          "2023-01-20T04:30:00.000000000",
          "2023-01-20T05:00:00.000000000",
          "2023-01-20T05:30:00.000000000",
          "2023-01-20T06:00:00.000000000",
          "2023-01-20T06:30:00.000000000",
          "2023-01-20T07:00:00.000000000",
          "2023-01-20T07:30:00.000000000",
          "2023-01-20T08:00:00.000000000",
          "2023-01-20T08:30:00.000000000",
          "2023-01-20T09:00:00.000000000",
          "2023-01-20T09:30:00.000000000",
          "2023-01-20T10:00:00.000000000",
          "2023-01-20T10:30:00.000000000",
          "2023-01-20T11:00:00.000000000",
          "2023-01-20T11:30:00.000000000",
          "2023-01-20T12:00:00.000000000",
          "2023-01-20T12:30:00.000000000",
          "2023-01-20T13:00:00.000000000",
          "2023-01-20T13:30:00.000000000",
          "2023-01-20T14:00:00.000000000",
          "2023-01-20T14:30:00.000000000",
          "2023-01-20T15:00:00.000000000",
          "2023-01-20T15:30:00.000000000",
          "2023-01-20T16:00:00.000000000",
          "2023-01-20T16:30:00.000000000",
          "2023-01-20T17:00:00.000000000",
          "2023-01-20T17:30:00.000000000",
          "2023-01-20T18:00:00.000000000",
          "2023-01-20T18:30:00.000000000",
          "2023-01-20T19:00:00.000000000",
          "2023-01-20T19:30:00.000000000",
          "2023-01-20T20:00:00.000000000",
          "2023-01-20T20:30:00.000000000",
          "2023-01-20T21:00:00.000000000",
          "2023-01-20T21:30:00.000000000",
          "2023-01-20T22:00:00.000000000",
          "2023-01-20T22:30:00.000000000",
          "2023-01-20T23:00:00.000000000",
          "2023-01-20T23:30:00.000000000",
          "2023-01-21T00:00:00.000000000",
          "2023-01-21T00:30:00.000000000",
          "2023-01-21T01:00:00.000000000",
          "2023-01-21T01:30:00.000000000",
          "2023-01-21T02:00:00.000000000",
          "2023-01-21T02:30:00.000000000",
          "2023-01-21T03:00:00.000000000",
          "2023-01-21T03:30:00.000000000",
          "2023-01-21T04:00:00.000000000",
          "2023-01-21T04:30:00.000000000",
          "2023-01-21T05:00:00.000000000",
          "2023-01-21T05:30:00.000000000",
          "2023-01-21T06:00:00.000000000",
          "2023-01-21T06:30:00.000000000",
          "2023-01-21T07:00:00.000000000",
          "2023-01-21T07:30:00.000000000",
          "2023-01-21T08:00:00.000000000",
          "2023-01-21T08:30:00.000000000",
          "2023-01-21T09:00:00.000000000",
          "2023-01-21T09:30:00.000000000",
          "2023-01-21T10:00:00.000000000",
          "2023-01-21T10:30:00.000000000",
          "2023-01-21T11:00:00.000000000",
          "2023-01-21T11:30:00.000000000",
          "2023-01-21T12:00:00.000000000",
          "2023-01-21T12:30:00.000000000",
          "2023-01-21T13:00:00.000000000",
          "2023-01-21T13:30:00.000000000",
          "2023-01-21T14:00:00.000000000",
          "2023-01-21T14:30:00.000000000",
          "2023-01-21T15:00:00.000000000",
          "2023-01-21T15:30:00.000000000",
          "2023-01-21T16:00:00.000000000",
          "2023-01-21T16:30:00.000000000",
          "2023-01-21T17:00:00.000000000",
          "2023-01-21T17:30:00.000000000",
          "2023-01-21T18:00:00.000000000",
          "2023-01-21T18:30:00.000000000",
          "2023-01-21T19:00:00.000000000",
          "2023-01-21T19:30:00.000000000",
          "2023-01-21T20:00:00.000000000",
          "2023-01-21T20:30:00.000000000",
          "2023-01-21T21:00:00.000000000",
          "2023-01-21T21:30:00.000000000",
          "2023-01-21T22:00:00.000000000",
          "2023-01-21T22:30:00.000000000",
          "2023-01-21T23:00:00.000000000",
          "2023-01-21T23:30:00.000000000",
          "2023-01-22T00:00:00.000000000",
          "2023-01-22T00:30:00.000000000",
          "2023-01-22T01:00:00.000000000",
          "2023-01-22T01:30:00.000000000",
          "2023-01-22T02:00:00.000000000",
          "2023-01-22T02:30:00.000000000",
          "2023-01-22T03:00:00.000000000",
          "2023-01-22T03:30:00.000000000",
          "2023-01-22T04:00:00.000000000",
          "2023-01-22T04:30:00.000000000",
          "2023-01-22T05:00:00.000000000",
          "2023-01-22T05:30:00.000000000",
          "2023-01-22T06:00:00.000000000",
          "2023-01-22T06:30:00.000000000",
          "2023-01-22T07:00:00.000000000",
          "2023-01-22T07:30:00.000000000",
          "2023-01-22T08:00:00.000000000",
          "2023-01-22T08:30:00.000000000",
          "2023-01-22T09:00:00.000000000",
          "2023-01-22T09:30:00.000000000",
          "2023-01-22T10:00:00.000000000",
          "2023-01-22T10:30:00.000000000",
          "2023-01-22T11:00:00.000000000",
          "2023-01-22T11:30:00.000000000",
          "2023-01-22T12:00:00.000000000",
          "2023-01-22T12:30:00.000000000",
          "2023-01-22T13:00:00.000000000",
          "2023-01-22T13:30:00.000000000",
          "2023-01-22T14:00:00.000000000",
          "2023-01-22T14:30:00.000000000",
          "2023-01-22T15:00:00.000000000",
          "2023-01-22T15:30:00.000000000",
          "2023-01-22T16:00:00.000000000",
          "2023-01-22T16:30:00.000000000",
          "2023-01-22T17:00:00.000000000",
          "2023-01-22T17:30:00.000000000",
          "2023-01-22T18:00:00.000000000",
          "2023-01-22T18:30:00.000000000",
          "2023-01-22T19:00:00.000000000",
          "2023-01-22T19:30:00.000000000",
          "2023-01-22T20:00:00.000000000",
          "2023-01-22T20:30:00.000000000",
          "2023-01-22T21:00:00.000000000",
          "2023-01-22T21:30:00.000000000",
          "2023-01-22T22:00:00.000000000",
          "2023-01-22T22:30:00.000000000",
          "2023-01-22T23:00:00.000000000",
          "2023-01-22T23:30:00.000000000",
          "2023-01-23T00:00:00.000000000"
         ],
         "xaxis": "x2",
         "y": {
          "bdata": "AAAAAAAAAIAAAAAAAAAAgAAAAAAAAACAAAAAAAAAAIAAAAAAAAAAgAAAAAAAAACAAAAAAAAAAIAAAAAAAAAAgAAAAAAAAACAAAAAAAAAAIAAAAAAAAAAgAAAAAAAAACAAAAAAAAAAIAAAAAAAAAAgAAAAAAAAACAAAAAAAAAAIAAAAAAAAAAgAAAAAAAAACAAAAAAAAAAIAAAAAAAAAAgAAAAAAAAACAAAAAAAAAAIAAAAAAAAAAgAAAAAAAAACAAAAAAAAAAIAAAAAAAAAAgAAAAAAAAACAAAAAAAAAAIAAAAAAAAAAgAAAAAAAAACAAAAAAAAAAIAAAAAAAAAAgAAAAAAAAACAAAAAAAAAAIAAAAAAAAAAgAAAAAAAAACAAAAAAAAAAIAAAAAAAAAAgAAAAAAAAACAAAAAAAAAAIAAAAAAAAAAgAAAAAAAAACAAAAAAAAAAICDTxzptYJHwAAAAAAAAACAAAAAAAAAAIAAAAAAAAAAgAAAAAAAAACAAAAAAAAAAIAAAAAAAAAAgAAAAAAAAACAAAAAAAAAAIAAAAAAAAAAgAAAAAAAAACAAAAAAAAAAIAAAAAAAAAAgAAAAAAAAACAAAAAAAAAAIAAAAAAAAAAgAAAAAAAAACAAAAAAAAAAIAAAAAAAAAAgAAAAAAAAACAAAAAAAAAAIAAAAAAAAAAgAAAAAAAAACAAAAAAAAAAIAAAAAAAAAAgAAAAAAAAACAAAAAAAAAAIAAAAAAAAAAgAAAAAAAAACAAAAAAAAAAIAAAAAAAAAAgAAAAAAAAACAAAAAAAAAAIAAAAAAAAAAgAAAAAAAAACAAAAAAAAAAIAAAAAAAAAAgAAAAAAAAACAAAAAAAAAAIAAAAAAAAAAgAAAAAAAAACAAAAAAAAAAIAAAAAAAAAAgAAAAAAAAACAAAAAAAAAAIAAAAAAAAAAgAAAAAAAAACAAAAAAAAAAIAAAAAAAAAAgAAAAAAAAACAAAAAAAAAAICoqtMvv4FHwAAAAAAAAACAAAAAAAAAAIAAAAAAAAAAgAAAAAAAAACAAAAAAAAAAIAAAAAAAAAAgAAAAAAAAACAAAAAAAAAAIAAAAAAAAAAgAAAAAAAAACAAAAAAAAAAIAAAAAAAAAAgAAAAAAAAACAAAAAAAAAAIAAAAAAAAAAgAAAAAAAAACAAAAAAAAAAIAAAAAAAAAAgAAAAAAAAACAAAAAAAAAAIAAAAAAAAAAgAAAAAAAAACAAAAAAAAAAIAAAAAAAAAAgAAAAAAAAACAAAAAAAAAAIAAAAAAAAAAgAAAAAAAAACAAAAAAAAAAIAAAAAAAAAAgAAAAAAAAACAAAAAAAAAAIAAAAAAAAAAgAAAAAAAAACAAAAAAAAAAIAAAAAAAAAAgAAAAAAAAACAAAAAAAAAAIAAAAAAAAAAgAAAAAAAAACAAAAAAAAAAIAAAAAAAAAAgAAAAAAAAACAAAAAAAAAAIAAAAAAAAAAgAAAAAAAAACAAAAAAAAAAIAAAAAAAAAAgAAAAAAAAACAAAAAAAAAAIA=",
          "dtype": "f8"
         },
         "yaxis": "y3"
        },
        {
         "marker": {
          "color": "rgb(144,144,144)"
         },
         "name": "Export Intraday",
         "showlegend": false,
         "type": "bar",
         "x": [
          "2023-01-20T00:00:00.000000000",
          "2023-01-20T00:30:00.000000000",
          "2023-01-20T01:00:00.000000000",
          "2023-01-20T01:30:00.000000000",
          "2023-01-20T02:00:00.000000000",
          "2023-01-20T02:30:00.000000000",
          "2023-01-20T03:00:00.000000000",
          "2023-01-20T03:30:00.000000000",
          "2023-01-20T04:00:00.000000000",
          "2023-01-20T04:30:00.000000000",
          "2023-01-20T05:00:00.000000000",
          "2023-01-20T05:30:00.000000000",
          "2023-01-20T06:00:00.000000000",
          "2023-01-20T06:30:00.000000000",
          "2023-01-20T07:00:00.000000000",
          "2023-01-20T07:30:00.000000000",
          "2023-01-20T08:00:00.000000000",
          "2023-01-20T08:30:00.000000000",
          "2023-01-20T09:00:00.000000000",
          "2023-01-20T09:30:00.000000000",
          "2023-01-20T10:00:00.000000000",
          "2023-01-20T10:30:00.000000000",
          "2023-01-20T11:00:00.000000000",
          "2023-01-20T11:30:00.000000000",
          "2023-01-20T12:00:00.000000000",
          "2023-01-20T12:30:00.000000000",
          "2023-01-20T13:00:00.000000000",
          "2023-01-20T13:30:00.000000000",
          "2023-01-20T14:00:00.000000000",
          "2023-01-20T14:30:00.000000000",
          "2023-01-20T15:00:00.000000000",
          "2023-01-20T15:30:00.000000000",
          "2023-01-20T16:00:00.000000000",
          "2023-01-20T16:30:00.000000000",
          "2023-01-20T17:00:00.000000000",
          "2023-01-20T17:30:00.000000000",
          "2023-01-20T18:00:00.000000000",
          "2023-01-20T18:30:00.000000000",
          "2023-01-20T19:00:00.000000000",
          "2023-01-20T19:30:00.000000000",
          "2023-01-20T20:00:00.000000000",
          "2023-01-20T20:30:00.000000000",
          "2023-01-20T21:00:00.000000000",
          "2023-01-20T21:30:00.000000000",
          "2023-01-20T22:00:00.000000000",
          "2023-01-20T22:30:00.000000000",
          "2023-01-20T23:00:00.000000000",
          "2023-01-20T23:30:00.000000000",
          "2023-01-21T00:00:00.000000000",
          "2023-01-21T00:30:00.000000000",
          "2023-01-21T01:00:00.000000000",
          "2023-01-21T01:30:00.000000000",
          "2023-01-21T02:00:00.000000000",
          "2023-01-21T02:30:00.000000000",
          "2023-01-21T03:00:00.000000000",
          "2023-01-21T03:30:00.000000000",
          "2023-01-21T04:00:00.000000000",
          "2023-01-21T04:30:00.000000000",
          "2023-01-21T05:00:00.000000000",
          "2023-01-21T05:30:00.000000000",
          "2023-01-21T06:00:00.000000000",
          "2023-01-21T06:30:00.000000000",
          "2023-01-21T07:00:00.000000000",
          "2023-01-21T07:30:00.000000000",
          "2023-01-21T08:00:00.000000000",
          "2023-01-21T08:30:00.000000000",
          "2023-01-21T09:00:00.000000000",
          "2023-01-21T09:30:00.000000000",
          "2023-01-21T10:00:00.000000000",
          "2023-01-21T10:30:00.000000000",
          "2023-01-21T11:00:00.000000000",
          "2023-01-21T11:30:00.000000000",
          "2023-01-21T12:00:00.000000000",
          "2023-01-21T12:30:00.000000000",
          "2023-01-21T13:00:00.000000000",
          "2023-01-21T13:30:00.000000000",
          "2023-01-21T14:00:00.000000000",
          "2023-01-21T14:30:00.000000000",
          "2023-01-21T15:00:00.000000000",
          "2023-01-21T15:30:00.000000000",
          "2023-01-21T16:00:00.000000000",
          "2023-01-21T16:30:00.000000000",
          "2023-01-21T17:00:00.000000000",
          "2023-01-21T17:30:00.000000000",
          "2023-01-21T18:00:00.000000000",
          "2023-01-21T18:30:00.000000000",
          "2023-01-21T19:00:00.000000000",
          "2023-01-21T19:30:00.000000000",
          "2023-01-21T20:00:00.000000000",
          "2023-01-21T20:30:00.000000000",
          "2023-01-21T21:00:00.000000000",
          "2023-01-21T21:30:00.000000000",
          "2023-01-21T22:00:00.000000000",
          "2023-01-21T22:30:00.000000000",
          "2023-01-21T23:00:00.000000000",
          "2023-01-21T23:30:00.000000000",
          "2023-01-22T00:00:00.000000000",
          "2023-01-22T00:30:00.000000000",
          "2023-01-22T01:00:00.000000000",
          "2023-01-22T01:30:00.000000000",
          "2023-01-22T02:00:00.000000000",
          "2023-01-22T02:30:00.000000000",
          "2023-01-22T03:00:00.000000000",
          "2023-01-22T03:30:00.000000000",
          "2023-01-22T04:00:00.000000000",
          "2023-01-22T04:30:00.000000000",
          "2023-01-22T05:00:00.000000000",
          "2023-01-22T05:30:00.000000000",
          "2023-01-22T06:00:00.000000000",
          "2023-01-22T06:30:00.000000000",
          "2023-01-22T07:00:00.000000000",
          "2023-01-22T07:30:00.000000000",
          "2023-01-22T08:00:00.000000000",
          "2023-01-22T08:30:00.000000000",
          "2023-01-22T09:00:00.000000000",
          "2023-01-22T09:30:00.000000000",
          "2023-01-22T10:00:00.000000000",
          "2023-01-22T10:30:00.000000000",
          "2023-01-22T11:00:00.000000000",
          "2023-01-22T11:30:00.000000000",
          "2023-01-22T12:00:00.000000000",
          "2023-01-22T12:30:00.000000000",
          "2023-01-22T13:00:00.000000000",
          "2023-01-22T13:30:00.000000000",
          "2023-01-22T14:00:00.000000000",
          "2023-01-22T14:30:00.000000000",
          "2023-01-22T15:00:00.000000000",
          "2023-01-22T15:30:00.000000000",
          "2023-01-22T16:00:00.000000000",
          "2023-01-22T16:30:00.000000000",
          "2023-01-22T17:00:00.000000000",
          "2023-01-22T17:30:00.000000000",
          "2023-01-22T18:00:00.000000000",
          "2023-01-22T18:30:00.000000000",
          "2023-01-22T19:00:00.000000000",
          "2023-01-22T19:30:00.000000000",
          "2023-01-22T20:00:00.000000000",
          "2023-01-22T20:30:00.000000000",
          "2023-01-22T21:00:00.000000000",
          "2023-01-22T21:30:00.000000000",
          "2023-01-22T22:00:00.000000000",
          "2023-01-22T22:30:00.000000000",
          "2023-01-22T23:00:00.000000000",
          "2023-01-22T23:30:00.000000000",
          "2023-01-23T00:00:00.000000000"
         ],
         "xaxis": "x2",
         "y": {
          "bdata": "AAAAAAAAAAAAAAAAAAAAAAAAAAAAAAAAAAAAAAAAAAAAAAAAAAAAAAAAAAAAAAAAAAAAAAAAAAAAAAAAAAAAAAAAAAAAAAAAAAAAAAAAAAAAAAAAAAAAAAAAAAAAAAAAAAAAAAAAAAAAAAAAAAAAAAAAAAAAAAAAAAAAAAAAAAAAAAAAAAAAAAAAAAAAAAAAAAAAAAAAAAAAAAAAAAAAAAAAAAAAAAAAAAAAAAAAAACTQ4ts5/tDQAAAAAAAAAAAAAAAAAAAAAAAAAAAAAAAAAAAAAAAAAAAAAAAAAAAAAAAAAAAAAAAAAAAAAAAAAAAAAAAAAAAAAAAAAAAAAAAAAAAAAAAAAAAAAAAAAAAAAAAAAAAAAAAAAAAAAAAAAAAAAAAAAAAAAAAAAAAAAAAAAAAAAAAAAAAAAAAAAAAAAAAAAAAAAAAAAAAAAAAAAAAAAAAAAAAAAAAAAAAAAAAAAAAAAAAAAAAAAAAAAAAAAAAAAAAAAAAAAAAAAAAAAAAAAAAAAAAAAAAAAAAAAAAAAAAAAAAAAAAAAAAAAAAAAAAAAAAAAAAAAAAAAAAAAAAAAAAAAAAAAAAAAAAAAAAAAAAAAAAAAAAAAAAAAAAAAAAAAAAAAAAAAAAAAAAAAAAAAAAAAAAAAAAAAAAAAAAAAAAAAAAAAAAAAAAAAAAAAAAAAAAAAAAAAAAAAAAAAAAAAAAAAAAAAAAAAAAAAAAAAAAAAAAAAAAuOpztRX7Q0AAAAAAAAAAAAAAAAAAAAAAAAAAAAAAAAAAAAAAAAAAAAAAAAAAAAAAAAAAAAAAAAAAAAAAAAAAAAAAAAAAAAAAAAAAAAAAAAAAAAAAAAAAAAAAAAAAAAAAAAAAAAAAAAAAAAAAAAAAAAAAAAAAAAAAAAAAAAAAAAAAAAAAAAAAAAAAAAAAAAAAAAAAAAAAAAAAAAAAAAAAAAAAAAAAAAAAAAAAAAAAAAAAAAAAAAAAAAAAAAAAAAAAAAAAAAAAAAAAAAAAAAAAAAAAAAAAAAAAAAAAAAAAAAAAAAAAAAAAAAAAAAAAAAAAAAAAAAAAAAAAAAAAAAAAAAAAAAAAAAAAAAAAAAAAAAAAAAAAAAAAAAAAAAAAAAAAAAAAAAAAAAAAAAAAAAAAAAAAAAAAAAAAAAAAAAAAAAAAAAAAAAAAAAAAAAAAAAAAAAAAAAAAAAAAAAAAAAAAAExLpv1vkzM9AAAAAAAAAAAAAAAAAAAAAAAAAAAAAAAAAAAAAAAAAAAAAAAAAAAAAAAAAAAAAAAAAAAAAAAAAAAAAAAAAAAAAAAAAAAAAAAAAAAAAAAAAAAAAAAAAAAAAAAAAAAAAAAAAAAAAAAAAAAAAAAAAAAAAAAAAAAAAAAAAAAAAAAAAAAAAAAAAAAAAAAAAAAAAAAAAAAAAAAAAAAAAAAAAAAAAAAAAAAAAAAAAAAAAAAAAAAAAAAAAAAAAAAAAAAAAAAAAAAAAAAAAAAAAAAAAAAAAAAAAAAAAAAAAAAAAAAAAAAAAAAAAAAAAAAAAAAAAAAAAAAAAAAAAAA=",
          "dtype": "f8"
         },
         "yaxis": "y3"
        },
        {
         "line": {
          "color": "rgb(144,144,144)",
          "dash": "dash",
          "width": 2
         },
         "marker": {
          "color": "rgb(144,144,144)"
         },
         "mode": "lines",
         "name": "Intraday Price",
         "type": "scatter",
         "x": [
          "2023-01-20T00:00:00.000000000",
          "2023-01-20T00:30:00.000000000",
          "2023-01-20T01:00:00.000000000",
          "2023-01-20T01:30:00.000000000",
          "2023-01-20T02:00:00.000000000",
          "2023-01-20T02:30:00.000000000",
          "2023-01-20T03:00:00.000000000",
          "2023-01-20T03:30:00.000000000",
          "2023-01-20T04:00:00.000000000",
          "2023-01-20T04:30:00.000000000",
          "2023-01-20T05:00:00.000000000",
          "2023-01-20T05:30:00.000000000",
          "2023-01-20T06:00:00.000000000",
          "2023-01-20T06:30:00.000000000",
          "2023-01-20T07:00:00.000000000",
          "2023-01-20T07:30:00.000000000",
          "2023-01-20T08:00:00.000000000",
          "2023-01-20T08:30:00.000000000",
          "2023-01-20T09:00:00.000000000",
          "2023-01-20T09:30:00.000000000",
          "2023-01-20T10:00:00.000000000",
          "2023-01-20T10:30:00.000000000",
          "2023-01-20T11:00:00.000000000",
          "2023-01-20T11:30:00.000000000",
          "2023-01-20T12:00:00.000000000",
          "2023-01-20T12:30:00.000000000",
          "2023-01-20T13:00:00.000000000",
          "2023-01-20T13:30:00.000000000",
          "2023-01-20T14:00:00.000000000",
          "2023-01-20T14:30:00.000000000",
          "2023-01-20T15:00:00.000000000",
          "2023-01-20T15:30:00.000000000",
          "2023-01-20T16:00:00.000000000",
          "2023-01-20T16:30:00.000000000",
          "2023-01-20T17:00:00.000000000",
          "2023-01-20T17:30:00.000000000",
          "2023-01-20T18:00:00.000000000",
          "2023-01-20T18:30:00.000000000",
          "2023-01-20T19:00:00.000000000",
          "2023-01-20T19:30:00.000000000",
          "2023-01-20T20:00:00.000000000",
          "2023-01-20T20:30:00.000000000",
          "2023-01-20T21:00:00.000000000",
          "2023-01-20T21:30:00.000000000",
          "2023-01-20T22:00:00.000000000",
          "2023-01-20T22:30:00.000000000",
          "2023-01-20T23:00:00.000000000",
          "2023-01-20T23:30:00.000000000",
          "2023-01-21T00:00:00.000000000",
          "2023-01-21T00:30:00.000000000",
          "2023-01-21T01:00:00.000000000",
          "2023-01-21T01:30:00.000000000",
          "2023-01-21T02:00:00.000000000",
          "2023-01-21T02:30:00.000000000",
          "2023-01-21T03:00:00.000000000",
          "2023-01-21T03:30:00.000000000",
          "2023-01-21T04:00:00.000000000",
          "2023-01-21T04:30:00.000000000",
          "2023-01-21T05:00:00.000000000",
          "2023-01-21T05:30:00.000000000",
          "2023-01-21T06:00:00.000000000",
          "2023-01-21T06:30:00.000000000",
          "2023-01-21T07:00:00.000000000",
          "2023-01-21T07:30:00.000000000",
          "2023-01-21T08:00:00.000000000",
          "2023-01-21T08:30:00.000000000",
          "2023-01-21T09:00:00.000000000",
          "2023-01-21T09:30:00.000000000",
          "2023-01-21T10:00:00.000000000",
          "2023-01-21T10:30:00.000000000",
          "2023-01-21T11:00:00.000000000",
          "2023-01-21T11:30:00.000000000",
          "2023-01-21T12:00:00.000000000",
          "2023-01-21T12:30:00.000000000",
          "2023-01-21T13:00:00.000000000",
          "2023-01-21T13:30:00.000000000",
          "2023-01-21T14:00:00.000000000",
          "2023-01-21T14:30:00.000000000",
          "2023-01-21T15:00:00.000000000",
          "2023-01-21T15:30:00.000000000",
          "2023-01-21T16:00:00.000000000",
          "2023-01-21T16:30:00.000000000",
          "2023-01-21T17:00:00.000000000",
          "2023-01-21T17:30:00.000000000",
          "2023-01-21T18:00:00.000000000",
          "2023-01-21T18:30:00.000000000",
          "2023-01-21T19:00:00.000000000",
          "2023-01-21T19:30:00.000000000",
          "2023-01-21T20:00:00.000000000",
          "2023-01-21T20:30:00.000000000",
          "2023-01-21T21:00:00.000000000",
          "2023-01-21T21:30:00.000000000",
          "2023-01-21T22:00:00.000000000",
          "2023-01-21T22:30:00.000000000",
          "2023-01-21T23:00:00.000000000",
          "2023-01-21T23:30:00.000000000",
          "2023-01-22T00:00:00.000000000",
          "2023-01-22T00:30:00.000000000",
          "2023-01-22T01:00:00.000000000",
          "2023-01-22T01:30:00.000000000",
          "2023-01-22T02:00:00.000000000",
          "2023-01-22T02:30:00.000000000",
          "2023-01-22T03:00:00.000000000",
          "2023-01-22T03:30:00.000000000",
          "2023-01-22T04:00:00.000000000",
          "2023-01-22T04:30:00.000000000",
          "2023-01-22T05:00:00.000000000",
          "2023-01-22T05:30:00.000000000",
          "2023-01-22T06:00:00.000000000",
          "2023-01-22T06:30:00.000000000",
          "2023-01-22T07:00:00.000000000",
          "2023-01-22T07:30:00.000000000",
          "2023-01-22T08:00:00.000000000",
          "2023-01-22T08:30:00.000000000",
          "2023-01-22T09:00:00.000000000",
          "2023-01-22T09:30:00.000000000",
          "2023-01-22T10:00:00.000000000",
          "2023-01-22T10:30:00.000000000",
          "2023-01-22T11:00:00.000000000",
          "2023-01-22T11:30:00.000000000",
          "2023-01-22T12:00:00.000000000",
          "2023-01-22T12:30:00.000000000",
          "2023-01-22T13:00:00.000000000",
          "2023-01-22T13:30:00.000000000",
          "2023-01-22T14:00:00.000000000",
          "2023-01-22T14:30:00.000000000",
          "2023-01-22T15:00:00.000000000",
          "2023-01-22T15:30:00.000000000",
          "2023-01-22T16:00:00.000000000",
          "2023-01-22T16:30:00.000000000",
          "2023-01-22T17:00:00.000000000",
          "2023-01-22T17:30:00.000000000",
          "2023-01-22T18:00:00.000000000",
          "2023-01-22T18:30:00.000000000",
          "2023-01-22T19:00:00.000000000",
          "2023-01-22T19:30:00.000000000",
          "2023-01-22T20:00:00.000000000",
          "2023-01-22T20:30:00.000000000",
          "2023-01-22T21:00:00.000000000",
          "2023-01-22T21:30:00.000000000",
          "2023-01-22T22:00:00.000000000",
          "2023-01-22T22:30:00.000000000",
          "2023-01-22T23:00:00.000000000",
          "2023-01-22T23:30:00.000000000",
          "2023-01-23T00:00:00.000000000"
         ],
         "xaxis": "x2",
         "y": {
          "bdata": "XI/C9Sg8Z0BxPQrXo6BqQHE9CtejCGdAPQrXo3ANakAAAAAAAFhqQOxRuB6Fi2lACtejcD2aaECuR+F6FG5oQNejcD0Kh2dArkfhehTGZkCkcD0K1wNmQBSuR+F63GVAZmZmZmYOZkCkcD0K16tlQMP1KFyPUmZAH4XrUbjOZkDsUbgehRtkQOF6FK5HCWdArkfhehR+ZUAUrkfherRoQHE9CtejyGVAcT0K16MIZ0DsUbgehbtoQFyPwvUonGdACtejcD0aZEDXo3A9CsdjQFK4HoXreWZAhetRuB41ZEBxPQrXoxBjQPYoXI/CBWJAzczMzMz0YUA9CtejcJViQAAAAAAAQGJAMzMzMzOzYUDsUbgehbNgQHsUrkfhAmJAFK5H4XpEYkApXI/C9WBhQArXo3A9smBAUrgeheuBXkCuR+F6FM5eQAAAAAAAIFxAUrgehetxXUCPwvUoXL9bQEjhehSuF2FAUrgeheu5YUCamZmZmaFgQKRwPQrXU19AuB6F61F4YUAAAAAAAJhhQArXo3A9omJAuB6F61HoZEAAAAAAALhiQClcj8L1iGNAw/UoXI/SY0DNzMzMzOxhQD0K16NwZWNArkfhehQOY0AUrkfhehRhQB+F61G4rmBAexSuR+FiYUA9CtejcLVgQPYoXI/CXWBAPQrXo3DdYECamZmZmSFgQAAAAAAA8GBApHA9CtfTYUD2KFyPwgVmQI/C9Shcb2hAzczMzMwUaUAK16NwPfpoQJqZmZmZMWdA16NwPQpHZkAUrkfhekRiQB+F61G4NmNAcT0K16OwX0CuR+F6FL5jQD0K16NwnWJACtejcD1iYkCkcD0K1ztiQM3MzMzMhGFAhetRuB7lY0DXo3A9CodiQBSuR+F6jGRA4XoUrkfZY0AUrkfheuRiQGZmZmZm/mFAMzMzMzMLYEC4HoXrUQBiQI/C9Shct2BASOF6FK5/YEAfhetRuK5fQB+F61G4rl9AH4XrUbiuX0AfhetRuK5fQB+F61G4rl9AH4XrUbiuX0AfhetRuK5fQB+F61G4rl9AH4XrUbiuX0AfhetRuK5fQB+F61G4rl9AH4XrUbiuX0AfhetRuK5fQB+F61G4rl9AH4XrUbiuX0AfhetRuK5fQB+F61G4rl9AH4XrUbiuX0AfhetRuK5fQB+F61G4rl9AH4XrUbiuX0AfhetRuK5fQB+F61G4rl9AH4XrUbiuX0AfhetRuK5fQB+F61G4rl9AH4XrUbiuX0AfhetRuK5fQB+F61G4rl9AH4XrUbiuX0AfhetRuK5fQB+F61G4rl9AH4XrUbiuX0AfhetRuK5fQB+F61G4rl9AH4XrUbiuX0AfhetRuK5fQB+F61G4rl9AH4XrUbiuX0AfhetRuK5fQB+F61G4rl9AH4XrUbiuX0AfhetRuK5fQB+F61G4rl9AH4XrUbiuX0AfhetRuK5fQB+F61G4rl9AH4XrUbiuX0AfhetRuK5fQB+F61G4rl9AH4XrUbiuX0AfhetRuK5fQB+F61G4rl9AH4XrUbiuX0A=",
          "dtype": "f8"
         },
         "yaxis": "y4"
        },
        {
         "line": {
          "color": "black",
          "dash": "dash",
          "width": 2
         },
         "marker": {
          "color": "rgb(144,144,144)"
         },
         "mode": "lines",
         "name": "SoC (%)",
         "type": "scatter",
         "x": [
          "2023-01-20T00:00:00.000000000",
          "2023-01-20T00:30:00.000000000",
          "2023-01-20T01:00:00.000000000",
          "2023-01-20T01:30:00.000000000",
          "2023-01-20T02:00:00.000000000",
          "2023-01-20T02:30:00.000000000",
          "2023-01-20T03:00:00.000000000",
          "2023-01-20T03:30:00.000000000",
          "2023-01-20T04:00:00.000000000",
          "2023-01-20T04:30:00.000000000",
          "2023-01-20T05:00:00.000000000",
          "2023-01-20T05:30:00.000000000",
          "2023-01-20T06:00:00.000000000",
          "2023-01-20T06:30:00.000000000",
          "2023-01-20T07:00:00.000000000",
          "2023-01-20T07:30:00.000000000",
          "2023-01-20T08:00:00.000000000",
          "2023-01-20T08:30:00.000000000",
          "2023-01-20T09:00:00.000000000",
          "2023-01-20T09:30:00.000000000",
          "2023-01-20T10:00:00.000000000",
          "2023-01-20T10:30:00.000000000",
          "2023-01-20T11:00:00.000000000",
          "2023-01-20T11:30:00.000000000",
          "2023-01-20T12:00:00.000000000",
          "2023-01-20T12:30:00.000000000",
          "2023-01-20T13:00:00.000000000",
          "2023-01-20T13:30:00.000000000",
          "2023-01-20T14:00:00.000000000",
          "2023-01-20T14:30:00.000000000",
          "2023-01-20T15:00:00.000000000",
          "2023-01-20T15:30:00.000000000",
          "2023-01-20T16:00:00.000000000",
          "2023-01-20T16:30:00.000000000",
          "2023-01-20T17:00:00.000000000",
          "2023-01-20T17:30:00.000000000",
          "2023-01-20T18:00:00.000000000",
          "2023-01-20T18:30:00.000000000",
          "2023-01-20T19:00:00.000000000",
          "2023-01-20T19:30:00.000000000",
          "2023-01-20T20:00:00.000000000",
          "2023-01-20T20:30:00.000000000",
          "2023-01-20T21:00:00.000000000",
          "2023-01-20T21:30:00.000000000",
          "2023-01-20T22:00:00.000000000",
          "2023-01-20T22:30:00.000000000",
          "2023-01-20T23:00:00.000000000",
          "2023-01-20T23:30:00.000000000",
          "2023-01-21T00:00:00.000000000",
          "2023-01-21T00:30:00.000000000",
          "2023-01-21T01:00:00.000000000",
          "2023-01-21T01:30:00.000000000",
          "2023-01-21T02:00:00.000000000",
          "2023-01-21T02:30:00.000000000",
          "2023-01-21T03:00:00.000000000",
          "2023-01-21T03:30:00.000000000",
          "2023-01-21T04:00:00.000000000",
          "2023-01-21T04:30:00.000000000",
          "2023-01-21T05:00:00.000000000",
          "2023-01-21T05:30:00.000000000",
          "2023-01-21T06:00:00.000000000",
          "2023-01-21T06:30:00.000000000",
          "2023-01-21T07:00:00.000000000",
          "2023-01-21T07:30:00.000000000",
          "2023-01-21T08:00:00.000000000",
          "2023-01-21T08:30:00.000000000",
          "2023-01-21T09:00:00.000000000",
          "2023-01-21T09:30:00.000000000",
          "2023-01-21T10:00:00.000000000",
          "2023-01-21T10:30:00.000000000",
          "2023-01-21T11:00:00.000000000",
          "2023-01-21T11:30:00.000000000",
          "2023-01-21T12:00:00.000000000",
          "2023-01-21T12:30:00.000000000",
          "2023-01-21T13:00:00.000000000",
          "2023-01-21T13:30:00.000000000",
          "2023-01-21T14:00:00.000000000",
          "2023-01-21T14:30:00.000000000",
          "2023-01-21T15:00:00.000000000",
          "2023-01-21T15:30:00.000000000",
          "2023-01-21T16:00:00.000000000",
          "2023-01-21T16:30:00.000000000",
          "2023-01-21T17:00:00.000000000",
          "2023-01-21T17:30:00.000000000",
          "2023-01-21T18:00:00.000000000",
          "2023-01-21T18:30:00.000000000",
          "2023-01-21T19:00:00.000000000",
          "2023-01-21T19:30:00.000000000",
          "2023-01-21T20:00:00.000000000",
          "2023-01-21T20:30:00.000000000",
          "2023-01-21T21:00:00.000000000",
          "2023-01-21T21:30:00.000000000",
          "2023-01-21T22:00:00.000000000",
          "2023-01-21T22:30:00.000000000",
          "2023-01-21T23:00:00.000000000",
          "2023-01-21T23:30:00.000000000",
          "2023-01-22T00:00:00.000000000",
          "2023-01-22T00:30:00.000000000",
          "2023-01-22T01:00:00.000000000",
          "2023-01-22T01:30:00.000000000",
          "2023-01-22T02:00:00.000000000",
          "2023-01-22T02:30:00.000000000",
          "2023-01-22T03:00:00.000000000",
          "2023-01-22T03:30:00.000000000",
          "2023-01-22T04:00:00.000000000",
          "2023-01-22T04:30:00.000000000",
          "2023-01-22T05:00:00.000000000",
          "2023-01-22T05:30:00.000000000",
          "2023-01-22T06:00:00.000000000",
          "2023-01-22T06:30:00.000000000",
          "2023-01-22T07:00:00.000000000",
          "2023-01-22T07:30:00.000000000",
          "2023-01-22T08:00:00.000000000",
          "2023-01-22T08:30:00.000000000",
          "2023-01-22T09:00:00.000000000",
          "2023-01-22T09:30:00.000000000",
          "2023-01-22T10:00:00.000000000",
          "2023-01-22T10:30:00.000000000",
          "2023-01-22T11:00:00.000000000",
          "2023-01-22T11:30:00.000000000",
          "2023-01-22T12:00:00.000000000",
          "2023-01-22T12:30:00.000000000",
          "2023-01-22T13:00:00.000000000",
          "2023-01-22T13:30:00.000000000",
          "2023-01-22T14:00:00.000000000",
          "2023-01-22T14:30:00.000000000",
          "2023-01-22T15:00:00.000000000",
          "2023-01-22T15:30:00.000000000",
          "2023-01-22T16:00:00.000000000",
          "2023-01-22T16:30:00.000000000",
          "2023-01-22T17:00:00.000000000",
          "2023-01-22T17:30:00.000000000",
          "2023-01-22T18:00:00.000000000",
          "2023-01-22T18:30:00.000000000",
          "2023-01-22T19:00:00.000000000",
          "2023-01-22T19:30:00.000000000",
          "2023-01-22T20:00:00.000000000",
          "2023-01-22T20:30:00.000000000",
          "2023-01-22T21:00:00.000000000",
          "2023-01-22T21:30:00.000000000",
          "2023-01-22T22:00:00.000000000",
          "2023-01-22T22:30:00.000000000",
          "2023-01-22T23:00:00.000000000",
          "2023-01-22T23:30:00.000000000",
          "2023-01-23T00:00:00.000000000"
         ],
         "xaxis": "x3",
         "y": {
          "bdata": "AAAAAAAAAAAAAAAAAAAAAAAAAAAAAAAAAAAAAAAAAAAAAAAAAAAAAAAAAAAAAAAAAAAAAAAAAAAAAAAAAAAAAAAAAAAAAAAAAAAAAAAAAAAAAAAAAAAAAAAAAAAAAAAAAAAAAAAAAAAAAAAAAAAAAAAAAAAAAAAAAAAAAABARUAAAAAAAEBVQD0K16NwHVdAexSuR+H6WEB7FK5H4fpYQHsUrkfh+lhAexSuR+H6WECWQ4ts5/tTQJZDi2zn+1NAlkOLbOf7U0Bh5dAi2/lNQJZDi2zn+0NAlkOLbOf7M0AAAAAAAAAAAAAAAAAAAAAAAAAAAAAAAAAAAAAAAAAAAAAAAAAAAAAAAAAAAAAAAAAAAAAAAAAAAJRDi2zn+0NAlEOLbOf7U0CUQ4ts5/tTQJRDi2zn+1NAlEOLbOf7U0CUQ4ts5/tTQJVDi2zn+1NAlkOLbOf7U0CWQ4ts5/tTQGHl0CLb+U1AlkOLbOf7Q0CWQ4ts5/szQAAAAAAAAAAAAAAAAAAAAAAAAAAAAAAAAAAAAAAAAAAAAAAAAAAAAAAAAAAAAAAAAAAAAAAAAAAAAAAAAAAAAAAAAAAAAAAAAAAAAAAAAAAAAAAAAAAAAAAAAAAAAAAAAAAAAAAAAAAAAAAAAAAAAAAAAAAAAAAAAAAAAAAAAAAAAAAAAAAAAAAAAAAAAAAAAAAAAAAAQEVAAAAAAABAVUCzcmiR7RxXQGLl0CLb+VhAtOpztRX7U0C26nO1FftTQLbqc7UV+1NAtupztRX7U0C26nO1FftTQLbqc7UV+1NAE+AtkKD4TUC46nO1FftDQL/qc7UV+zNAiXbK4Q7cJD2JdsrhDtwkPYl2yuEO3CQ9iXbK4Q7cJD2JdsrhDtwkPbjqc7UV+0NAtupztRX7U0C26nO1FftTQLbqc7UV+1NAtupztRX7U0C26nO1FftTQLbqc7UV+1NAtupztRX7U0AT4C2QoPhNQLjqc7UV+0NAv+pztRX7M0Cz6nO1FfszQAAAAAAAAAAAAAAAAAAAAAAAAAAAAAAAAAAAAAAAAAAAAAAAAAAAAAAAAAAAAAAAANKRXP5D+kNA0pFc/kP6U0DSkVz+Q/pTQNKRXP5D+lNAu9qK/WX3TUDTkVz+Q/pDQNSRXP5D+jNAAAAAAAAAAAAAAAAAAAAAAAAAAAAAAAAAAAAAAAAAAAAAAAAAAAAAAP3/////P0VA//////8/VUAk2/l+ahxXQEe28/3U+FhAR7bz/dT4WEBHtvP91PhYQEe28/3U+FhAR7bz/dT4WEBHtvP91PhYQEe28/3U+FhAR7bz/dT4WEBHtvP91PhYQEe28/3U+FhAR7bz/dT4WEBHtvP91PhYQEe28/3U+FhAR7bz/dT4WEBHtvP91PhYQEe28/3U+FhAR7bz/dT4WEBHtvP91PhYQEe28/3U+FhAR7bz/dT4WEBHtvP91PhYQEe28/3U+FhAR7bz/dT4WEDSkVz+Q/pTQLraiv1l901A0pFc/kP6Q0DRkVz+Q/ozQAAAAAAAAAAAAAAAAAAAAAA=",
          "dtype": "f8"
         },
         "yaxis": "y5"
        }
       ],
       "layout": {
        "annotations": [
         {
          "font": {
           "size": 14
          },
          "showarrow": false,
          "text": "Notes: Assumes perfect forecast at Day Ahead, with cycling reserved for intraday cycling",
          "x": 0,
          "xanchor": "left",
          "xref": "paper",
          "y": -0.2,
          "yanchor": "top",
          "yref": "paper"
         }
        ],
        "barmode": "relative",
        "font": {
         "color": "black",
         "family": "Century Gothic",
         "size": 14
        },
        "height": 600,
        "images": [
         {
          "sizex": 0.25,
          "sizey": 0.25,
          "source": "images/zenobe_logo.PNG",
          "x": 1.2,
          "xanchor": "right",
          "xref": "paper",
          "y": 1.05,
          "yanchor": "bottom",
          "yref": "paper"
         }
        ],
        "margin": {
         "b": 10
        },
        "paper_bgcolor": "rgb(256,256,256)",
        "plot_bgcolor": "rgb(256,256,256)",
        "template": {
         "data": {
          "bar": [
           {
            "error_x": {
             "color": "#2a3f5f"
            },
            "error_y": {
             "color": "#2a3f5f"
            },
            "marker": {
             "line": {
              "color": "#E5ECF6",
              "width": 0.5
             },
             "pattern": {
              "fillmode": "overlay",
              "size": 10,
              "solidity": 0.2
             }
            },
            "type": "bar"
           }
          ],
          "barpolar": [
           {
            "marker": {
             "line": {
              "color": "#E5ECF6",
              "width": 0.5
             },
             "pattern": {
              "fillmode": "overlay",
              "size": 10,
              "solidity": 0.2
             }
            },
            "type": "barpolar"
           }
          ],
          "carpet": [
           {
            "aaxis": {
             "endlinecolor": "#2a3f5f",
             "gridcolor": "white",
             "linecolor": "white",
             "minorgridcolor": "white",
             "startlinecolor": "#2a3f5f"
            },
            "baxis": {
             "endlinecolor": "#2a3f5f",
             "gridcolor": "white",
             "linecolor": "white",
             "minorgridcolor": "white",
             "startlinecolor": "#2a3f5f"
            },
            "type": "carpet"
           }
          ],
          "choropleth": [
           {
            "colorbar": {
             "outlinewidth": 0,
             "ticks": ""
            },
            "type": "choropleth"
           }
          ],
          "contour": [
           {
            "colorbar": {
             "outlinewidth": 0,
             "ticks": ""
            },
            "colorscale": [
             [
              0,
              "#0d0887"
             ],
             [
              0.1111111111111111,
              "#46039f"
             ],
             [
              0.2222222222222222,
              "#7201a8"
             ],
             [
              0.3333333333333333,
              "#9c179e"
             ],
             [
              0.4444444444444444,
              "#bd3786"
             ],
             [
              0.5555555555555556,
              "#d8576b"
             ],
             [
              0.6666666666666666,
              "#ed7953"
             ],
             [
              0.7777777777777778,
              "#fb9f3a"
             ],
             [
              0.8888888888888888,
              "#fdca26"
             ],
             [
              1,
              "#f0f921"
             ]
            ],
            "type": "contour"
           }
          ],
          "contourcarpet": [
           {
            "colorbar": {
             "outlinewidth": 0,
             "ticks": ""
            },
            "type": "contourcarpet"
           }
          ],
          "heatmap": [
           {
            "colorbar": {
             "outlinewidth": 0,
             "ticks": ""
            },
            "colorscale": [
             [
              0,
              "#0d0887"
             ],
             [
              0.1111111111111111,
              "#46039f"
             ],
             [
              0.2222222222222222,
              "#7201a8"
             ],
             [
              0.3333333333333333,
              "#9c179e"
             ],
             [
              0.4444444444444444,
              "#bd3786"
             ],
             [
              0.5555555555555556,
              "#d8576b"
             ],
             [
              0.6666666666666666,
              "#ed7953"
             ],
             [
              0.7777777777777778,
              "#fb9f3a"
             ],
             [
              0.8888888888888888,
              "#fdca26"
             ],
             [
              1,
              "#f0f921"
             ]
            ],
            "type": "heatmap"
           }
          ],
          "histogram": [
           {
            "marker": {
             "pattern": {
              "fillmode": "overlay",
              "size": 10,
              "solidity": 0.2
             }
            },
            "type": "histogram"
           }
          ],
          "histogram2d": [
           {
            "colorbar": {
             "outlinewidth": 0,
             "ticks": ""
            },
            "colorscale": [
             [
              0,
              "#0d0887"
             ],
             [
              0.1111111111111111,
              "#46039f"
             ],
             [
              0.2222222222222222,
              "#7201a8"
             ],
             [
              0.3333333333333333,
              "#9c179e"
             ],
             [
              0.4444444444444444,
              "#bd3786"
             ],
             [
              0.5555555555555556,
              "#d8576b"
             ],
             [
              0.6666666666666666,
              "#ed7953"
             ],
             [
              0.7777777777777778,
              "#fb9f3a"
             ],
             [
              0.8888888888888888,
              "#fdca26"
             ],
             [
              1,
              "#f0f921"
             ]
            ],
            "type": "histogram2d"
           }
          ],
          "histogram2dcontour": [
           {
            "colorbar": {
             "outlinewidth": 0,
             "ticks": ""
            },
            "colorscale": [
             [
              0,
              "#0d0887"
             ],
             [
              0.1111111111111111,
              "#46039f"
             ],
             [
              0.2222222222222222,
              "#7201a8"
             ],
             [
              0.3333333333333333,
              "#9c179e"
             ],
             [
              0.4444444444444444,
              "#bd3786"
             ],
             [
              0.5555555555555556,
              "#d8576b"
             ],
             [
              0.6666666666666666,
              "#ed7953"
             ],
             [
              0.7777777777777778,
              "#fb9f3a"
             ],
             [
              0.8888888888888888,
              "#fdca26"
             ],
             [
              1,
              "#f0f921"
             ]
            ],
            "type": "histogram2dcontour"
           }
          ],
          "mesh3d": [
           {
            "colorbar": {
             "outlinewidth": 0,
             "ticks": ""
            },
            "type": "mesh3d"
           }
          ],
          "parcoords": [
           {
            "line": {
             "colorbar": {
              "outlinewidth": 0,
              "ticks": ""
             }
            },
            "type": "parcoords"
           }
          ],
          "pie": [
           {
            "automargin": true,
            "type": "pie"
           }
          ],
          "scatter": [
           {
            "fillpattern": {
             "fillmode": "overlay",
             "size": 10,
             "solidity": 0.2
            },
            "type": "scatter"
           }
          ],
          "scatter3d": [
           {
            "line": {
             "colorbar": {
              "outlinewidth": 0,
              "ticks": ""
             }
            },
            "marker": {
             "colorbar": {
              "outlinewidth": 0,
              "ticks": ""
             }
            },
            "type": "scatter3d"
           }
          ],
          "scattercarpet": [
           {
            "marker": {
             "colorbar": {
              "outlinewidth": 0,
              "ticks": ""
             }
            },
            "type": "scattercarpet"
           }
          ],
          "scattergeo": [
           {
            "marker": {
             "colorbar": {
              "outlinewidth": 0,
              "ticks": ""
             }
            },
            "type": "scattergeo"
           }
          ],
          "scattergl": [
           {
            "marker": {
             "colorbar": {
              "outlinewidth": 0,
              "ticks": ""
             }
            },
            "type": "scattergl"
           }
          ],
          "scattermap": [
           {
            "marker": {
             "colorbar": {
              "outlinewidth": 0,
              "ticks": ""
             }
            },
            "type": "scattermap"
           }
          ],
          "scattermapbox": [
           {
            "marker": {
             "colorbar": {
              "outlinewidth": 0,
              "ticks": ""
             }
            },
            "type": "scattermapbox"
           }
          ],
          "scatterpolar": [
           {
            "marker": {
             "colorbar": {
              "outlinewidth": 0,
              "ticks": ""
             }
            },
            "type": "scatterpolar"
           }
          ],
          "scatterpolargl": [
           {
            "marker": {
             "colorbar": {
              "outlinewidth": 0,
              "ticks": ""
             }
            },
            "type": "scatterpolargl"
           }
          ],
          "scatterternary": [
           {
            "marker": {
             "colorbar": {
              "outlinewidth": 0,
              "ticks": ""
             }
            },
            "type": "scatterternary"
           }
          ],
          "surface": [
           {
            "colorbar": {
             "outlinewidth": 0,
             "ticks": ""
            },
            "colorscale": [
             [
              0,
              "#0d0887"
             ],
             [
              0.1111111111111111,
              "#46039f"
             ],
             [
              0.2222222222222222,
              "#7201a8"
             ],
             [
              0.3333333333333333,
              "#9c179e"
             ],
             [
              0.4444444444444444,
              "#bd3786"
             ],
             [
              0.5555555555555556,
              "#d8576b"
             ],
             [
              0.6666666666666666,
              "#ed7953"
             ],
             [
              0.7777777777777778,
              "#fb9f3a"
             ],
             [
              0.8888888888888888,
              "#fdca26"
             ],
             [
              1,
              "#f0f921"
             ]
            ],
            "type": "surface"
           }
          ],
          "table": [
           {
            "cells": {
             "fill": {
              "color": "#EBF0F8"
             },
             "line": {
              "color": "white"
             }
            },
            "header": {
             "fill": {
              "color": "#C8D4E3"
             },
             "line": {
              "color": "white"
             }
            },
            "type": "table"
           }
          ]
         },
         "layout": {
          "annotationdefaults": {
           "arrowcolor": "#2a3f5f",
           "arrowhead": 0,
           "arrowwidth": 1
          },
          "autotypenumbers": "strict",
          "coloraxis": {
           "colorbar": {
            "outlinewidth": 0,
            "ticks": ""
           }
          },
          "colorscale": {
           "diverging": [
            [
             0,
             "#8e0152"
            ],
            [
             0.1,
             "#c51b7d"
            ],
            [
             0.2,
             "#de77ae"
            ],
            [
             0.3,
             "#f1b6da"
            ],
            [
             0.4,
             "#fde0ef"
            ],
            [
             0.5,
             "#f7f7f7"
            ],
            [
             0.6,
             "#e6f5d0"
            ],
            [
             0.7,
             "#b8e186"
            ],
            [
             0.8,
             "#7fbc41"
            ],
            [
             0.9,
             "#4d9221"
            ],
            [
             1,
             "#276419"
            ]
           ],
           "sequential": [
            [
             0,
             "#0d0887"
            ],
            [
             0.1111111111111111,
             "#46039f"
            ],
            [
             0.2222222222222222,
             "#7201a8"
            ],
            [
             0.3333333333333333,
             "#9c179e"
            ],
            [
             0.4444444444444444,
             "#bd3786"
            ],
            [
             0.5555555555555556,
             "#d8576b"
            ],
            [
             0.6666666666666666,
             "#ed7953"
            ],
            [
             0.7777777777777778,
             "#fb9f3a"
            ],
            [
             0.8888888888888888,
             "#fdca26"
            ],
            [
             1,
             "#f0f921"
            ]
           ],
           "sequentialminus": [
            [
             0,
             "#0d0887"
            ],
            [
             0.1111111111111111,
             "#46039f"
            ],
            [
             0.2222222222222222,
             "#7201a8"
            ],
            [
             0.3333333333333333,
             "#9c179e"
            ],
            [
             0.4444444444444444,
             "#bd3786"
            ],
            [
             0.5555555555555556,
             "#d8576b"
            ],
            [
             0.6666666666666666,
             "#ed7953"
            ],
            [
             0.7777777777777778,
             "#fb9f3a"
            ],
            [
             0.8888888888888888,
             "#fdca26"
            ],
            [
             1,
             "#f0f921"
            ]
           ]
          },
          "colorway": [
           "#636efa",
           "#EF553B",
           "#00cc96",
           "#ab63fa",
           "#FFA15A",
           "#19d3f3",
           "#FF6692",
           "#B6E880",
           "#FF97FF",
           "#FECB52"
          ],
          "font": {
           "color": "#2a3f5f"
          },
          "geo": {
           "bgcolor": "white",
           "lakecolor": "white",
           "landcolor": "#E5ECF6",
           "showlakes": true,
           "showland": true,
           "subunitcolor": "white"
          },
          "hoverlabel": {
           "align": "left"
          },
          "hovermode": "closest",
          "mapbox": {
           "style": "light"
          },
          "paper_bgcolor": "white",
          "plot_bgcolor": "#E5ECF6",
          "polar": {
           "angularaxis": {
            "gridcolor": "white",
            "linecolor": "white",
            "ticks": ""
           },
           "bgcolor": "#E5ECF6",
           "radialaxis": {
            "gridcolor": "white",
            "linecolor": "white",
            "ticks": ""
           }
          },
          "scene": {
           "xaxis": {
            "backgroundcolor": "#E5ECF6",
            "gridcolor": "white",
            "gridwidth": 2,
            "linecolor": "white",
            "showbackground": true,
            "ticks": "",
            "zerolinecolor": "white"
           },
           "yaxis": {
            "backgroundcolor": "#E5ECF6",
            "gridcolor": "white",
            "gridwidth": 2,
            "linecolor": "white",
            "showbackground": true,
            "ticks": "",
            "zerolinecolor": "white"
           },
           "zaxis": {
            "backgroundcolor": "#E5ECF6",
            "gridcolor": "white",
            "gridwidth": 2,
            "linecolor": "white",
            "showbackground": true,
            "ticks": "",
            "zerolinecolor": "white"
           }
          },
          "shapedefaults": {
           "line": {
            "color": "#2a3f5f"
           }
          },
          "ternary": {
           "aaxis": {
            "gridcolor": "white",
            "linecolor": "white",
            "ticks": ""
           },
           "baxis": {
            "gridcolor": "white",
            "linecolor": "white",
            "ticks": ""
           },
           "bgcolor": "#E5ECF6",
           "caxis": {
            "gridcolor": "white",
            "linecolor": "white",
            "ticks": ""
           }
          },
          "title": {
           "x": 0.05
          },
          "xaxis": {
           "automargin": true,
           "gridcolor": "white",
           "linecolor": "white",
           "ticks": "",
           "title": {
            "standoff": 15
           },
           "zerolinecolor": "white",
           "zerolinewidth": 2
          },
          "yaxis": {
           "automargin": true,
           "gridcolor": "white",
           "linecolor": "white",
           "ticks": "",
           "title": {
            "standoff": 15
           },
           "zerolinecolor": "white",
           "zerolinewidth": 2
          }
         }
        },
        "title": {
         "text": "Example Operation from 2023-01-20 to 2023-01-23<br><sup>100MW/100MWh BESS, 2 cycles max",
         "x": 0.5,
         "xanchor": "center",
         "yanchor": "top"
        },
        "width": 1000,
        "xaxis": {
         "anchor": "y",
         "domain": [
          0,
          0.94
         ]
        },
        "xaxis2": {
         "anchor": "y3",
         "domain": [
          0,
          0.94
         ]
        },
        "xaxis3": {
         "anchor": "y5",
         "domain": [
          0,
          0.94
         ]
        },
        "yaxis": {
         "anchor": "x",
         "domain": [
          0.7333333333333333,
          1
         ],
         "title": {
          "text": "Power (MW)"
         }
        },
        "yaxis2": {
         "anchor": "x",
         "overlaying": "y",
         "side": "right",
         "title": {
          "text": "Price (£/MWh)"
         }
        },
        "yaxis3": {
         "anchor": "x2",
         "domain": [
          0.36666666666666664,
          0.6333333333333333
         ],
         "title": {
          "text": "Power (MW)"
         }
        },
        "yaxis4": {
         "anchor": "x2",
         "overlaying": "y3",
         "side": "right",
         "title": {
          "text": "Price (£/MWh)"
         }
        },
        "yaxis5": {
         "anchor": "x3",
         "domain": [
          0,
          0.26666666666666666
         ],
         "range": [
          0,
          110
         ],
         "title": {
          "text": "SoC (%)"
         }
        },
        "yaxis6": {
         "anchor": "x3",
         "overlaying": "y5",
         "side": "right"
        }
       }
      }
     },
     "metadata": {},
     "output_type": "display_data"
    }
   ],
   "source": [
    "fig.update_layout(barmode='overlay',\n",
    "                  font=dict(\n",
    "        family=font_family,\n",
    "        size=font_size,\n",
    "        color= zenobe_black,\n",
    "    ),)\n",
    "# Update the layout to show time on x-axis\n",
    "\n",
    "fig.update_layout(title=dict(x = 0.5,\n",
    "                            xanchor =  'center',\n",
    "                            yanchor = 'top',text=f\"Example Operation from {random_period_start.date()} to {random_period_end.date()}<br><sup>{project_power_capacity}MW/{project_energy_capacity}MWh BESS, 2 cycles max\"),\n",
    "                    \n",
    ")\n",
    "fig.update_layout(\n",
    "    margin=dict(b=10),\n",
    "    annotations=[\n",
    "        go.layout.Annotation(\n",
    "            x=0,  # X position on the axis (0 is the far left, 1 is far right)\n",
    "            y=-0.2,  # Y position below the plot (negative value to place it below)\n",
    "            xref='paper',  # 'paper' makes the annotation relative to the entire plot (not data coordinates)\n",
    "            yref='paper',\n",
    "            text=f\"Notes: Assumes perfect forecast at Day Ahead, with cycling reserved for intraday cycling\",  # The note text\n",
    "            showarrow=False,  # No arrow\n",
    "            xanchor='left',  # Align the text to the left\n",
    "            yanchor='top',  # Anchor the note to the top of the y-position\n",
    "            font=dict(size=14)  # Customize the font size if needed\n",
    "        ),\n",
    "        \n",
    "    ]\n",
    ")\n",
    "fig.add_layout_image(\n",
    "    dict(\n",
    "        source=\"images/zenobe_logo.PNG\",  # Path to the logo\n",
    "        xref=\"paper\", yref=\"paper\",\n",
    "        x=1.2, y=1.05,  # Positioning the logo at the top right\n",
    "        sizex=.25, sizey=.25,  # Adjust size based on your needs\n",
    "        xanchor=\"right\", yanchor=\"bottom\"\n",
    "    )\n",
    ")\n",
    "fig.update_layout(\n",
    "    paper_bgcolor='rgb(256,256,256)',\n",
    "    plot_bgcolor='rgb(256,256,256)',\n",
    "    font_color=\"black\",\n",
    "    barmode=\"relative\",\n",
    "    width=1000,\n",
    "    height=600,\n",
    ")\n",
    "fig.show()"
   ]
  }
 ],
 "metadata": {
  "kernelspec": {
   "display_name": ".venv",
   "language": "python",
   "name": "python3"
  },
  "language_info": {
   "codemirror_mode": {
    "name": "ipython",
    "version": 3
   },
   "file_extension": ".py",
   "mimetype": "text/x-python",
   "name": "python",
   "nbconvert_exporter": "python",
   "pygments_lexer": "ipython3",
   "version": "3.12.9"
  },
  "orig_nbformat": 4
 },
 "nbformat": 4,
 "nbformat_minor": 2
}
