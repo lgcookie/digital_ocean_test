{
 "cells": [
  {
   "cell_type": "markdown",
   "metadata": {},
   "source": [
    "### Cycling & Degradation Profile\n",
    "\n",
    "This file allows the user to generate a visualisation of cycling and degradation of the BESS.\n",
    "\n",
    "1. Inputs\n",
    "raw_output_filename:str - the model output filename that the user wants to analyse\n",
    "random_day:pd.datetime - the date the user desires to view\n",
    "\n",
    "2. Outputs\n",
    "figure:plotlyfig - a plotly figure"
   ]
  },
  {
   "cell_type": "code",
   "execution_count": 113,
   "metadata": {},
   "outputs": [],
   "source": [
    "import os \n",
    "import pandas as pd\n",
    "import plotly.express as px\n",
    "import nbformat\n",
    "import plotly.graph_objects as go\n",
    "\n",
    "# set some default colors\n",
    "zenobe_grey = \"#9B9A9A\"\n",
    "zenobe_red = \"#F37676\"\n",
    "zenobe_black = \"#000000\"\n",
    "zenobe_blue = \"#4d76ff\"\n",
    "zenobe_green =\"#008000\"\n",
    "\n",
    "graph_primary = \"rgba(230,98,5,1)\" \n",
    "graph_primary_med = \"rgba(230,98,5,0.75)\" \n",
    "graph_primary_light = \"rgba(230,98,5,0.4)\"\n",
    "graph_primary_v_light = \"rgba(230,98,5,0.1)\"\n",
    "graph_secondary = \"rgb(144,144,144)\"\n",
    "graph_secondary_med = \"rgba(144,144,144,0.75)\" \n",
    "graph_secondary_light = \"rgba(144,144,144,0.5)\"\n",
    "graph_secondary_v_light = \"rgba(144,144,144,0.2)\"\n",
    "\n",
    "\n",
    "font_size = 14\n",
    "font_family = \"Century Gothic\"\n",
    "num_time_periods = 48\n",
    "font_color = \"black\"\n",
    "project_name = \"Example\"\n",
    "logo_filename = \"zenobe_logo.png\"\n",
    "project_power_capacity = 100\n",
    "project_energy_capacity = 100\n",
    "\n"
   ]
  },
  {
   "cell_type": "code",
   "execution_count": 114,
   "metadata": {},
   "outputs": [
    {
     "data": {
      "text/html": [
       "<div>\n",
       "<style scoped>\n",
       "    .dataframe tbody tr th:only-of-type {\n",
       "        vertical-align: middle;\n",
       "    }\n",
       "\n",
       "    .dataframe tbody tr th {\n",
       "        vertical-align: top;\n",
       "    }\n",
       "\n",
       "    .dataframe thead th {\n",
       "        text-align: right;\n",
       "    }\n",
       "</style>\n",
       "<table border=\"1\" class=\"dataframe\">\n",
       "  <thead>\n",
       "    <tr style=\"text-align: right;\">\n",
       "      <th></th>\n",
       "      <th>settlement_period</th>\n",
       "      <th>day_ahead_price</th>\n",
       "      <th>degraded_energy_capacity</th>\n",
       "      <th>intraday_price</th>\n",
       "      <th>import_da_vol</th>\n",
       "      <th>import_bess</th>\n",
       "      <th>export_da_vol</th>\n",
       "      <th>export_bess</th>\n",
       "      <th>soc</th>\n",
       "      <th>da_export_throughput</th>\n",
       "      <th>...</th>\n",
       "      <th>energy_flow_export_da_vol</th>\n",
       "      <th>energy_flow_export_intraday_bess_vol</th>\n",
       "      <th>energy_flow_import_da_vol</th>\n",
       "      <th>energy_flow_import_intraday_bess_vol</th>\n",
       "      <th>cash_flow_export_da_vol</th>\n",
       "      <th>cash_flow_export_intraday_bess_vol</th>\n",
       "      <th>cash_flow_import_da_vol</th>\n",
       "      <th>cash_flow_import_intraday_bess_vol</th>\n",
       "      <th>cash_flow_bess_da</th>\n",
       "      <th>cash_flow_bess_intraday</th>\n",
       "    </tr>\n",
       "  </thead>\n",
       "  <tbody>\n",
       "    <tr>\n",
       "      <th>2023-01-15 00:00:00</th>\n",
       "      <td>1</td>\n",
       "      <td>129.94</td>\n",
       "      <td>100.00</td>\n",
       "      <td>4.12</td>\n",
       "      <td>0.0</td>\n",
       "      <td>1.0</td>\n",
       "      <td>0.000</td>\n",
       "      <td>0.0</td>\n",
       "      <td>0.000</td>\n",
       "      <td>0.000</td>\n",
       "      <td>...</td>\n",
       "      <td>0.000</td>\n",
       "      <td>0.000000e+00</td>\n",
       "      <td>0.0</td>\n",
       "      <td>0.000000</td>\n",
       "      <td>0.00000</td>\n",
       "      <td>0.000000e+00</td>\n",
       "      <td>-0.0</td>\n",
       "      <td>-0.000000</td>\n",
       "      <td>0.00000</td>\n",
       "      <td>0.000000e+00</td>\n",
       "    </tr>\n",
       "    <tr>\n",
       "      <th>2023-01-15 00:30:00</th>\n",
       "      <td>2</td>\n",
       "      <td>129.94</td>\n",
       "      <td>100.00</td>\n",
       "      <td>12.81</td>\n",
       "      <td>0.0</td>\n",
       "      <td>1.0</td>\n",
       "      <td>0.000</td>\n",
       "      <td>0.0</td>\n",
       "      <td>0.000</td>\n",
       "      <td>0.000</td>\n",
       "      <td>...</td>\n",
       "      <td>0.000</td>\n",
       "      <td>0.000000e+00</td>\n",
       "      <td>0.0</td>\n",
       "      <td>23.529412</td>\n",
       "      <td>0.00000</td>\n",
       "      <td>0.000000e+00</td>\n",
       "      <td>-0.0</td>\n",
       "      <td>-354.602076</td>\n",
       "      <td>0.00000</td>\n",
       "      <td>-3.546021e+02</td>\n",
       "    </tr>\n",
       "    <tr>\n",
       "      <th>2023-01-15 01:00:00</th>\n",
       "      <td>3</td>\n",
       "      <td>47.06</td>\n",
       "      <td>100.00</td>\n",
       "      <td>18.95</td>\n",
       "      <td>0.0</td>\n",
       "      <td>1.0</td>\n",
       "      <td>0.000</td>\n",
       "      <td>0.0</td>\n",
       "      <td>0.000</td>\n",
       "      <td>0.000</td>\n",
       "      <td>...</td>\n",
       "      <td>0.000</td>\n",
       "      <td>0.000000e+00</td>\n",
       "      <td>0.0</td>\n",
       "      <td>0.000000</td>\n",
       "      <td>0.00000</td>\n",
       "      <td>0.000000e+00</td>\n",
       "      <td>-0.0</td>\n",
       "      <td>-0.000000</td>\n",
       "      <td>0.00000</td>\n",
       "      <td>0.000000e+00</td>\n",
       "    </tr>\n",
       "    <tr>\n",
       "      <th>2023-01-15 01:30:00</th>\n",
       "      <td>4</td>\n",
       "      <td>47.06</td>\n",
       "      <td>100.00</td>\n",
       "      <td>65.55</td>\n",
       "      <td>0.0</td>\n",
       "      <td>1.0</td>\n",
       "      <td>0.000</td>\n",
       "      <td>0.0</td>\n",
       "      <td>0.000</td>\n",
       "      <td>0.000</td>\n",
       "      <td>...</td>\n",
       "      <td>0.000</td>\n",
       "      <td>0.000000e+00</td>\n",
       "      <td>0.0</td>\n",
       "      <td>0.000000</td>\n",
       "      <td>0.00000</td>\n",
       "      <td>0.000000e+00</td>\n",
       "      <td>-0.0</td>\n",
       "      <td>-0.000000</td>\n",
       "      <td>0.00000</td>\n",
       "      <td>0.000000e+00</td>\n",
       "    </tr>\n",
       "    <tr>\n",
       "      <th>2023-01-15 02:00:00</th>\n",
       "      <td>5</td>\n",
       "      <td>39.40</td>\n",
       "      <td>100.00</td>\n",
       "      <td>102.43</td>\n",
       "      <td>0.0</td>\n",
       "      <td>1.0</td>\n",
       "      <td>0.000</td>\n",
       "      <td>0.0</td>\n",
       "      <td>0.000</td>\n",
       "      <td>0.000</td>\n",
       "      <td>...</td>\n",
       "      <td>0.000</td>\n",
       "      <td>0.000000e+00</td>\n",
       "      <td>0.0</td>\n",
       "      <td>0.000000</td>\n",
       "      <td>0.00000</td>\n",
       "      <td>0.000000e+00</td>\n",
       "      <td>-0.0</td>\n",
       "      <td>-0.000000</td>\n",
       "      <td>0.00000</td>\n",
       "      <td>0.000000e+00</td>\n",
       "    </tr>\n",
       "    <tr>\n",
       "      <th>...</th>\n",
       "      <td>...</td>\n",
       "      <td>...</td>\n",
       "      <td>...</td>\n",
       "      <td>...</td>\n",
       "      <td>...</td>\n",
       "      <td>...</td>\n",
       "      <td>...</td>\n",
       "      <td>...</td>\n",
       "      <td>...</td>\n",
       "      <td>...</td>\n",
       "      <td>...</td>\n",
       "      <td>...</td>\n",
       "      <td>...</td>\n",
       "      <td>...</td>\n",
       "      <td>...</td>\n",
       "      <td>...</td>\n",
       "      <td>...</td>\n",
       "      <td>...</td>\n",
       "      <td>...</td>\n",
       "      <td>...</td>\n",
       "      <td>...</td>\n",
       "    </tr>\n",
       "    <tr>\n",
       "      <th>2023-01-30 21:30:00</th>\n",
       "      <td>44</td>\n",
       "      <td>161.94</td>\n",
       "      <td>99.76</td>\n",
       "      <td>64.22</td>\n",
       "      <td>0.0</td>\n",
       "      <td>0.0</td>\n",
       "      <td>39.904</td>\n",
       "      <td>1.0</td>\n",
       "      <td>79.808</td>\n",
       "      <td>19.952</td>\n",
       "      <td>...</td>\n",
       "      <td>19.952</td>\n",
       "      <td>3.552714e-15</td>\n",
       "      <td>0.0</td>\n",
       "      <td>23.472941</td>\n",
       "      <td>3231.02688</td>\n",
       "      <td>2.281553e-13</td>\n",
       "      <td>-0.0</td>\n",
       "      <td>-1773.449744</td>\n",
       "      <td>3231.02688</td>\n",
       "      <td>-1.773450e+03</td>\n",
       "    </tr>\n",
       "    <tr>\n",
       "      <th>2023-01-30 22:00:00</th>\n",
       "      <td>45</td>\n",
       "      <td>190.26</td>\n",
       "      <td>99.76</td>\n",
       "      <td>76.03</td>\n",
       "      <td>0.0</td>\n",
       "      <td>0.0</td>\n",
       "      <td>39.904</td>\n",
       "      <td>1.0</td>\n",
       "      <td>59.856</td>\n",
       "      <td>19.952</td>\n",
       "      <td>...</td>\n",
       "      <td>19.952</td>\n",
       "      <td>3.552714e-15</td>\n",
       "      <td>0.0</td>\n",
       "      <td>0.000000</td>\n",
       "      <td>3796.06752</td>\n",
       "      <td>2.701128e-13</td>\n",
       "      <td>-0.0</td>\n",
       "      <td>-0.000000</td>\n",
       "      <td>3796.06752</td>\n",
       "      <td>2.701128e-13</td>\n",
       "    </tr>\n",
       "    <tr>\n",
       "      <th>2023-01-30 22:30:00</th>\n",
       "      <td>46</td>\n",
       "      <td>190.26</td>\n",
       "      <td>99.76</td>\n",
       "      <td>116.75</td>\n",
       "      <td>0.0</td>\n",
       "      <td>0.0</td>\n",
       "      <td>39.904</td>\n",
       "      <td>1.0</td>\n",
       "      <td>39.904</td>\n",
       "      <td>19.952</td>\n",
       "      <td>...</td>\n",
       "      <td>19.952</td>\n",
       "      <td>3.552714e-15</td>\n",
       "      <td>0.0</td>\n",
       "      <td>0.000000</td>\n",
       "      <td>3796.06752</td>\n",
       "      <td>4.147793e-13</td>\n",
       "      <td>-0.0</td>\n",
       "      <td>-0.000000</td>\n",
       "      <td>3796.06752</td>\n",
       "      <td>4.147793e-13</td>\n",
       "    </tr>\n",
       "    <tr>\n",
       "      <th>2023-01-30 23:00:00</th>\n",
       "      <td>47</td>\n",
       "      <td>190.00</td>\n",
       "      <td>99.76</td>\n",
       "      <td>139.73</td>\n",
       "      <td>0.0</td>\n",
       "      <td>0.0</td>\n",
       "      <td>39.904</td>\n",
       "      <td>1.0</td>\n",
       "      <td>19.952</td>\n",
       "      <td>19.952</td>\n",
       "      <td>...</td>\n",
       "      <td>19.952</td>\n",
       "      <td>3.552714e-15</td>\n",
       "      <td>0.0</td>\n",
       "      <td>0.000000</td>\n",
       "      <td>3790.88000</td>\n",
       "      <td>4.964207e-13</td>\n",
       "      <td>-0.0</td>\n",
       "      <td>-0.000000</td>\n",
       "      <td>3790.88000</td>\n",
       "      <td>4.964207e-13</td>\n",
       "    </tr>\n",
       "    <tr>\n",
       "      <th>2023-01-30 23:30:00</th>\n",
       "      <td>48</td>\n",
       "      <td>190.00</td>\n",
       "      <td>99.76</td>\n",
       "      <td>137.33</td>\n",
       "      <td>0.0</td>\n",
       "      <td>0.0</td>\n",
       "      <td>39.904</td>\n",
       "      <td>1.0</td>\n",
       "      <td>0.000</td>\n",
       "      <td>19.952</td>\n",
       "      <td>...</td>\n",
       "      <td>19.952</td>\n",
       "      <td>3.552714e-15</td>\n",
       "      <td>0.0</td>\n",
       "      <td>0.000000</td>\n",
       "      <td>3790.88000</td>\n",
       "      <td>4.878942e-13</td>\n",
       "      <td>-0.0</td>\n",
       "      <td>-0.000000</td>\n",
       "      <td>3790.88000</td>\n",
       "      <td>4.878942e-13</td>\n",
       "    </tr>\n",
       "  </tbody>\n",
       "</table>\n",
       "<p>768 rows × 26 columns</p>\n",
       "</div>"
      ],
      "text/plain": [
       "                     settlement_period  day_ahead_price  \\\n",
       "2023-01-15 00:00:00                  1           129.94   \n",
       "2023-01-15 00:30:00                  2           129.94   \n",
       "2023-01-15 01:00:00                  3            47.06   \n",
       "2023-01-15 01:30:00                  4            47.06   \n",
       "2023-01-15 02:00:00                  5            39.40   \n",
       "...                                ...              ...   \n",
       "2023-01-30 21:30:00                 44           161.94   \n",
       "2023-01-30 22:00:00                 45           190.26   \n",
       "2023-01-30 22:30:00                 46           190.26   \n",
       "2023-01-30 23:00:00                 47           190.00   \n",
       "2023-01-30 23:30:00                 48           190.00   \n",
       "\n",
       "                     degraded_energy_capacity  intraday_price  import_da_vol  \\\n",
       "2023-01-15 00:00:00                    100.00            4.12            0.0   \n",
       "2023-01-15 00:30:00                    100.00           12.81            0.0   \n",
       "2023-01-15 01:00:00                    100.00           18.95            0.0   \n",
       "2023-01-15 01:30:00                    100.00           65.55            0.0   \n",
       "2023-01-15 02:00:00                    100.00          102.43            0.0   \n",
       "...                                       ...             ...            ...   \n",
       "2023-01-30 21:30:00                     99.76           64.22            0.0   \n",
       "2023-01-30 22:00:00                     99.76           76.03            0.0   \n",
       "2023-01-30 22:30:00                     99.76          116.75            0.0   \n",
       "2023-01-30 23:00:00                     99.76          139.73            0.0   \n",
       "2023-01-30 23:30:00                     99.76          137.33            0.0   \n",
       "\n",
       "                     import_bess  export_da_vol  export_bess     soc  \\\n",
       "2023-01-15 00:00:00          1.0          0.000          0.0   0.000   \n",
       "2023-01-15 00:30:00          1.0          0.000          0.0   0.000   \n",
       "2023-01-15 01:00:00          1.0          0.000          0.0   0.000   \n",
       "2023-01-15 01:30:00          1.0          0.000          0.0   0.000   \n",
       "2023-01-15 02:00:00          1.0          0.000          0.0   0.000   \n",
       "...                          ...            ...          ...     ...   \n",
       "2023-01-30 21:30:00          0.0         39.904          1.0  79.808   \n",
       "2023-01-30 22:00:00          0.0         39.904          1.0  59.856   \n",
       "2023-01-30 22:30:00          0.0         39.904          1.0  39.904   \n",
       "2023-01-30 23:00:00          0.0         39.904          1.0  19.952   \n",
       "2023-01-30 23:30:00          0.0         39.904          1.0   0.000   \n",
       "\n",
       "                     da_export_throughput  ...  energy_flow_export_da_vol  \\\n",
       "2023-01-15 00:00:00                 0.000  ...                      0.000   \n",
       "2023-01-15 00:30:00                 0.000  ...                      0.000   \n",
       "2023-01-15 01:00:00                 0.000  ...                      0.000   \n",
       "2023-01-15 01:30:00                 0.000  ...                      0.000   \n",
       "2023-01-15 02:00:00                 0.000  ...                      0.000   \n",
       "...                                   ...  ...                        ...   \n",
       "2023-01-30 21:30:00                19.952  ...                     19.952   \n",
       "2023-01-30 22:00:00                19.952  ...                     19.952   \n",
       "2023-01-30 22:30:00                19.952  ...                     19.952   \n",
       "2023-01-30 23:00:00                19.952  ...                     19.952   \n",
       "2023-01-30 23:30:00                19.952  ...                     19.952   \n",
       "\n",
       "                     energy_flow_export_intraday_bess_vol  \\\n",
       "2023-01-15 00:00:00                          0.000000e+00   \n",
       "2023-01-15 00:30:00                          0.000000e+00   \n",
       "2023-01-15 01:00:00                          0.000000e+00   \n",
       "2023-01-15 01:30:00                          0.000000e+00   \n",
       "2023-01-15 02:00:00                          0.000000e+00   \n",
       "...                                                   ...   \n",
       "2023-01-30 21:30:00                          3.552714e-15   \n",
       "2023-01-30 22:00:00                          3.552714e-15   \n",
       "2023-01-30 22:30:00                          3.552714e-15   \n",
       "2023-01-30 23:00:00                          3.552714e-15   \n",
       "2023-01-30 23:30:00                          3.552714e-15   \n",
       "\n",
       "                     energy_flow_import_da_vol  \\\n",
       "2023-01-15 00:00:00                        0.0   \n",
       "2023-01-15 00:30:00                        0.0   \n",
       "2023-01-15 01:00:00                        0.0   \n",
       "2023-01-15 01:30:00                        0.0   \n",
       "2023-01-15 02:00:00                        0.0   \n",
       "...                                        ...   \n",
       "2023-01-30 21:30:00                        0.0   \n",
       "2023-01-30 22:00:00                        0.0   \n",
       "2023-01-30 22:30:00                        0.0   \n",
       "2023-01-30 23:00:00                        0.0   \n",
       "2023-01-30 23:30:00                        0.0   \n",
       "\n",
       "                     energy_flow_import_intraday_bess_vol  \\\n",
       "2023-01-15 00:00:00                              0.000000   \n",
       "2023-01-15 00:30:00                             23.529412   \n",
       "2023-01-15 01:00:00                              0.000000   \n",
       "2023-01-15 01:30:00                              0.000000   \n",
       "2023-01-15 02:00:00                              0.000000   \n",
       "...                                                   ...   \n",
       "2023-01-30 21:30:00                             23.472941   \n",
       "2023-01-30 22:00:00                              0.000000   \n",
       "2023-01-30 22:30:00                              0.000000   \n",
       "2023-01-30 23:00:00                              0.000000   \n",
       "2023-01-30 23:30:00                              0.000000   \n",
       "\n",
       "                     cash_flow_export_da_vol  \\\n",
       "2023-01-15 00:00:00                  0.00000   \n",
       "2023-01-15 00:30:00                  0.00000   \n",
       "2023-01-15 01:00:00                  0.00000   \n",
       "2023-01-15 01:30:00                  0.00000   \n",
       "2023-01-15 02:00:00                  0.00000   \n",
       "...                                      ...   \n",
       "2023-01-30 21:30:00               3231.02688   \n",
       "2023-01-30 22:00:00               3796.06752   \n",
       "2023-01-30 22:30:00               3796.06752   \n",
       "2023-01-30 23:00:00               3790.88000   \n",
       "2023-01-30 23:30:00               3790.88000   \n",
       "\n",
       "                     cash_flow_export_intraday_bess_vol  \\\n",
       "2023-01-15 00:00:00                        0.000000e+00   \n",
       "2023-01-15 00:30:00                        0.000000e+00   \n",
       "2023-01-15 01:00:00                        0.000000e+00   \n",
       "2023-01-15 01:30:00                        0.000000e+00   \n",
       "2023-01-15 02:00:00                        0.000000e+00   \n",
       "...                                                 ...   \n",
       "2023-01-30 21:30:00                        2.281553e-13   \n",
       "2023-01-30 22:00:00                        2.701128e-13   \n",
       "2023-01-30 22:30:00                        4.147793e-13   \n",
       "2023-01-30 23:00:00                        4.964207e-13   \n",
       "2023-01-30 23:30:00                        4.878942e-13   \n",
       "\n",
       "                     cash_flow_import_da_vol  \\\n",
       "2023-01-15 00:00:00                     -0.0   \n",
       "2023-01-15 00:30:00                     -0.0   \n",
       "2023-01-15 01:00:00                     -0.0   \n",
       "2023-01-15 01:30:00                     -0.0   \n",
       "2023-01-15 02:00:00                     -0.0   \n",
       "...                                      ...   \n",
       "2023-01-30 21:30:00                     -0.0   \n",
       "2023-01-30 22:00:00                     -0.0   \n",
       "2023-01-30 22:30:00                     -0.0   \n",
       "2023-01-30 23:00:00                     -0.0   \n",
       "2023-01-30 23:30:00                     -0.0   \n",
       "\n",
       "                     cash_flow_import_intraday_bess_vol  cash_flow_bess_da  \\\n",
       "2023-01-15 00:00:00                           -0.000000            0.00000   \n",
       "2023-01-15 00:30:00                         -354.602076            0.00000   \n",
       "2023-01-15 01:00:00                           -0.000000            0.00000   \n",
       "2023-01-15 01:30:00                           -0.000000            0.00000   \n",
       "2023-01-15 02:00:00                           -0.000000            0.00000   \n",
       "...                                                 ...                ...   \n",
       "2023-01-30 21:30:00                        -1773.449744         3231.02688   \n",
       "2023-01-30 22:00:00                           -0.000000         3796.06752   \n",
       "2023-01-30 22:30:00                           -0.000000         3796.06752   \n",
       "2023-01-30 23:00:00                           -0.000000         3790.88000   \n",
       "2023-01-30 23:30:00                           -0.000000         3790.88000   \n",
       "\n",
       "                     cash_flow_bess_intraday  \n",
       "2023-01-15 00:00:00             0.000000e+00  \n",
       "2023-01-15 00:30:00            -3.546021e+02  \n",
       "2023-01-15 01:00:00             0.000000e+00  \n",
       "2023-01-15 01:30:00             0.000000e+00  \n",
       "2023-01-15 02:00:00             0.000000e+00  \n",
       "...                                      ...  \n",
       "2023-01-30 21:30:00            -1.773450e+03  \n",
       "2023-01-30 22:00:00             2.701128e-13  \n",
       "2023-01-30 22:30:00             4.147793e-13  \n",
       "2023-01-30 23:00:00             4.964207e-13  \n",
       "2023-01-30 23:30:00             4.878942e-13  \n",
       "\n",
       "[768 rows x 26 columns]"
      ]
     },
     "execution_count": 114,
     "metadata": {},
     "output_type": "execute_result"
    }
   ],
   "source": [
    "# Read in data\n",
    "# Get the current directory of the script\n",
    "current_directory = os.path.dirname(os.path.abspath(os.getcwd()))\n",
    "\n",
    "# Get the parent directory\n",
    "parent_directory = os.path.dirname(current_directory)\n",
    "raw_output_filename = \"example_02-07.csv\"\n",
    "optimiser_output_df = pd.read_csv(os.path.join(parent_directory,\"optimisation\",\"data_output\",\"raw_output\",raw_output_filename),index_col=[0])\n",
    "optimiser_output_df.index = pd.to_datetime(optimiser_output_df.index)\n",
    "optimiser_output_df"
   ]
  },
  {
   "cell_type": "code",
   "execution_count": 115,
   "metadata": {},
   "outputs": [
    {
     "data": {
      "text/html": [
       "<div>\n",
       "<style scoped>\n",
       "    .dataframe tbody tr th:only-of-type {\n",
       "        vertical-align: middle;\n",
       "    }\n",
       "\n",
       "    .dataframe tbody tr th {\n",
       "        vertical-align: top;\n",
       "    }\n",
       "\n",
       "    .dataframe thead th {\n",
       "        text-align: right;\n",
       "    }\n",
       "</style>\n",
       "<table border=\"1\" class=\"dataframe\">\n",
       "  <thead>\n",
       "    <tr style=\"text-align: right;\">\n",
       "      <th></th>\n",
       "      <th>intraday_export_throughput</th>\n",
       "      <th>degraded_energy_capacity</th>\n",
       "      <th>num_cycles</th>\n",
       "    </tr>\n",
       "  </thead>\n",
       "  <tbody>\n",
       "    <tr>\n",
       "      <th>2023-01-15 00:00:00</th>\n",
       "      <td>0.000</td>\n",
       "      <td>100.00</td>\n",
       "      <td>0.00000</td>\n",
       "    </tr>\n",
       "    <tr>\n",
       "      <th>2023-01-15 00:30:00</th>\n",
       "      <td>0.000</td>\n",
       "      <td>100.00</td>\n",
       "      <td>0.00000</td>\n",
       "    </tr>\n",
       "    <tr>\n",
       "      <th>2023-01-15 01:00:00</th>\n",
       "      <td>0.000</td>\n",
       "      <td>100.00</td>\n",
       "      <td>0.00000</td>\n",
       "    </tr>\n",
       "    <tr>\n",
       "      <th>2023-01-15 01:30:00</th>\n",
       "      <td>0.000</td>\n",
       "      <td>100.00</td>\n",
       "      <td>0.00000</td>\n",
       "    </tr>\n",
       "    <tr>\n",
       "      <th>2023-01-15 02:00:00</th>\n",
       "      <td>0.000</td>\n",
       "      <td>100.00</td>\n",
       "      <td>0.00000</td>\n",
       "    </tr>\n",
       "    <tr>\n",
       "      <th>...</th>\n",
       "      <td>...</td>\n",
       "      <td>...</td>\n",
       "      <td>...</td>\n",
       "    </tr>\n",
       "    <tr>\n",
       "      <th>2023-01-30 21:30:00</th>\n",
       "      <td>19.952</td>\n",
       "      <td>99.76</td>\n",
       "      <td>0.19952</td>\n",
       "    </tr>\n",
       "    <tr>\n",
       "      <th>2023-01-30 22:00:00</th>\n",
       "      <td>19.952</td>\n",
       "      <td>99.76</td>\n",
       "      <td>0.19952</td>\n",
       "    </tr>\n",
       "    <tr>\n",
       "      <th>2023-01-30 22:30:00</th>\n",
       "      <td>19.952</td>\n",
       "      <td>99.76</td>\n",
       "      <td>0.19952</td>\n",
       "    </tr>\n",
       "    <tr>\n",
       "      <th>2023-01-30 23:00:00</th>\n",
       "      <td>19.952</td>\n",
       "      <td>99.76</td>\n",
       "      <td>0.19952</td>\n",
       "    </tr>\n",
       "    <tr>\n",
       "      <th>2023-01-30 23:30:00</th>\n",
       "      <td>19.952</td>\n",
       "      <td>99.76</td>\n",
       "      <td>0.19952</td>\n",
       "    </tr>\n",
       "  </tbody>\n",
       "</table>\n",
       "<p>768 rows × 3 columns</p>\n",
       "</div>"
      ],
      "text/plain": [
       "                     intraday_export_throughput  degraded_energy_capacity  \\\n",
       "2023-01-15 00:00:00                       0.000                    100.00   \n",
       "2023-01-15 00:30:00                       0.000                    100.00   \n",
       "2023-01-15 01:00:00                       0.000                    100.00   \n",
       "2023-01-15 01:30:00                       0.000                    100.00   \n",
       "2023-01-15 02:00:00                       0.000                    100.00   \n",
       "...                                         ...                       ...   \n",
       "2023-01-30 21:30:00                      19.952                     99.76   \n",
       "2023-01-30 22:00:00                      19.952                     99.76   \n",
       "2023-01-30 22:30:00                      19.952                     99.76   \n",
       "2023-01-30 23:00:00                      19.952                     99.76   \n",
       "2023-01-30 23:30:00                      19.952                     99.76   \n",
       "\n",
       "                     num_cycles  \n",
       "2023-01-15 00:00:00     0.00000  \n",
       "2023-01-15 00:30:00     0.00000  \n",
       "2023-01-15 01:00:00     0.00000  \n",
       "2023-01-15 01:30:00     0.00000  \n",
       "2023-01-15 02:00:00     0.00000  \n",
       "...                         ...  \n",
       "2023-01-30 21:30:00     0.19952  \n",
       "2023-01-30 22:00:00     0.19952  \n",
       "2023-01-30 22:30:00     0.19952  \n",
       "2023-01-30 23:00:00     0.19952  \n",
       "2023-01-30 23:30:00     0.19952  \n",
       "\n",
       "[768 rows x 3 columns]"
      ]
     },
     "execution_count": 115,
     "metadata": {},
     "output_type": "execute_result"
    }
   ],
   "source": [
    "### Check how many cycles the BESS is doing daily\n",
    "num_days = optimiser_output_df.index.day.nunique()\n",
    "bess_cycle_df = optimiser_output_df[[\"intraday_export_throughput\",\"degraded_energy_capacity\"]].copy()\n",
    "bess_cycle_df[\"num_cycles\"] = bess_cycle_df[\"intraday_export_throughput\"]/project_energy_capacity\n",
    "bess_cycle_grouped_df = bess_cycle_df.groupby([(bess_cycle_df.index.date)]).agg(total_num_cycles = (\"num_cycles\",\"sum\"), degraded_energy_capacity = (\"degraded_energy_capacity\",\"mean\"))\n",
    "bess_cycle_df"
   ]
  },
  {
   "cell_type": "code",
   "execution_count": 116,
   "metadata": {},
   "outputs": [],
   "source": [
    "\n",
    "from plotly.subplots import make_subplots\n",
    "fig = make_subplots(rows=1,cols=1,specs=[[{\"secondary_y\": True}]])\n"
   ]
  },
  {
   "cell_type": "code",
   "execution_count": 117,
   "metadata": {},
   "outputs": [
    {
     "data": {
      "application/vnd.plotly.v1+json": {
       "config": {
        "plotlyServerURL": "https://plot.ly"
       },
       "data": [
        {
         "marker": {
          "color": "rgba(230,98,5,1)"
         },
         "name": "Number of Cycles Per Day",
         "type": "bar",
         "x": [
          "2023-01-15",
          "2023-01-16",
          "2023-01-17",
          "2023-01-18",
          "2023-01-19",
          "2023-01-20",
          "2023-01-21",
          "2023-01-22",
          "2023-01-23",
          "2023-01-24",
          "2023-01-25",
          "2023-01-26",
          "2023-01-27",
          "2023-01-28",
          "2023-01-29",
          "2023-01-30"
         ],
         "y": {
          "bdata": "AQAAAAAAAEDLcad0sP7/P5XjTulg/f8/XVX2XRH8/z8nx53Swfr/P/A4RUdy+f8/uarsuyL4/z9Es+veisT8P02OO6WD9f8/FADjGTT0/z/dcYqO5PL/P6jjMQOV8f8/dFXZd0Xw/z88x4Ds9e7/PwM5KGGm7f8/0KrP1Vbs/z8=",
          "dtype": "f8"
         },
         "yaxis": "y2"
        },
        {
         "line": {
          "color": "rgb(144,144,144)",
          "dash": "dash",
          "width": 2
         },
         "marker": {
          "color": "rgb(144,144,144)"
         },
         "mode": "lines",
         "name": "BESS Energy Capacity",
         "type": "scatter",
         "x": [
          "2023-01-15",
          "2023-01-16",
          "2023-01-17",
          "2023-01-18",
          "2023-01-19",
          "2023-01-20",
          "2023-01-21",
          "2023-01-22",
          "2023-01-23",
          "2023-01-24",
          "2023-01-25",
          "2023-01-26",
          "2023-01-27",
          "2023-01-28",
          "2023-01-29",
          "2023-01-30"
         ],
         "y": {
          "bdata": "AAAAAAAAWUDl0CLb+f5YQMuhRbbz/VhAsHJoke38WECVQ4ts5/tYQHsUrkfh+lhAYOXQItv5WEBFtvP91PhYQCuHFtnO91hAEFg5tMj2WED1KFyPwvVYQNv5fmq89FhAwcqhRbbzWEClm8QgsPJYQIts5/up8VhAcT0K16PwWEA=",
          "dtype": "f8"
         },
         "yaxis": "y"
        }
       ],
       "layout": {
        "annotations": [
         {
          "font": {
           "size": 14
          },
          "showarrow": false,
          "text": "Notes: Intraday churning is not assumed.",
          "x": 0,
          "xanchor": "left",
          "xref": "paper",
          "y": -0.38,
          "yanchor": "top",
          "yref": "paper"
         }
        ],
        "barmode": "overlay",
        "font": {
         "color": "black",
         "family": "Century Gothic",
         "size": 14
        },
        "images": [
         {
          "sizex": 0.2,
          "sizey": 0.2,
          "source": "images/zenobe_logo.PNG",
          "x": 1.08,
          "xanchor": "right",
          "xref": "paper",
          "y": 1.3,
          "yanchor": "bottom",
          "yref": "paper"
         }
        ],
        "legend": {
         "orientation": "h",
         "x": 1,
         "xanchor": "right",
         "y": 1.25,
         "yanchor": "top"
        },
        "margin": {
         "b": 140
        },
        "paper_bgcolor": "rgb(256,256,256)",
        "plot_bgcolor": "rgb(256,256,256)",
        "template": {
         "data": {
          "bar": [
           {
            "error_x": {
             "color": "#2a3f5f"
            },
            "error_y": {
             "color": "#2a3f5f"
            },
            "marker": {
             "line": {
              "color": "#E5ECF6",
              "width": 0.5
             },
             "pattern": {
              "fillmode": "overlay",
              "size": 10,
              "solidity": 0.2
             }
            },
            "type": "bar"
           }
          ],
          "barpolar": [
           {
            "marker": {
             "line": {
              "color": "#E5ECF6",
              "width": 0.5
             },
             "pattern": {
              "fillmode": "overlay",
              "size": 10,
              "solidity": 0.2
             }
            },
            "type": "barpolar"
           }
          ],
          "carpet": [
           {
            "aaxis": {
             "endlinecolor": "#2a3f5f",
             "gridcolor": "white",
             "linecolor": "white",
             "minorgridcolor": "white",
             "startlinecolor": "#2a3f5f"
            },
            "baxis": {
             "endlinecolor": "#2a3f5f",
             "gridcolor": "white",
             "linecolor": "white",
             "minorgridcolor": "white",
             "startlinecolor": "#2a3f5f"
            },
            "type": "carpet"
           }
          ],
          "choropleth": [
           {
            "colorbar": {
             "outlinewidth": 0,
             "ticks": ""
            },
            "type": "choropleth"
           }
          ],
          "contour": [
           {
            "colorbar": {
             "outlinewidth": 0,
             "ticks": ""
            },
            "colorscale": [
             [
              0,
              "#0d0887"
             ],
             [
              0.1111111111111111,
              "#46039f"
             ],
             [
              0.2222222222222222,
              "#7201a8"
             ],
             [
              0.3333333333333333,
              "#9c179e"
             ],
             [
              0.4444444444444444,
              "#bd3786"
             ],
             [
              0.5555555555555556,
              "#d8576b"
             ],
             [
              0.6666666666666666,
              "#ed7953"
             ],
             [
              0.7777777777777778,
              "#fb9f3a"
             ],
             [
              0.8888888888888888,
              "#fdca26"
             ],
             [
              1,
              "#f0f921"
             ]
            ],
            "type": "contour"
           }
          ],
          "contourcarpet": [
           {
            "colorbar": {
             "outlinewidth": 0,
             "ticks": ""
            },
            "type": "contourcarpet"
           }
          ],
          "heatmap": [
           {
            "colorbar": {
             "outlinewidth": 0,
             "ticks": ""
            },
            "colorscale": [
             [
              0,
              "#0d0887"
             ],
             [
              0.1111111111111111,
              "#46039f"
             ],
             [
              0.2222222222222222,
              "#7201a8"
             ],
             [
              0.3333333333333333,
              "#9c179e"
             ],
             [
              0.4444444444444444,
              "#bd3786"
             ],
             [
              0.5555555555555556,
              "#d8576b"
             ],
             [
              0.6666666666666666,
              "#ed7953"
             ],
             [
              0.7777777777777778,
              "#fb9f3a"
             ],
             [
              0.8888888888888888,
              "#fdca26"
             ],
             [
              1,
              "#f0f921"
             ]
            ],
            "type": "heatmap"
           }
          ],
          "histogram": [
           {
            "marker": {
             "pattern": {
              "fillmode": "overlay",
              "size": 10,
              "solidity": 0.2
             }
            },
            "type": "histogram"
           }
          ],
          "histogram2d": [
           {
            "colorbar": {
             "outlinewidth": 0,
             "ticks": ""
            },
            "colorscale": [
             [
              0,
              "#0d0887"
             ],
             [
              0.1111111111111111,
              "#46039f"
             ],
             [
              0.2222222222222222,
              "#7201a8"
             ],
             [
              0.3333333333333333,
              "#9c179e"
             ],
             [
              0.4444444444444444,
              "#bd3786"
             ],
             [
              0.5555555555555556,
              "#d8576b"
             ],
             [
              0.6666666666666666,
              "#ed7953"
             ],
             [
              0.7777777777777778,
              "#fb9f3a"
             ],
             [
              0.8888888888888888,
              "#fdca26"
             ],
             [
              1,
              "#f0f921"
             ]
            ],
            "type": "histogram2d"
           }
          ],
          "histogram2dcontour": [
           {
            "colorbar": {
             "outlinewidth": 0,
             "ticks": ""
            },
            "colorscale": [
             [
              0,
              "#0d0887"
             ],
             [
              0.1111111111111111,
              "#46039f"
             ],
             [
              0.2222222222222222,
              "#7201a8"
             ],
             [
              0.3333333333333333,
              "#9c179e"
             ],
             [
              0.4444444444444444,
              "#bd3786"
             ],
             [
              0.5555555555555556,
              "#d8576b"
             ],
             [
              0.6666666666666666,
              "#ed7953"
             ],
             [
              0.7777777777777778,
              "#fb9f3a"
             ],
             [
              0.8888888888888888,
              "#fdca26"
             ],
             [
              1,
              "#f0f921"
             ]
            ],
            "type": "histogram2dcontour"
           }
          ],
          "mesh3d": [
           {
            "colorbar": {
             "outlinewidth": 0,
             "ticks": ""
            },
            "type": "mesh3d"
           }
          ],
          "parcoords": [
           {
            "line": {
             "colorbar": {
              "outlinewidth": 0,
              "ticks": ""
             }
            },
            "type": "parcoords"
           }
          ],
          "pie": [
           {
            "automargin": true,
            "type": "pie"
           }
          ],
          "scatter": [
           {
            "fillpattern": {
             "fillmode": "overlay",
             "size": 10,
             "solidity": 0.2
            },
            "type": "scatter"
           }
          ],
          "scatter3d": [
           {
            "line": {
             "colorbar": {
              "outlinewidth": 0,
              "ticks": ""
             }
            },
            "marker": {
             "colorbar": {
              "outlinewidth": 0,
              "ticks": ""
             }
            },
            "type": "scatter3d"
           }
          ],
          "scattercarpet": [
           {
            "marker": {
             "colorbar": {
              "outlinewidth": 0,
              "ticks": ""
             }
            },
            "type": "scattercarpet"
           }
          ],
          "scattergeo": [
           {
            "marker": {
             "colorbar": {
              "outlinewidth": 0,
              "ticks": ""
             }
            },
            "type": "scattergeo"
           }
          ],
          "scattergl": [
           {
            "marker": {
             "colorbar": {
              "outlinewidth": 0,
              "ticks": ""
             }
            },
            "type": "scattergl"
           }
          ],
          "scattermap": [
           {
            "marker": {
             "colorbar": {
              "outlinewidth": 0,
              "ticks": ""
             }
            },
            "type": "scattermap"
           }
          ],
          "scattermapbox": [
           {
            "marker": {
             "colorbar": {
              "outlinewidth": 0,
              "ticks": ""
             }
            },
            "type": "scattermapbox"
           }
          ],
          "scatterpolar": [
           {
            "marker": {
             "colorbar": {
              "outlinewidth": 0,
              "ticks": ""
             }
            },
            "type": "scatterpolar"
           }
          ],
          "scatterpolargl": [
           {
            "marker": {
             "colorbar": {
              "outlinewidth": 0,
              "ticks": ""
             }
            },
            "type": "scatterpolargl"
           }
          ],
          "scatterternary": [
           {
            "marker": {
             "colorbar": {
              "outlinewidth": 0,
              "ticks": ""
             }
            },
            "type": "scatterternary"
           }
          ],
          "surface": [
           {
            "colorbar": {
             "outlinewidth": 0,
             "ticks": ""
            },
            "colorscale": [
             [
              0,
              "#0d0887"
             ],
             [
              0.1111111111111111,
              "#46039f"
             ],
             [
              0.2222222222222222,
              "#7201a8"
             ],
             [
              0.3333333333333333,
              "#9c179e"
             ],
             [
              0.4444444444444444,
              "#bd3786"
             ],
             [
              0.5555555555555556,
              "#d8576b"
             ],
             [
              0.6666666666666666,
              "#ed7953"
             ],
             [
              0.7777777777777778,
              "#fb9f3a"
             ],
             [
              0.8888888888888888,
              "#fdca26"
             ],
             [
              1,
              "#f0f921"
             ]
            ],
            "type": "surface"
           }
          ],
          "table": [
           {
            "cells": {
             "fill": {
              "color": "#EBF0F8"
             },
             "line": {
              "color": "white"
             }
            },
            "header": {
             "fill": {
              "color": "#C8D4E3"
             },
             "line": {
              "color": "white"
             }
            },
            "type": "table"
           }
          ]
         },
         "layout": {
          "annotationdefaults": {
           "arrowcolor": "#2a3f5f",
           "arrowhead": 0,
           "arrowwidth": 1
          },
          "autotypenumbers": "strict",
          "coloraxis": {
           "colorbar": {
            "outlinewidth": 0,
            "ticks": ""
           }
          },
          "colorscale": {
           "diverging": [
            [
             0,
             "#8e0152"
            ],
            [
             0.1,
             "#c51b7d"
            ],
            [
             0.2,
             "#de77ae"
            ],
            [
             0.3,
             "#f1b6da"
            ],
            [
             0.4,
             "#fde0ef"
            ],
            [
             0.5,
             "#f7f7f7"
            ],
            [
             0.6,
             "#e6f5d0"
            ],
            [
             0.7,
             "#b8e186"
            ],
            [
             0.8,
             "#7fbc41"
            ],
            [
             0.9,
             "#4d9221"
            ],
            [
             1,
             "#276419"
            ]
           ],
           "sequential": [
            [
             0,
             "#0d0887"
            ],
            [
             0.1111111111111111,
             "#46039f"
            ],
            [
             0.2222222222222222,
             "#7201a8"
            ],
            [
             0.3333333333333333,
             "#9c179e"
            ],
            [
             0.4444444444444444,
             "#bd3786"
            ],
            [
             0.5555555555555556,
             "#d8576b"
            ],
            [
             0.6666666666666666,
             "#ed7953"
            ],
            [
             0.7777777777777778,
             "#fb9f3a"
            ],
            [
             0.8888888888888888,
             "#fdca26"
            ],
            [
             1,
             "#f0f921"
            ]
           ],
           "sequentialminus": [
            [
             0,
             "#0d0887"
            ],
            [
             0.1111111111111111,
             "#46039f"
            ],
            [
             0.2222222222222222,
             "#7201a8"
            ],
            [
             0.3333333333333333,
             "#9c179e"
            ],
            [
             0.4444444444444444,
             "#bd3786"
            ],
            [
             0.5555555555555556,
             "#d8576b"
            ],
            [
             0.6666666666666666,
             "#ed7953"
            ],
            [
             0.7777777777777778,
             "#fb9f3a"
            ],
            [
             0.8888888888888888,
             "#fdca26"
            ],
            [
             1,
             "#f0f921"
            ]
           ]
          },
          "colorway": [
           "#636efa",
           "#EF553B",
           "#00cc96",
           "#ab63fa",
           "#FFA15A",
           "#19d3f3",
           "#FF6692",
           "#B6E880",
           "#FF97FF",
           "#FECB52"
          ],
          "font": {
           "color": "#2a3f5f"
          },
          "geo": {
           "bgcolor": "white",
           "lakecolor": "white",
           "landcolor": "#E5ECF6",
           "showlakes": true,
           "showland": true,
           "subunitcolor": "white"
          },
          "hoverlabel": {
           "align": "left"
          },
          "hovermode": "closest",
          "mapbox": {
           "style": "light"
          },
          "paper_bgcolor": "white",
          "plot_bgcolor": "#E5ECF6",
          "polar": {
           "angularaxis": {
            "gridcolor": "white",
            "linecolor": "white",
            "ticks": ""
           },
           "bgcolor": "#E5ECF6",
           "radialaxis": {
            "gridcolor": "white",
            "linecolor": "white",
            "ticks": ""
           }
          },
          "scene": {
           "xaxis": {
            "backgroundcolor": "#E5ECF6",
            "gridcolor": "white",
            "gridwidth": 2,
            "linecolor": "white",
            "showbackground": true,
            "ticks": "",
            "zerolinecolor": "white"
           },
           "yaxis": {
            "backgroundcolor": "#E5ECF6",
            "gridcolor": "white",
            "gridwidth": 2,
            "linecolor": "white",
            "showbackground": true,
            "ticks": "",
            "zerolinecolor": "white"
           },
           "zaxis": {
            "backgroundcolor": "#E5ECF6",
            "gridcolor": "white",
            "gridwidth": 2,
            "linecolor": "white",
            "showbackground": true,
            "ticks": "",
            "zerolinecolor": "white"
           }
          },
          "shapedefaults": {
           "line": {
            "color": "#2a3f5f"
           }
          },
          "ternary": {
           "aaxis": {
            "gridcolor": "white",
            "linecolor": "white",
            "ticks": ""
           },
           "baxis": {
            "gridcolor": "white",
            "linecolor": "white",
            "ticks": ""
           },
           "bgcolor": "#E5ECF6",
           "caxis": {
            "gridcolor": "white",
            "linecolor": "white",
            "ticks": ""
           }
          },
          "title": {
           "x": 0.05
          },
          "xaxis": {
           "automargin": true,
           "gridcolor": "white",
           "linecolor": "white",
           "ticks": "",
           "title": {
            "standoff": 15
           },
           "zerolinecolor": "white",
           "zerolinewidth": 2
          },
          "yaxis": {
           "automargin": true,
           "gridcolor": "white",
           "linecolor": "white",
           "ticks": "",
           "title": {
            "standoff": 15
           },
           "zerolinecolor": "white",
           "zerolinewidth": 2
          }
         }
        },
        "title": {
         "text": "Example Mean Number of Cycles & Degraded Energy Capacity<br><sup>100MW/100MWh BESS",
         "x": 0.5,
         "xanchor": "center",
         "y": 0.95,
         "yanchor": "top"
        },
        "xaxis": {
         "anchor": "y",
         "domain": [
          0,
          0.94
         ],
         "tickangle": -45,
         "title": {
          "text": "Year"
         },
         "type": "category"
        },
        "yaxis": {
         "anchor": "x",
         "domain": [
          0,
          1
         ],
         "range": [
          0,
          100
         ],
         "title": {
          "text": "Degraded Energy Capacity (MWh)"
         }
        },
        "yaxis2": {
         "anchor": "x",
         "overlaying": "y",
         "range": [
          0,
          3
         ],
         "side": "right",
         "title": {
          "text": "Mean Number of Cycles Per Day"
         }
        }
       }
      }
     },
     "metadata": {},
     "output_type": "display_data"
    }
   ],
   "source": [
    "\n",
    "from plotly.subplots import make_subplots\n",
    "fig = make_subplots(specs=[[{\"secondary_y\": True}]])\n",
    "trace1 = go.Bar(x=bess_cycle_grouped_df.index,\n",
    "                y=bess_cycle_grouped_df[\"total_num_cycles\"],\n",
    "                name='Number of Cycles Per Day',\n",
    "                marker_color=graph_primary,\n",
    "                yaxis='y2'\n",
    "                    )\n",
    "trace2 = go.Scatter(x=bess_cycle_grouped_df.index,\n",
    "                        y=bess_cycle_grouped_df[\"degraded_energy_capacity\"],\n",
    "                        name='BESS Energy Capacity',\n",
    "                        mode='lines',\n",
    "                        marker_color=graph_secondary,\n",
    "                        line=dict(width=2, \n",
    "                        color=graph_secondary, \n",
    "                        dash='dash'),\n",
    "                        yaxis='y1')\n",
    "\n",
    "\n",
    "\n",
    "data = [trace1,trace2]\n",
    "\n",
    "fig.update_layout(title=dict(x = 0.5,\n",
    "                            y = 0.95,\n",
    "                            xanchor =  'center',\n",
    "                            yanchor = 'top',text=f\"{project_name} Mean Number of Cycles & Degraded Energy Capacity<br><sup>{project_power_capacity}MW/{project_energy_capacity}MWh BESS\"),\n",
    "                    yaxis=dict(title='Degraded Energy Capacity (MWh)'),\n",
    "                    yaxis2=dict(title='Mean Number of Cycles Per Day',\n",
    "                                \n",
    "                                side='right'),\n",
    ")\n",
    "\n",
    "\n",
    "\n",
    "fig.update_layout( \n",
    "    xaxis_title=\"Year\",\n",
    ")\n",
    "\n",
    "\n",
    "fig.update_yaxes(range=[0,3], secondary_y=True)   \n",
    "fig.update_layout(\n",
    "    yaxis_range=[0,project_energy_capacity],\n",
    "    barmode=\"overlay\",\n",
    "    legend=dict(\n",
    "    orientation=\"h\",\n",
    "    yanchor=\"top\",\n",
    "    y=1.25,\n",
    "    xanchor=\"right\",\n",
    "    x=1,),\n",
    "    paper_bgcolor='rgb(256,256,256)',\n",
    "    plot_bgcolor='rgb(256,256,256)',\n",
    "    font=dict(\n",
    "        family=font_family,\n",
    "        size=font_size,\n",
    "        color= \"black\",\n",
    "    ),\n",
    ")\n",
    "fig.update_layout( \n",
    "    \n",
    "    xaxis=dict(\n",
    "        title='Year',\n",
    "        tickangle=-45  # Rotate xticks by -45 degrees\n",
    "    ),\n",
    ")\n",
    "for trace in data:\n",
    "    fig.add_trace(trace) \n",
    "fig.update_xaxes(type='category')\n",
    "\n",
    "fig.update_layout(\n",
    "    margin=dict(b=140),\n",
    "    annotations=[\n",
    "    \n",
    "        go.layout.Annotation(\n",
    "            x=0,  # X position on the axis (0 is the far left, 1 is far right)\n",
    "            y=-0.38,  # Y position below the plot (negative value to place it below)\n",
    "            xref='paper',  # 'paper' makes the annotation relative to the entire plot (not data coordinates)\n",
    "            yref='paper',\n",
    "            text=f\"Notes: Intraday churning is not assumed.\",  # The note text\n",
    "            showarrow=False,  # No arrow\n",
    "            xanchor='left',  # Align the text to the left\n",
    "            yanchor='top',  # Anchor the note to the top of the y-position\n",
    "            font=dict(size=font_size)  # Customize the font size if needed\n",
    "        ),\n",
    "        \n",
    "    ]\n",
    ")\n",
    "fig.add_layout_image(\n",
    "    dict(\n",
    "        source=\"images/zenobe_logo.PNG\",  # Path to the logo\n",
    "        xref=\"paper\", yref=\"paper\",\n",
    "        x=1.08, y=1.3,  # Positioning the logo at the top right\n",
    "        sizex=.2, sizey=.2,  # Adjust size based on your needs\n",
    "        xanchor=\"right\", yanchor=\"bottom\"\n",
    "    )\n",
    ")\n",
    "fig.show()"
   ]
  },
  {
   "cell_type": "code",
   "execution_count": 118,
   "metadata": {},
   "outputs": [
    {
     "ename": "Exception",
     "evalue": "The (row, col) pair sent is out of range. Use Figure.print_grid to view the subplot grid. ",
     "output_type": "error",
     "traceback": [
      "\u001b[1;31m---------------------------------------------------------------------------\u001b[0m",
      "\u001b[1;31mIndexError\u001b[0m                                Traceback (most recent call last)",
      "File \u001b[1;32mc:\\Users\\LG988475\\Documents\\lg-interview\\.venv\\Lib\\site-packages\\plotly\\_subplots.py:1384\u001b[0m, in \u001b[0;36m_set_trace_grid_reference\u001b[1;34m(trace, layout, grid_ref, row, col, secondary_y)\u001b[0m\n\u001b[0;32m   1383\u001b[0m \u001b[38;5;28;01mtry\u001b[39;00m:\n\u001b[1;32m-> 1384\u001b[0m     subplot_refs \u001b[38;5;241m=\u001b[39m \u001b[43mgrid_ref\u001b[49m\u001b[43m[\u001b[49m\u001b[43mrow\u001b[49m\u001b[43m \u001b[49m\u001b[38;5;241;43m-\u001b[39;49m\u001b[43m \u001b[49m\u001b[38;5;241;43m1\u001b[39;49m\u001b[43m]\u001b[49m[col \u001b[38;5;241m-\u001b[39m \u001b[38;5;241m1\u001b[39m]\n\u001b[0;32m   1385\u001b[0m \u001b[38;5;28;01mexcept\u001b[39;00m \u001b[38;5;167;01mIndexError\u001b[39;00m:\n",
      "\u001b[1;31mIndexError\u001b[0m: list index out of range",
      "\nDuring handling of the above exception, another exception occurred:\n",
      "\u001b[1;31mException\u001b[0m                                 Traceback (most recent call last)",
      "Cell \u001b[1;32mIn[118], line 32\u001b[0m\n\u001b[0;32m     30\u001b[0m fig\u001b[38;5;241m.\u001b[39mupdate_yaxes(title_text\u001b[38;5;241m=\u001b[39m \u001b[38;5;124m\"\u001b[39m\u001b[38;5;124mPrice (£/MWh)\u001b[39m\u001b[38;5;124m\"\u001b[39m,row\u001b[38;5;241m=\u001b[39m\u001b[38;5;241m2\u001b[39m,col\u001b[38;5;241m=\u001b[39m\u001b[38;5;241m1\u001b[39m,secondary_y\u001b[38;5;241m=\u001b[39m\u001b[38;5;28;01mTrue\u001b[39;00m) \n\u001b[0;32m     31\u001b[0m \u001b[38;5;28;01mfor\u001b[39;00m trace \u001b[38;5;129;01min\u001b[39;00m data:\n\u001b[1;32m---> 32\u001b[0m     \u001b[43mfig\u001b[49m\u001b[38;5;241;43m.\u001b[39;49m\u001b[43madd_trace\u001b[49m\u001b[43m(\u001b[49m\u001b[43mtrace\u001b[49m\u001b[43m,\u001b[49m\u001b[43mrow\u001b[49m\u001b[38;5;241;43m=\u001b[39;49m\u001b[38;5;241;43m2\u001b[39;49m\u001b[43m,\u001b[49m\u001b[43mcol\u001b[49m\u001b[38;5;241;43m=\u001b[39;49m\u001b[38;5;241;43m1\u001b[39;49m\u001b[43m)\u001b[49m\n\u001b[0;32m     33\u001b[0m fig\u001b[38;5;241m.\u001b[39madd_trace(trace3,row\u001b[38;5;241m=\u001b[39m\u001b[38;5;241m2\u001b[39m,col\u001b[38;5;241m=\u001b[39m\u001b[38;5;241m1\u001b[39m,secondary_y\u001b[38;5;241m=\u001b[39m\u001b[38;5;28;01mTrue\u001b[39;00m)\n",
      "File \u001b[1;32mc:\\Users\\LG988475\\Documents\\lg-interview\\.venv\\Lib\\site-packages\\plotly\\graph_objs\\_figure.py:912\u001b[0m, in \u001b[0;36mFigure.add_trace\u001b[1;34m(self, trace, row, col, secondary_y, exclude_empty_subplots)\u001b[0m\n\u001b[0;32m    837\u001b[0m \u001b[38;5;28;01mdef\u001b[39;00m\u001b[38;5;250m \u001b[39m\u001b[38;5;21madd_trace\u001b[39m(\n\u001b[0;32m    838\u001b[0m     \u001b[38;5;28mself\u001b[39m, trace, row\u001b[38;5;241m=\u001b[39m\u001b[38;5;28;01mNone\u001b[39;00m, col\u001b[38;5;241m=\u001b[39m\u001b[38;5;28;01mNone\u001b[39;00m, secondary_y\u001b[38;5;241m=\u001b[39m\u001b[38;5;28;01mNone\u001b[39;00m, exclude_empty_subplots\u001b[38;5;241m=\u001b[39m\u001b[38;5;28;01mFalse\u001b[39;00m\n\u001b[0;32m    839\u001b[0m ) \u001b[38;5;241m-\u001b[39m\u001b[38;5;241m>\u001b[39m \u001b[38;5;124m\"\u001b[39m\u001b[38;5;124mFigure\u001b[39m\u001b[38;5;124m\"\u001b[39m:\n\u001b[0;32m    840\u001b[0m \u001b[38;5;250m    \u001b[39m\u001b[38;5;124;03m\"\"\"\u001b[39;00m\n\u001b[0;32m    841\u001b[0m \n\u001b[0;32m    842\u001b[0m \u001b[38;5;124;03m    Add a trace to the figure\u001b[39;00m\n\u001b[1;32m   (...)\u001b[0m\n\u001b[0;32m    910\u001b[0m \n\u001b[0;32m    911\u001b[0m \u001b[38;5;124;03m    \"\"\"\u001b[39;00m\n\u001b[1;32m--> 912\u001b[0m     \u001b[38;5;28;01mreturn\u001b[39;00m \u001b[38;5;28;43msuper\u001b[39;49m\u001b[43m(\u001b[49m\u001b[43mFigure\u001b[49m\u001b[43m,\u001b[49m\u001b[43m \u001b[49m\u001b[38;5;28;43mself\u001b[39;49m\u001b[43m)\u001b[49m\u001b[38;5;241;43m.\u001b[39;49m\u001b[43madd_trace\u001b[49m\u001b[43m(\u001b[49m\n\u001b[0;32m    913\u001b[0m \u001b[43m        \u001b[49m\u001b[43mtrace\u001b[49m\u001b[43m,\u001b[49m\u001b[43m \u001b[49m\u001b[43mrow\u001b[49m\u001b[43m,\u001b[49m\u001b[43m \u001b[49m\u001b[43mcol\u001b[49m\u001b[43m,\u001b[49m\u001b[43m \u001b[49m\u001b[43msecondary_y\u001b[49m\u001b[43m,\u001b[49m\u001b[43m \u001b[49m\u001b[43mexclude_empty_subplots\u001b[49m\n\u001b[0;32m    914\u001b[0m \u001b[43m    \u001b[49m\u001b[43m)\u001b[49m\n",
      "File \u001b[1;32mc:\\Users\\LG988475\\Documents\\lg-interview\\.venv\\Lib\\site-packages\\plotly\\basedatatypes.py:2107\u001b[0m, in \u001b[0;36mBaseFigure.add_trace\u001b[1;34m(self, trace, row, col, secondary_y, exclude_empty_subplots)\u001b[0m\n\u001b[0;32m   2098\u001b[0m         \u001b[38;5;28mself\u001b[39m\u001b[38;5;241m.\u001b[39madd_trace(\n\u001b[0;32m   2099\u001b[0m             trace,\n\u001b[0;32m   2100\u001b[0m             row\u001b[38;5;241m=\u001b[39mr,\n\u001b[1;32m   (...)\u001b[0m\n\u001b[0;32m   2103\u001b[0m             exclude_empty_subplots\u001b[38;5;241m=\u001b[39mexclude_empty_subplots,\n\u001b[0;32m   2104\u001b[0m         )\n\u001b[0;32m   2105\u001b[0m     \u001b[38;5;28;01mreturn\u001b[39;00m \u001b[38;5;28mself\u001b[39m\n\u001b[1;32m-> 2107\u001b[0m \u001b[38;5;28;01mreturn\u001b[39;00m \u001b[38;5;28;43mself\u001b[39;49m\u001b[38;5;241;43m.\u001b[39;49m\u001b[43madd_traces\u001b[49m\u001b[43m(\u001b[49m\n\u001b[0;32m   2108\u001b[0m \u001b[43m    \u001b[49m\u001b[43mdata\u001b[49m\u001b[38;5;241;43m=\u001b[39;49m\u001b[43m[\u001b[49m\u001b[43mtrace\u001b[49m\u001b[43m]\u001b[49m\u001b[43m,\u001b[49m\n\u001b[0;32m   2109\u001b[0m \u001b[43m    \u001b[49m\u001b[43mrows\u001b[49m\u001b[38;5;241;43m=\u001b[39;49m\u001b[43m[\u001b[49m\u001b[43mrow\u001b[49m\u001b[43m]\u001b[49m\u001b[43m \u001b[49m\u001b[38;5;28;43;01mif\u001b[39;49;00m\u001b[43m \u001b[49m\u001b[43mrow\u001b[49m\u001b[43m \u001b[49m\u001b[38;5;129;43;01mis\u001b[39;49;00m\u001b[43m \u001b[49m\u001b[38;5;129;43;01mnot\u001b[39;49;00m\u001b[43m \u001b[49m\u001b[38;5;28;43;01mNone\u001b[39;49;00m\u001b[43m \u001b[49m\u001b[38;5;28;43;01melse\u001b[39;49;00m\u001b[43m \u001b[49m\u001b[38;5;28;43;01mNone\u001b[39;49;00m\u001b[43m,\u001b[49m\n\u001b[0;32m   2110\u001b[0m \u001b[43m    \u001b[49m\u001b[43mcols\u001b[49m\u001b[38;5;241;43m=\u001b[39;49m\u001b[43m[\u001b[49m\u001b[43mcol\u001b[49m\u001b[43m]\u001b[49m\u001b[43m \u001b[49m\u001b[38;5;28;43;01mif\u001b[39;49;00m\u001b[43m \u001b[49m\u001b[43mcol\u001b[49m\u001b[43m \u001b[49m\u001b[38;5;129;43;01mis\u001b[39;49;00m\u001b[43m \u001b[49m\u001b[38;5;129;43;01mnot\u001b[39;49;00m\u001b[43m \u001b[49m\u001b[38;5;28;43;01mNone\u001b[39;49;00m\u001b[43m \u001b[49m\u001b[38;5;28;43;01melse\u001b[39;49;00m\u001b[43m \u001b[49m\u001b[38;5;28;43;01mNone\u001b[39;49;00m\u001b[43m,\u001b[49m\n\u001b[0;32m   2111\u001b[0m \u001b[43m    \u001b[49m\u001b[43msecondary_ys\u001b[49m\u001b[38;5;241;43m=\u001b[39;49m\u001b[43m[\u001b[49m\u001b[43msecondary_y\u001b[49m\u001b[43m]\u001b[49m\u001b[43m \u001b[49m\u001b[38;5;28;43;01mif\u001b[39;49;00m\u001b[43m \u001b[49m\u001b[43msecondary_y\u001b[49m\u001b[43m \u001b[49m\u001b[38;5;129;43;01mis\u001b[39;49;00m\u001b[43m \u001b[49m\u001b[38;5;129;43;01mnot\u001b[39;49;00m\u001b[43m \u001b[49m\u001b[38;5;28;43;01mNone\u001b[39;49;00m\u001b[43m \u001b[49m\u001b[38;5;28;43;01melse\u001b[39;49;00m\u001b[43m \u001b[49m\u001b[38;5;28;43;01mNone\u001b[39;49;00m\u001b[43m,\u001b[49m\n\u001b[0;32m   2112\u001b[0m \u001b[43m    \u001b[49m\u001b[43mexclude_empty_subplots\u001b[49m\u001b[38;5;241;43m=\u001b[39;49m\u001b[43mexclude_empty_subplots\u001b[49m\u001b[43m,\u001b[49m\n\u001b[0;32m   2113\u001b[0m \u001b[43m\u001b[49m\u001b[43m)\u001b[49m\n",
      "File \u001b[1;32mc:\\Users\\LG988475\\Documents\\lg-interview\\.venv\\Lib\\site-packages\\plotly\\graph_objs\\_figure.py:992\u001b[0m, in \u001b[0;36mFigure.add_traces\u001b[1;34m(self, data, rows, cols, secondary_ys, exclude_empty_subplots)\u001b[0m\n\u001b[0;32m    916\u001b[0m \u001b[38;5;28;01mdef\u001b[39;00m\u001b[38;5;250m \u001b[39m\u001b[38;5;21madd_traces\u001b[39m(\n\u001b[0;32m    917\u001b[0m     \u001b[38;5;28mself\u001b[39m,\n\u001b[0;32m    918\u001b[0m     data,\n\u001b[1;32m   (...)\u001b[0m\n\u001b[0;32m    922\u001b[0m     exclude_empty_subplots\u001b[38;5;241m=\u001b[39m\u001b[38;5;28;01mFalse\u001b[39;00m,\n\u001b[0;32m    923\u001b[0m ) \u001b[38;5;241m-\u001b[39m\u001b[38;5;241m>\u001b[39m \u001b[38;5;124m\"\u001b[39m\u001b[38;5;124mFigure\u001b[39m\u001b[38;5;124m\"\u001b[39m:\n\u001b[0;32m    924\u001b[0m \u001b[38;5;250m    \u001b[39m\u001b[38;5;124;03m\"\"\"\u001b[39;00m\n\u001b[0;32m    925\u001b[0m \n\u001b[0;32m    926\u001b[0m \u001b[38;5;124;03m    Add traces to the figure\u001b[39;00m\n\u001b[1;32m   (...)\u001b[0m\n\u001b[0;32m    990\u001b[0m \n\u001b[0;32m    991\u001b[0m \u001b[38;5;124;03m    \"\"\"\u001b[39;00m\n\u001b[1;32m--> 992\u001b[0m     \u001b[38;5;28;01mreturn\u001b[39;00m \u001b[38;5;28;43msuper\u001b[39;49m\u001b[43m(\u001b[49m\u001b[43mFigure\u001b[49m\u001b[43m,\u001b[49m\u001b[43m \u001b[49m\u001b[38;5;28;43mself\u001b[39;49m\u001b[43m)\u001b[49m\u001b[38;5;241;43m.\u001b[39;49m\u001b[43madd_traces\u001b[49m\u001b[43m(\u001b[49m\n\u001b[0;32m    993\u001b[0m \u001b[43m        \u001b[49m\u001b[43mdata\u001b[49m\u001b[43m,\u001b[49m\u001b[43m \u001b[49m\u001b[43mrows\u001b[49m\u001b[43m,\u001b[49m\u001b[43m \u001b[49m\u001b[43mcols\u001b[49m\u001b[43m,\u001b[49m\u001b[43m \u001b[49m\u001b[43msecondary_ys\u001b[49m\u001b[43m,\u001b[49m\u001b[43m \u001b[49m\u001b[43mexclude_empty_subplots\u001b[49m\n\u001b[0;32m    994\u001b[0m \u001b[43m    \u001b[49m\u001b[43m)\u001b[49m\n",
      "File \u001b[1;32mc:\\Users\\LG988475\\Documents\\lg-interview\\.venv\\Lib\\site-packages\\plotly\\basedatatypes.py:2237\u001b[0m, in \u001b[0;36mBaseFigure.add_traces\u001b[1;34m(self, data, rows, cols, secondary_ys, exclude_empty_subplots)\u001b[0m\n\u001b[0;32m   2235\u001b[0m \u001b[38;5;28;01mif\u001b[39;00m rows \u001b[38;5;129;01mis\u001b[39;00m \u001b[38;5;129;01mnot\u001b[39;00m \u001b[38;5;28;01mNone\u001b[39;00m:\n\u001b[0;32m   2236\u001b[0m     \u001b[38;5;28;01mfor\u001b[39;00m trace, row, col, secondary_y \u001b[38;5;129;01min\u001b[39;00m \u001b[38;5;28mzip\u001b[39m(data, rows, cols, secondary_ys):\n\u001b[1;32m-> 2237\u001b[0m         \u001b[38;5;28;43mself\u001b[39;49m\u001b[38;5;241;43m.\u001b[39;49m\u001b[43m_set_trace_grid_position\u001b[49m\u001b[43m(\u001b[49m\u001b[43mtrace\u001b[49m\u001b[43m,\u001b[49m\u001b[43m \u001b[49m\u001b[43mrow\u001b[49m\u001b[43m,\u001b[49m\u001b[43m \u001b[49m\u001b[43mcol\u001b[49m\u001b[43m,\u001b[49m\u001b[43m \u001b[49m\u001b[43msecondary_y\u001b[49m\u001b[43m)\u001b[49m\n\u001b[0;32m   2239\u001b[0m \u001b[38;5;28;01mif\u001b[39;00m exclude_empty_subplots:\n\u001b[0;32m   2240\u001b[0m     data \u001b[38;5;241m=\u001b[39m \u001b[38;5;28mlist\u001b[39m(\n\u001b[0;32m   2241\u001b[0m         \u001b[38;5;28mfilter\u001b[39m(\n\u001b[0;32m   2242\u001b[0m             \u001b[38;5;28;01mlambda\u001b[39;00m trace: \u001b[38;5;28mself\u001b[39m\u001b[38;5;241m.\u001b[39m_subplot_not_empty(\n\u001b[1;32m   (...)\u001b[0m\n\u001b[0;32m   2246\u001b[0m         )\n\u001b[0;32m   2247\u001b[0m     )\n",
      "File \u001b[1;32mc:\\Users\\LG988475\\Documents\\lg-interview\\.venv\\Lib\\site-packages\\plotly\\basedatatypes.py:2329\u001b[0m, in \u001b[0;36mBaseFigure._set_trace_grid_position\u001b[1;34m(self, trace, row, col, secondary_y)\u001b[0m\n\u001b[0;32m   2326\u001b[0m \u001b[38;5;28;01mfrom\u001b[39;00m\u001b[38;5;250m \u001b[39m\u001b[38;5;21;01mplotly\u001b[39;00m\u001b[38;5;21;01m.\u001b[39;00m\u001b[38;5;21;01m_subplots\u001b[39;00m\u001b[38;5;250m \u001b[39m\u001b[38;5;28;01mimport\u001b[39;00m _set_trace_grid_reference\n\u001b[0;32m   2328\u001b[0m grid_ref \u001b[38;5;241m=\u001b[39m \u001b[38;5;28mself\u001b[39m\u001b[38;5;241m.\u001b[39m_validate_get_grid_ref()\n\u001b[1;32m-> 2329\u001b[0m \u001b[38;5;28;01mreturn\u001b[39;00m \u001b[43m_set_trace_grid_reference\u001b[49m\u001b[43m(\u001b[49m\n\u001b[0;32m   2330\u001b[0m \u001b[43m    \u001b[49m\u001b[43mtrace\u001b[49m\u001b[43m,\u001b[49m\u001b[43m \u001b[49m\u001b[38;5;28;43mself\u001b[39;49m\u001b[38;5;241;43m.\u001b[39;49m\u001b[43mlayout\u001b[49m\u001b[43m,\u001b[49m\u001b[43m \u001b[49m\u001b[43mgrid_ref\u001b[49m\u001b[43m,\u001b[49m\u001b[43m \u001b[49m\u001b[43mrow\u001b[49m\u001b[43m,\u001b[49m\u001b[43m \u001b[49m\u001b[43mcol\u001b[49m\u001b[43m,\u001b[49m\u001b[43m \u001b[49m\u001b[43msecondary_y\u001b[49m\n\u001b[0;32m   2331\u001b[0m \u001b[43m\u001b[49m\u001b[43m)\u001b[49m\n",
      "File \u001b[1;32mc:\\Users\\LG988475\\Documents\\lg-interview\\.venv\\Lib\\site-packages\\plotly\\_subplots.py:1386\u001b[0m, in \u001b[0;36m_set_trace_grid_reference\u001b[1;34m(trace, layout, grid_ref, row, col, secondary_y)\u001b[0m\n\u001b[0;32m   1384\u001b[0m         subplot_refs \u001b[38;5;241m=\u001b[39m grid_ref[row \u001b[38;5;241m-\u001b[39m \u001b[38;5;241m1\u001b[39m][col \u001b[38;5;241m-\u001b[39m \u001b[38;5;241m1\u001b[39m]\n\u001b[0;32m   1385\u001b[0m     \u001b[38;5;28;01mexcept\u001b[39;00m \u001b[38;5;167;01mIndexError\u001b[39;00m:\n\u001b[1;32m-> 1386\u001b[0m         \u001b[38;5;28;01mraise\u001b[39;00m \u001b[38;5;167;01mException\u001b[39;00m(\n\u001b[0;32m   1387\u001b[0m             \u001b[38;5;124m\"\u001b[39m\u001b[38;5;124mThe (row, col) pair sent is out of \u001b[39m\u001b[38;5;124m\"\u001b[39m\n\u001b[0;32m   1388\u001b[0m             \u001b[38;5;124m\"\u001b[39m\u001b[38;5;124mrange. Use Figure.print_grid to view the \u001b[39m\u001b[38;5;124m\"\u001b[39m\n\u001b[0;32m   1389\u001b[0m             \u001b[38;5;124m\"\u001b[39m\u001b[38;5;124msubplot grid. \u001b[39m\u001b[38;5;124m\"\u001b[39m\n\u001b[0;32m   1390\u001b[0m         )\n\u001b[0;32m   1392\u001b[0m     \u001b[38;5;28;01mif\u001b[39;00m \u001b[38;5;129;01mnot\u001b[39;00m subplot_refs:\n\u001b[0;32m   1393\u001b[0m         \u001b[38;5;28;01mraise\u001b[39;00m \u001b[38;5;167;01mValueError\u001b[39;00m(\n\u001b[0;32m   1394\u001b[0m \u001b[38;5;250m            \u001b[39m\u001b[38;5;124;03m\"\"\"\u001b[39;00m\n\u001b[0;32m   1395\u001b[0m \u001b[38;5;124;03mNo subplot specified at grid position ({row}, {col})\"\"\"\u001b[39;00m\u001b[38;5;241m.\u001b[39mformat(\n\u001b[0;32m   1396\u001b[0m                 row\u001b[38;5;241m=\u001b[39mrow, col\u001b[38;5;241m=\u001b[39mcol\n\u001b[0;32m   1397\u001b[0m             )\n\u001b[0;32m   1398\u001b[0m         )\n",
      "\u001b[1;31mException\u001b[0m: The (row, col) pair sent is out of range. Use Figure.print_grid to view the subplot grid. "
     ]
    }
   ],
   "source": [
    "\n",
    "\n",
    "trace1 = go.Bar(x=random_period.index,\n",
    "                y=-random_period[\"import_intraday_vol\"],\n",
    "                name=\"Intraday\",\n",
    "                marker_color=graph_secondary,\n",
    "                yaxis='y1'\n",
    "                    )\n",
    "\n",
    "\n",
    "trace2 = go.Bar(x=random_period.index,\n",
    "                y=random_period[\"export_intraday_vol\"],\n",
    "                name='Export Intraday',\n",
    "                marker_color=graph_secondary,\n",
    "                yaxis='y1',\n",
    "                showlegend=False\n",
    "                    )\n",
    "trace3 = go.Scatter(x=random_period.index,\n",
    "                        y=random_period[\"intraday_price\"],\n",
    "                        name='Intraday Price',\n",
    "                        mode='lines',\n",
    "                        marker_color=graph_secondary,\n",
    "                        line=dict(width=2, \n",
    "                        color=graph_secondary, \n",
    "                        dash='dash'),\n",
    "                        yaxis='y2')\n",
    "data = [trace1,trace2]\n",
    "\n",
    "fig.update_layout(barmode='stack')\n",
    "\n",
    "fig.update_yaxes(title_text=\"Power (MW)\",row=2,col=1)   \n",
    "fig.update_yaxes(title_text= \"Price (£/MWh)\",row=2,col=1,secondary_y=True) \n",
    "for trace in data:\n",
    "    fig.add_trace(trace,row=2,col=1)\n",
    "fig.add_trace(trace3,row=2,col=1,secondary_y=True)\n"
   ]
  },
  {
   "cell_type": "code",
   "execution_count": 8,
   "metadata": {},
   "outputs": [],
   "source": [
    "#SoC\n",
    "trace1 = go.Scatter(x=random_period.index,\n",
    "                        y=(random_period[\"soc_intraday\"]/project_energy_capacity)*100,\n",
    "                        name='SoC (%)',\n",
    "                        mode='lines',\n",
    "                        marker_color=graph_secondary,\n",
    "                        line=dict(width=2, \n",
    "                        color='black', \n",
    "                        dash='dash'),\n",
    "                        yaxis='y2')\n",
    "\n",
    "soc_data = [trace1]\n",
    "\n",
    "\n",
    "fig.update_yaxes(title_text= \"SoC (%)\",range=[0,110], row=3,col=1,secondary_y=False) \n",
    "\n",
    "\n",
    "for trace in soc_data:\n",
    "    fig.add_trace(trace,row=3,col=1)"
   ]
  },
  {
   "cell_type": "code",
   "execution_count": 9,
   "metadata": {},
   "outputs": [
    {
     "data": {
      "application/vnd.plotly.v1+json": {
       "config": {
        "plotlyServerURL": "https://plot.ly"
       },
       "data": [
        {
         "marker": {
          "color": "rgba(230,98,5,1)"
         },
         "name": "Day Ahead",
         "type": "bar",
         "x": [
          "2023-01-20T00:00:00.000000000",
          "2023-01-20T00:30:00.000000000",
          "2023-01-20T01:00:00.000000000",
          "2023-01-20T01:30:00.000000000",
          "2023-01-20T02:00:00.000000000",
          "2023-01-20T02:30:00.000000000",
          "2023-01-20T03:00:00.000000000",
          "2023-01-20T03:30:00.000000000",
          "2023-01-20T04:00:00.000000000",
          "2023-01-20T04:30:00.000000000",
          "2023-01-20T05:00:00.000000000",
          "2023-01-20T05:30:00.000000000",
          "2023-01-20T06:00:00.000000000",
          "2023-01-20T06:30:00.000000000",
          "2023-01-20T07:00:00.000000000",
          "2023-01-20T07:30:00.000000000",
          "2023-01-20T08:00:00.000000000",
          "2023-01-20T08:30:00.000000000",
          "2023-01-20T09:00:00.000000000",
          "2023-01-20T09:30:00.000000000",
          "2023-01-20T10:00:00.000000000",
          "2023-01-20T10:30:00.000000000",
          "2023-01-20T11:00:00.000000000",
          "2023-01-20T11:30:00.000000000",
          "2023-01-20T12:00:00.000000000",
          "2023-01-20T12:30:00.000000000",
          "2023-01-20T13:00:00.000000000",
          "2023-01-20T13:30:00.000000000",
          "2023-01-20T14:00:00.000000000",
          "2023-01-20T14:30:00.000000000",
          "2023-01-20T15:00:00.000000000",
          "2023-01-20T15:30:00.000000000",
          "2023-01-20T16:00:00.000000000",
          "2023-01-20T16:30:00.000000000",
          "2023-01-20T17:00:00.000000000",
          "2023-01-20T17:30:00.000000000",
          "2023-01-20T18:00:00.000000000",
          "2023-01-20T18:30:00.000000000",
          "2023-01-20T19:00:00.000000000",
          "2023-01-20T19:30:00.000000000",
          "2023-01-20T20:00:00.000000000",
          "2023-01-20T20:30:00.000000000",
          "2023-01-20T21:00:00.000000000",
          "2023-01-20T21:30:00.000000000",
          "2023-01-20T22:00:00.000000000",
          "2023-01-20T22:30:00.000000000",
          "2023-01-20T23:00:00.000000000",
          "2023-01-20T23:30:00.000000000",
          "2023-01-21T00:00:00.000000000",
          "2023-01-21T00:30:00.000000000",
          "2023-01-21T01:00:00.000000000",
          "2023-01-21T01:30:00.000000000",
          "2023-01-21T02:00:00.000000000",
          "2023-01-21T02:30:00.000000000",
          "2023-01-21T03:00:00.000000000",
          "2023-01-21T03:30:00.000000000",
          "2023-01-21T04:00:00.000000000",
          "2023-01-21T04:30:00.000000000",
          "2023-01-21T05:00:00.000000000",
          "2023-01-21T05:30:00.000000000",
          "2023-01-21T06:00:00.000000000",
          "2023-01-21T06:30:00.000000000",
          "2023-01-21T07:00:00.000000000",
          "2023-01-21T07:30:00.000000000",
          "2023-01-21T08:00:00.000000000",
          "2023-01-21T08:30:00.000000000",
          "2023-01-21T09:00:00.000000000",
          "2023-01-21T09:30:00.000000000",
          "2023-01-21T10:00:00.000000000",
          "2023-01-21T10:30:00.000000000",
          "2023-01-21T11:00:00.000000000",
          "2023-01-21T11:30:00.000000000",
          "2023-01-21T12:00:00.000000000",
          "2023-01-21T12:30:00.000000000",
          "2023-01-21T13:00:00.000000000",
          "2023-01-21T13:30:00.000000000",
          "2023-01-21T14:00:00.000000000",
          "2023-01-21T14:30:00.000000000",
          "2023-01-21T15:00:00.000000000",
          "2023-01-21T15:30:00.000000000",
          "2023-01-21T16:00:00.000000000",
          "2023-01-21T16:30:00.000000000",
          "2023-01-21T17:00:00.000000000",
          "2023-01-21T17:30:00.000000000",
          "2023-01-21T18:00:00.000000000",
          "2023-01-21T18:30:00.000000000",
          "2023-01-21T19:00:00.000000000",
          "2023-01-21T19:30:00.000000000",
          "2023-01-21T20:00:00.000000000",
          "2023-01-21T20:30:00.000000000",
          "2023-01-21T21:00:00.000000000",
          "2023-01-21T21:30:00.000000000",
          "2023-01-21T22:00:00.000000000",
          "2023-01-21T22:30:00.000000000",
          "2023-01-21T23:00:00.000000000",
          "2023-01-21T23:30:00.000000000",
          "2023-01-22T00:00:00.000000000",
          "2023-01-22T00:30:00.000000000",
          "2023-01-22T01:00:00.000000000",
          "2023-01-22T01:30:00.000000000",
          "2023-01-22T02:00:00.000000000",
          "2023-01-22T02:30:00.000000000",
          "2023-01-22T03:00:00.000000000",
          "2023-01-22T03:30:00.000000000",
          "2023-01-22T04:00:00.000000000",
          "2023-01-22T04:30:00.000000000",
          "2023-01-22T05:00:00.000000000",
          "2023-01-22T05:30:00.000000000",
          "2023-01-22T06:00:00.000000000",
          "2023-01-22T06:30:00.000000000",
          "2023-01-22T07:00:00.000000000",
          "2023-01-22T07:30:00.000000000",
          "2023-01-22T08:00:00.000000000",
          "2023-01-22T08:30:00.000000000",
          "2023-01-22T09:00:00.000000000",
          "2023-01-22T09:30:00.000000000",
          "2023-01-22T10:00:00.000000000",
          "2023-01-22T10:30:00.000000000",
          "2023-01-22T11:00:00.000000000",
          "2023-01-22T11:30:00.000000000",
          "2023-01-22T12:00:00.000000000",
          "2023-01-22T12:30:00.000000000",
          "2023-01-22T13:00:00.000000000",
          "2023-01-22T13:30:00.000000000",
          "2023-01-22T14:00:00.000000000",
          "2023-01-22T14:30:00.000000000",
          "2023-01-22T15:00:00.000000000",
          "2023-01-22T15:30:00.000000000",
          "2023-01-22T16:00:00.000000000",
          "2023-01-22T16:30:00.000000000",
          "2023-01-22T17:00:00.000000000",
          "2023-01-22T17:30:00.000000000",
          "2023-01-22T18:00:00.000000000",
          "2023-01-22T18:30:00.000000000",
          "2023-01-22T19:00:00.000000000",
          "2023-01-22T19:30:00.000000000",
          "2023-01-22T20:00:00.000000000",
          "2023-01-22T20:30:00.000000000",
          "2023-01-22T21:00:00.000000000",
          "2023-01-22T21:30:00.000000000",
          "2023-01-22T22:00:00.000000000",
          "2023-01-22T22:30:00.000000000",
          "2023-01-22T23:00:00.000000000",
          "2023-01-22T23:30:00.000000000",
          "2023-01-23T00:00:00.000000000"
         ],
         "xaxis": "x",
         "y": {
          "bdata": "AAAAAAAAAIAAAAAAAAAAgAAAAAAAAACAAAAAAAAAAIAAAAAAAAAAgAAAAAAAAACAAAAAAAAAAIAAAAAAAAAAgAAAAAAAAACAAAAAAAAAAIAAAAAAAAAAgAAAAAAAAACAAAAAAAAAAIAAAAAAAAAAgAAAAAAAAACAAAAAAAAAWcAAAAAAAABZwIuNjY2NjTHAi42NjY2NMcAAAAAAAAAAgAAAAAAAAACAAAAAAAAAAIAAAAAAAAAAgAAAAAAAAACAAAAAAAAAAIAAAAAAAAAAgAAAAAAAAACAAAAAAAAAAIAAAAAAAAAAgAAAAAAAAACAAAAAAAAAAIAAAAAAAAAAgAAAAAAAAACAAAAAAAAAAIAAAAAAAAAAgIFPHOm1glfAgU8c6bWCV8AAAAAAAAAAgAAAAAAAAACAAAAAAAAAAIAAAAAAAAAAgAAAAAAAAACAAAAAAAAAAIAAAAAAAAAAgAAAAAAAAACAAAAAAAAAAIAAAAAAAAAAgAAAAAAAAACAAAAAAAAAAIAAAAAAAAAAgAAAAAAAAACAAAAAAAAAAIAAAAAAAAAAgAAAAAAAAACAAAAAAAAAAIAAAAAAAAAAgAAAAAAAAACAAAAAAAAAAIAAAAAAAAAAgAAAAAAAAACAAAAAAAAAAIAAAAAAAAAAgAAAAAAAAACAAAAAAAAAAIAAAAAAAAAAgAAAAAAAAFnAAAAAAAAAWcCNVSLvu4gxwI1VIu+7iDHAAAAAAAAAAIAAAAAAAAAAgAAAAAAAAACAAAAAAAAAAIAAAAAAAAAAgAAAAAAAAACAAAAAAAAAAIAAAAAAAAAAgAAAAAAAAACAAAAAAAAAAIAAAAAAAAAAgAAAAAAAAACAAAAAAAAAAIAAAAAAAAAAgLSq0y+/gVfAtKrTL7+BV8AAAAAAAAAAgAAAAAAAAACAAAAAAAAAAIAAAAAAAAAAgAAAAAAAAACAAAAAAAAAAIAAAAAAAAAAgAAAAAAAAACAAAAAAAAAAIAAAAAAAAAAgAAAAAAAAACAAAAAAAAAAIAAAAAAAAAAgAAAAAAAAACAAAAAAAAAAIAAAAAAAAAAgOcFi3bIgFfA5wWLdsiAV8AAAAAAAAAAgAAAAAAAAACAAAAAAAAAAIAAAAAAAAAAgAAAAAAAAACAAAAAAAAAAIAAAAAAAAAAgAAAAAAAAACAAAAAAAAAAIAAAAAAAAAAgAAAAAAAAFnAAAAAAAAAWcB9HbdQ6oMxwH0dt1DqgzHAAAAAAAAAAIAAAAAAAAAAgAAAAAAAAACAAAAAAAAAAIAAAAAAAAAAgAAAAAAAAACAAAAAAAAAAIAAAAAAAAAAgAAAAAAAAACAAAAAAAAAAIAAAAAAAAAAgAAAAAAAAACAAAAAAAAAAIAAAAAAAAAAgAAAAAAAAACAAAAAAAAAAIAAAAAAAAAAgAAAAAAAAACAAAAAAAAAAIAAAAAAAAAAgAAAAAAAAACAAAAAAAAAAIAAAAAAAAAAgAAAAAAAAACAAAAAAAAAAIAAAAAAAAAAgAAAAAAAAACAAAAAAAAAAIA=",
          "dtype": "f8"
         },
         "yaxis": "y"
        },
        {
         "marker": {
          "color": "rgba(230,98,5,1)"
         },
         "name": "",
         "showlegend": false,
         "type": "bar",
         "x": [
          "2023-01-20T00:00:00.000000000",
          "2023-01-20T00:30:00.000000000",
          "2023-01-20T01:00:00.000000000",
          "2023-01-20T01:30:00.000000000",
          "2023-01-20T02:00:00.000000000",
          "2023-01-20T02:30:00.000000000",
          "2023-01-20T03:00:00.000000000",
          "2023-01-20T03:30:00.000000000",
          "2023-01-20T04:00:00.000000000",
          "2023-01-20T04:30:00.000000000",
          "2023-01-20T05:00:00.000000000",
          "2023-01-20T05:30:00.000000000",
          "2023-01-20T06:00:00.000000000",
          "2023-01-20T06:30:00.000000000",
          "2023-01-20T07:00:00.000000000",
          "2023-01-20T07:30:00.000000000",
          "2023-01-20T08:00:00.000000000",
          "2023-01-20T08:30:00.000000000",
          "2023-01-20T09:00:00.000000000",
          "2023-01-20T09:30:00.000000000",
          "2023-01-20T10:00:00.000000000",
          "2023-01-20T10:30:00.000000000",
          "2023-01-20T11:00:00.000000000",
          "2023-01-20T11:30:00.000000000",
          "2023-01-20T12:00:00.000000000",
          "2023-01-20T12:30:00.000000000",
          "2023-01-20T13:00:00.000000000",
          "2023-01-20T13:30:00.000000000",
          "2023-01-20T14:00:00.000000000",
          "2023-01-20T14:30:00.000000000",
          "2023-01-20T15:00:00.000000000",
          "2023-01-20T15:30:00.000000000",
          "2023-01-20T16:00:00.000000000",
          "2023-01-20T16:30:00.000000000",
          "2023-01-20T17:00:00.000000000",
          "2023-01-20T17:30:00.000000000",
          "2023-01-20T18:00:00.000000000",
          "2023-01-20T18:30:00.000000000",
          "2023-01-20T19:00:00.000000000",
          "2023-01-20T19:30:00.000000000",
          "2023-01-20T20:00:00.000000000",
          "2023-01-20T20:30:00.000000000",
          "2023-01-20T21:00:00.000000000",
          "2023-01-20T21:30:00.000000000",
          "2023-01-20T22:00:00.000000000",
          "2023-01-20T22:30:00.000000000",
          "2023-01-20T23:00:00.000000000",
          "2023-01-20T23:30:00.000000000",
          "2023-01-21T00:00:00.000000000",
          "2023-01-21T00:30:00.000000000",
          "2023-01-21T01:00:00.000000000",
          "2023-01-21T01:30:00.000000000",
          "2023-01-21T02:00:00.000000000",
          "2023-01-21T02:30:00.000000000",
          "2023-01-21T03:00:00.000000000",
          "2023-01-21T03:30:00.000000000",
          "2023-01-21T04:00:00.000000000",
          "2023-01-21T04:30:00.000000000",
          "2023-01-21T05:00:00.000000000",
          "2023-01-21T05:30:00.000000000",
          "2023-01-21T06:00:00.000000000",
          "2023-01-21T06:30:00.000000000",
          "2023-01-21T07:00:00.000000000",
          "2023-01-21T07:30:00.000000000",
          "2023-01-21T08:00:00.000000000",
          "2023-01-21T08:30:00.000000000",
          "2023-01-21T09:00:00.000000000",
          "2023-01-21T09:30:00.000000000",
          "2023-01-21T10:00:00.000000000",
          "2023-01-21T10:30:00.000000000",
          "2023-01-21T11:00:00.000000000",
          "2023-01-21T11:30:00.000000000",
          "2023-01-21T12:00:00.000000000",
          "2023-01-21T12:30:00.000000000",
          "2023-01-21T13:00:00.000000000",
          "2023-01-21T13:30:00.000000000",
          "2023-01-21T14:00:00.000000000",
          "2023-01-21T14:30:00.000000000",
          "2023-01-21T15:00:00.000000000",
          "2023-01-21T15:30:00.000000000",
          "2023-01-21T16:00:00.000000000",
          "2023-01-21T16:30:00.000000000",
          "2023-01-21T17:00:00.000000000",
          "2023-01-21T17:30:00.000000000",
          "2023-01-21T18:00:00.000000000",
          "2023-01-21T18:30:00.000000000",
          "2023-01-21T19:00:00.000000000",
          "2023-01-21T19:30:00.000000000",
          "2023-01-21T20:00:00.000000000",
          "2023-01-21T20:30:00.000000000",
          "2023-01-21T21:00:00.000000000",
          "2023-01-21T21:30:00.000000000",
          "2023-01-21T22:00:00.000000000",
          "2023-01-21T22:30:00.000000000",
          "2023-01-21T23:00:00.000000000",
          "2023-01-21T23:30:00.000000000",
          "2023-01-22T00:00:00.000000000",
          "2023-01-22T00:30:00.000000000",
          "2023-01-22T01:00:00.000000000",
          "2023-01-22T01:30:00.000000000",
          "2023-01-22T02:00:00.000000000",
          "2023-01-22T02:30:00.000000000",
          "2023-01-22T03:00:00.000000000",
          "2023-01-22T03:30:00.000000000",
          "2023-01-22T04:00:00.000000000",
          "2023-01-22T04:30:00.000000000",
          "2023-01-22T05:00:00.000000000",
          "2023-01-22T05:30:00.000000000",
          "2023-01-22T06:00:00.000000000",
          "2023-01-22T06:30:00.000000000",
          "2023-01-22T07:00:00.000000000",
          "2023-01-22T07:30:00.000000000",
          "2023-01-22T08:00:00.000000000",
          "2023-01-22T08:30:00.000000000",
          "2023-01-22T09:00:00.000000000",
          "2023-01-22T09:30:00.000000000",
          "2023-01-22T10:00:00.000000000",
          "2023-01-22T10:30:00.000000000",
          "2023-01-22T11:00:00.000000000",
          "2023-01-22T11:30:00.000000000",
          "2023-01-22T12:00:00.000000000",
          "2023-01-22T12:30:00.000000000",
          "2023-01-22T13:00:00.000000000",
          "2023-01-22T13:30:00.000000000",
          "2023-01-22T14:00:00.000000000",
          "2023-01-22T14:30:00.000000000",
          "2023-01-22T15:00:00.000000000",
          "2023-01-22T15:30:00.000000000",
          "2023-01-22T16:00:00.000000000",
          "2023-01-22T16:30:00.000000000",
          "2023-01-22T17:00:00.000000000",
          "2023-01-22T17:30:00.000000000",
          "2023-01-22T18:00:00.000000000",
          "2023-01-22T18:30:00.000000000",
          "2023-01-22T19:00:00.000000000",
          "2023-01-22T19:30:00.000000000",
          "2023-01-22T20:00:00.000000000",
          "2023-01-22T20:30:00.000000000",
          "2023-01-22T21:00:00.000000000",
          "2023-01-22T21:30:00.000000000",
          "2023-01-22T22:00:00.000000000",
          "2023-01-22T22:30:00.000000000",
          "2023-01-22T23:00:00.000000000",
          "2023-01-22T23:30:00.000000000",
          "2023-01-23T00:00:00.000000000"
         ],
         "xaxis": "x",
         "y": {
          "bdata": "AAAAAAAAAAAAAAAAAAAAAAAAAAAAAAAAAAAAAAAAAAAAAAAAAAAAAAAAAAAAAAAAAAAAAAAAAAAAAAAAAAAAAAAAAAAAAAAAAAAAAAAAAAAAAAAAAAAAAAAAAAAAAAAAAAAAAAAAAAAAAAAAAAAAAAAAAAAAAAAAAAAAAAAAAAAAAAAAAAAAAAAAAAAAAAAAAAAAAAAAAAAAAAAAAAAAAAAAAAAAAAAAAAAAAAAAAAAAAAAAAAAAAAAAAAAAAAAAAAAAAAAAAACWQ4ts5/tDQJZDi2zn+0NAlkOLbOf7Q0CWQ4ts5/tDQAAAAAAAAAAAAAAAAAAAAAAAAAAAAAAAAAAAAAAAAAAAAAAAAAAAAAAAAAAAAAAAAAAAAAAAAAAAAAAAAAAAAAAAAAAAAAAAAAAAAAAAAAAAAAAAAAAAAAAAAAAAAAAAAAAAAAAAAAAAAAAAAAAAAACWQ4ts5/tDQJZDi2zn+0NAlkOLbOf7Q0CWQ4ts5/tDQJZDi2zn+0NAAAAAAAAAAAAAAAAAAAAAAAAAAAAAAAAAAAAAAAAAAAAAAAAAAAAAAAAAAAAAAAAAAAAAAAAAAAAAAAAAAAAAAAAAAAAAAAAAAAAAAAAAAAAAAAAAAAAAAAAAAAAAAAAAAAAAAAAAAAAAAAAAAAAAAAAAAAAAAAAAAAAAAAAAAAAAAAAAAAAAAAAAAAAAAAAAAAAAAAAAAAAAAAAAAAAAAAAAAAAAAAAAAAAAAAAAAAAAAAAAAAAAAAAAAAAAAAAAAAAAAAAAAAAAAAAAAAAAAAAAAAAAAAAAs+pztRX7Q0Cz6nO1FftDQLPqc7UV+0NAs+pztRX7Q0AAAAAAAAAAAAAAAAAAAAAAAAAAAAAAAAAAAAAAAAAAAAAAAAAAAAAAAAAAAAAAAAAAAAAAAAAAAAAAAAAAAAAAAAAAAAAAAAAAAAAAAAAAAAAAAAAAAAAAAAAAAAAAAACz6nO1FftDQLPqc7UV+0NAs+pztRX7Q0Cz6nO1FftDQLPqc7UV+0NAAAAAAAAAAAAAAAAAAAAAAAAAAAAAAAAAAAAAAAAAAAAAAAAAAAAAAAAAAAAAAAAAAAAAAAAAAAAAAAAAAAAAAAAAAAAAAAAA0ZFc/kP6Q0DRkVz+Q/pDQNORXP5D+kNA05Fc/kP6Q0AAAAAAAAAAAAAAAAAAAAAAAAAAAAAAAAAAAAAAAAAAAAAAAAAAAAAAAAAAAAAAAAAAAAAAAAAAAAAAAAAAAAAAAAAAAAAAAAAAAAAAAAAAAAAAAAAAAAAAAAAAAAAAAAAAAAAAAAAAAAAAAAAAAAAAAAAAAAAAAAAAAAAAAAAAAAAAAAAAAAAAAAAAAAAAAAAAAAAAAAAAAAAAAAAAAAAAAAAAAAAAAAAAAAAAAAAAAAAAAAAAAAAAAAAAAAAAAAAAAAAAAAAAAAAAAAAAAAAAAAAAAAAAAAAAAAAAAAAAAAAAAAAAAAAAAAAAAAAAAADSkVz+Q/pDQNKRXP5D+kNA0pFc/kP6Q0DSkVz+Q/pDQNKRXP5D+kNAAAAAAAAAAAA=",
          "dtype": "f8"
         },
         "yaxis": "y"
        },
        {
         "line": {
          "color": "rgba(230,98,5,1)",
          "dash": "dash",
          "width": 2
         },
         "marker": {
          "color": "rgba(230,98,5,1)"
         },
         "mode": "lines",
         "name": "Day Ahead Price",
         "type": "scatter",
         "x": [
          "2023-01-20T00:00:00.000000000",
          "2023-01-20T00:30:00.000000000",
          "2023-01-20T01:00:00.000000000",
          "2023-01-20T01:30:00.000000000",
          "2023-01-20T02:00:00.000000000",
          "2023-01-20T02:30:00.000000000",
          "2023-01-20T03:00:00.000000000",
          "2023-01-20T03:30:00.000000000",
          "2023-01-20T04:00:00.000000000",
          "2023-01-20T04:30:00.000000000",
          "2023-01-20T05:00:00.000000000",
          "2023-01-20T05:30:00.000000000",
          "2023-01-20T06:00:00.000000000",
          "2023-01-20T06:30:00.000000000",
          "2023-01-20T07:00:00.000000000",
          "2023-01-20T07:30:00.000000000",
          "2023-01-20T08:00:00.000000000",
          "2023-01-20T08:30:00.000000000",
          "2023-01-20T09:00:00.000000000",
          "2023-01-20T09:30:00.000000000",
          "2023-01-20T10:00:00.000000000",
          "2023-01-20T10:30:00.000000000",
          "2023-01-20T11:00:00.000000000",
          "2023-01-20T11:30:00.000000000",
          "2023-01-20T12:00:00.000000000",
          "2023-01-20T12:30:00.000000000",
          "2023-01-20T13:00:00.000000000",
          "2023-01-20T13:30:00.000000000",
          "2023-01-20T14:00:00.000000000",
          "2023-01-20T14:30:00.000000000",
          "2023-01-20T15:00:00.000000000",
          "2023-01-20T15:30:00.000000000",
          "2023-01-20T16:00:00.000000000",
          "2023-01-20T16:30:00.000000000",
          "2023-01-20T17:00:00.000000000",
          "2023-01-20T17:30:00.000000000",
          "2023-01-20T18:00:00.000000000",
          "2023-01-20T18:30:00.000000000",
          "2023-01-20T19:00:00.000000000",
          "2023-01-20T19:30:00.000000000",
          "2023-01-20T20:00:00.000000000",
          "2023-01-20T20:30:00.000000000",
          "2023-01-20T21:00:00.000000000",
          "2023-01-20T21:30:00.000000000",
          "2023-01-20T22:00:00.000000000",
          "2023-01-20T22:30:00.000000000",
          "2023-01-20T23:00:00.000000000",
          "2023-01-20T23:30:00.000000000",
          "2023-01-21T00:00:00.000000000",
          "2023-01-21T00:30:00.000000000",
          "2023-01-21T01:00:00.000000000",
          "2023-01-21T01:30:00.000000000",
          "2023-01-21T02:00:00.000000000",
          "2023-01-21T02:30:00.000000000",
          "2023-01-21T03:00:00.000000000",
          "2023-01-21T03:30:00.000000000",
          "2023-01-21T04:00:00.000000000",
          "2023-01-21T04:30:00.000000000",
          "2023-01-21T05:00:00.000000000",
          "2023-01-21T05:30:00.000000000",
          "2023-01-21T06:00:00.000000000",
          "2023-01-21T06:30:00.000000000",
          "2023-01-21T07:00:00.000000000",
          "2023-01-21T07:30:00.000000000",
          "2023-01-21T08:00:00.000000000",
          "2023-01-21T08:30:00.000000000",
          "2023-01-21T09:00:00.000000000",
          "2023-01-21T09:30:00.000000000",
          "2023-01-21T10:00:00.000000000",
          "2023-01-21T10:30:00.000000000",
          "2023-01-21T11:00:00.000000000",
          "2023-01-21T11:30:00.000000000",
          "2023-01-21T12:00:00.000000000",
          "2023-01-21T12:30:00.000000000",
          "2023-01-21T13:00:00.000000000",
          "2023-01-21T13:30:00.000000000",
          "2023-01-21T14:00:00.000000000",
          "2023-01-21T14:30:00.000000000",
          "2023-01-21T15:00:00.000000000",
          "2023-01-21T15:30:00.000000000",
          "2023-01-21T16:00:00.000000000",
          "2023-01-21T16:30:00.000000000",
          "2023-01-21T17:00:00.000000000",
          "2023-01-21T17:30:00.000000000",
          "2023-01-21T18:00:00.000000000",
          "2023-01-21T18:30:00.000000000",
          "2023-01-21T19:00:00.000000000",
          "2023-01-21T19:30:00.000000000",
          "2023-01-21T20:00:00.000000000",
          "2023-01-21T20:30:00.000000000",
          "2023-01-21T21:00:00.000000000",
          "2023-01-21T21:30:00.000000000",
          "2023-01-21T22:00:00.000000000",
          "2023-01-21T22:30:00.000000000",
          "2023-01-21T23:00:00.000000000",
          "2023-01-21T23:30:00.000000000",
          "2023-01-22T00:00:00.000000000",
          "2023-01-22T00:30:00.000000000",
          "2023-01-22T01:00:00.000000000",
          "2023-01-22T01:30:00.000000000",
          "2023-01-22T02:00:00.000000000",
          "2023-01-22T02:30:00.000000000",
          "2023-01-22T03:00:00.000000000",
          "2023-01-22T03:30:00.000000000",
          "2023-01-22T04:00:00.000000000",
          "2023-01-22T04:30:00.000000000",
          "2023-01-22T05:00:00.000000000",
          "2023-01-22T05:30:00.000000000",
          "2023-01-22T06:00:00.000000000",
          "2023-01-22T06:30:00.000000000",
          "2023-01-22T07:00:00.000000000",
          "2023-01-22T07:30:00.000000000",
          "2023-01-22T08:00:00.000000000",
          "2023-01-22T08:30:00.000000000",
          "2023-01-22T09:00:00.000000000",
          "2023-01-22T09:30:00.000000000",
          "2023-01-22T10:00:00.000000000",
          "2023-01-22T10:30:00.000000000",
          "2023-01-22T11:00:00.000000000",
          "2023-01-22T11:30:00.000000000",
          "2023-01-22T12:00:00.000000000",
          "2023-01-22T12:30:00.000000000",
          "2023-01-22T13:00:00.000000000",
          "2023-01-22T13:30:00.000000000",
          "2023-01-22T14:00:00.000000000",
          "2023-01-22T14:30:00.000000000",
          "2023-01-22T15:00:00.000000000",
          "2023-01-22T15:30:00.000000000",
          "2023-01-22T16:00:00.000000000",
          "2023-01-22T16:30:00.000000000",
          "2023-01-22T17:00:00.000000000",
          "2023-01-22T17:30:00.000000000",
          "2023-01-22T18:00:00.000000000",
          "2023-01-22T18:30:00.000000000",
          "2023-01-22T19:00:00.000000000",
          "2023-01-22T19:30:00.000000000",
          "2023-01-22T20:00:00.000000000",
          "2023-01-22T20:30:00.000000000",
          "2023-01-22T21:00:00.000000000",
          "2023-01-22T21:30:00.000000000",
          "2023-01-22T22:00:00.000000000",
          "2023-01-22T22:30:00.000000000",
          "2023-01-22T23:00:00.000000000",
          "2023-01-22T23:30:00.000000000",
          "2023-01-23T00:00:00.000000000"
         ],
         "xaxis": "x",
         "y": {
          "bdata": "rkfhehSeZUCuR+F6FJ5lQNejcD0KZ2JA16NwPQpnYkA9CtejcJViQD0K16NwlWJAj8L1KFzPX0CPwvUoXM9fQHsUrkfhwmBAexSuR+HCYEDD9Shcj1JgQMP1KFyPUmBA7FG4HoVTYEDsUbgehVNgQLgehetRIGBAuB6F61EgYEAAAAAAACBgQAAAAAAAIGBAAAAAAABAYEAAAAAAAEBgQB+F61G4fmJAH4XrUbh+YkDD9Shcj7JkQMP1KFyPsmRAexSuR+H6Z0B7FK5H4fpnQM3MzMzMfGhAzczMzMx8aEDhehSuR+lnQOF6FK5H6WdAuB6F61EwZkC4HoXrUTBmQMP1KFyPgmRAw/UoXI+CZEA9CtejcJ1jQD0K16NwnWNA9ihcj8KVY0D2KFyPwpVjQNejcD0KJ2VA16NwPQonZUD2KFyPwhVmQPYoXI/CFWZAMzMzMzOTaEAzMzMzM5NoQEjhehSux2hASOF6FK7HaEB7FK5H4SpoQHsUrkfhKmhAZmZmZmbuZkBmZmZmZu5mQOxRuB6Fo2NA7FG4HoWjY0CamZmZmRFjQJqZmZmZEWNAFK5H4XrMYUAUrkfhesxhQPYoXI/ChWFA9ihcj8KFYUCPwvUoXAdhQI/C9ShcB2FAuB6F61EIYUC4HoXrUQhhQDMzMzMzO2BAMzMzMzM7YECuR+F6FAZgQK5H4XoUBmBAKVyPwvUAYEApXI/C9QBgQKRwPQrXK2BApHA9CtcrYEDhehSuRwlhQOF6FK5HCWFACtejcD2iYkAK16NwPaJiQOF6FK5HsWNA4XoUrkexY0CamZmZmdFjQJqZmZmZ0WNAUrgehevZYkBSuB6F69liQB+F61G4bmFAH4XrUbhuYUCuR+F6FI5gQK5H4XoUjmBAPQrXo3BlYEA9CtejcGVgQEjhehSuv2BASOF6FK6/YEDNzMzMzBxiQM3MzMzMHGJAexSuR+FaZEB7FK5H4VpkQK5H4XoUdmhArkfhehR2aECuR+F6FF5mQK5H4XoUXmZAexSuR+EyY0B7FK5H4TJjQHsUrkfhimJAexSuR+GKYkBSuB6F65FhQFK4HoXrkWFAexSuR+FiYEB7FK5H4WJgQArXo3A9wmJACtejcD3CYkDXo3A9Co9iQNejcD0Kj2JAAAAAAAAAYkAAAAAAAABiQM3MzMzMXGFAzczMzMxcYUCPwvUoXF9fQI/C9ShcX19A16NwPQoXXkDXo3A9ChdeQLgehetRQGBAuB6F61FAYEBmZmZmZtZgQGZmZmZm1mBAexSuR+H6YEB7FK5H4fpgQDMzMzMzg2FAMzMzMzODYUAUrkfherRiQBSuR+F6tGJAPQrXo3DNZEA9CtejcM1kQK5H4XoUBmRArkfhehQGZED2KFyPwt1lQPYoXI/C3WVAKVyPwvVoZ0ApXI/C9WhnQDMzMzMzI2ZAMzMzMzMjZkApXI/C9eBlQClcj8L14GVAFK5H4Xp8aUAUrkfhenxpQLgehetRwGxAuB6F61HAbEA9CtejcA1rQD0K16NwDWtACtejcD2yaEA=",
          "dtype": "f8"
         },
         "yaxis": "y2"
        },
        {
         "marker": {
          "color": "rgb(144,144,144)"
         },
         "name": "Intraday",
         "type": "bar",
         "x": [
          "2023-01-20T00:00:00.000000000",
          "2023-01-20T00:30:00.000000000",
          "2023-01-20T01:00:00.000000000",
          "2023-01-20T01:30:00.000000000",
          "2023-01-20T02:00:00.000000000",
          "2023-01-20T02:30:00.000000000",
          "2023-01-20T03:00:00.000000000",
          "2023-01-20T03:30:00.000000000",
          "2023-01-20T04:00:00.000000000",
          "2023-01-20T04:30:00.000000000",
          "2023-01-20T05:00:00.000000000",
          "2023-01-20T05:30:00.000000000",
          "2023-01-20T06:00:00.000000000",
          "2023-01-20T06:30:00.000000000",
          "2023-01-20T07:00:00.000000000",
          "2023-01-20T07:30:00.000000000",
          "2023-01-20T08:00:00.000000000",
          "2023-01-20T08:30:00.000000000",
          "2023-01-20T09:00:00.000000000",
          "2023-01-20T09:30:00.000000000",
          "2023-01-20T10:00:00.000000000",
          "2023-01-20T10:30:00.000000000",
          "2023-01-20T11:00:00.000000000",
          "2023-01-20T11:30:00.000000000",
          "2023-01-20T12:00:00.000000000",
          "2023-01-20T12:30:00.000000000",
          "2023-01-20T13:00:00.000000000",
          "2023-01-20T13:30:00.000000000",
          "2023-01-20T14:00:00.000000000",
          "2023-01-20T14:30:00.000000000",
          "2023-01-20T15:00:00.000000000",
          "2023-01-20T15:30:00.000000000",
          "2023-01-20T16:00:00.000000000",
          "2023-01-20T16:30:00.000000000",
          "2023-01-20T17:00:00.000000000",
          "2023-01-20T17:30:00.000000000",
          "2023-01-20T18:00:00.000000000",
          "2023-01-20T18:30:00.000000000",
          "2023-01-20T19:00:00.000000000",
          "2023-01-20T19:30:00.000000000",
          "2023-01-20T20:00:00.000000000",
          "2023-01-20T20:30:00.000000000",
          "2023-01-20T21:00:00.000000000",
          "2023-01-20T21:30:00.000000000",
          "2023-01-20T22:00:00.000000000",
          "2023-01-20T22:30:00.000000000",
          "2023-01-20T23:00:00.000000000",
          "2023-01-20T23:30:00.000000000",
          "2023-01-21T00:00:00.000000000",
          "2023-01-21T00:30:00.000000000",
          "2023-01-21T01:00:00.000000000",
          "2023-01-21T01:30:00.000000000",
          "2023-01-21T02:00:00.000000000",
          "2023-01-21T02:30:00.000000000",
          "2023-01-21T03:00:00.000000000",
          "2023-01-21T03:30:00.000000000",
          "2023-01-21T04:00:00.000000000",
          "2023-01-21T04:30:00.000000000",
          "2023-01-21T05:00:00.000000000",
          "2023-01-21T05:30:00.000000000",
          "2023-01-21T06:00:00.000000000",
          "2023-01-21T06:30:00.000000000",
          "2023-01-21T07:00:00.000000000",
          "2023-01-21T07:30:00.000000000",
          "2023-01-21T08:00:00.000000000",
          "2023-01-21T08:30:00.000000000",
          "2023-01-21T09:00:00.000000000",
          "2023-01-21T09:30:00.000000000",
          "2023-01-21T10:00:00.000000000",
          "2023-01-21T10:30:00.000000000",
          "2023-01-21T11:00:00.000000000",
          "2023-01-21T11:30:00.000000000",
          "2023-01-21T12:00:00.000000000",
          "2023-01-21T12:30:00.000000000",
          "2023-01-21T13:00:00.000000000",
          "2023-01-21T13:30:00.000000000",
          "2023-01-21T14:00:00.000000000",
          "2023-01-21T14:30:00.000000000",
          "2023-01-21T15:00:00.000000000",
          "2023-01-21T15:30:00.000000000",
          "2023-01-21T16:00:00.000000000",
          "2023-01-21T16:30:00.000000000",
          "2023-01-21T17:00:00.000000000",
          "2023-01-21T17:30:00.000000000",
          "2023-01-21T18:00:00.000000000",
          "2023-01-21T18:30:00.000000000",
          "2023-01-21T19:00:00.000000000",
          "2023-01-21T19:30:00.000000000",
          "2023-01-21T20:00:00.000000000",
          "2023-01-21T20:30:00.000000000",
          "2023-01-21T21:00:00.000000000",
          "2023-01-21T21:30:00.000000000",
          "2023-01-21T22:00:00.000000000",
          "2023-01-21T22:30:00.000000000",
          "2023-01-21T23:00:00.000000000",
          "2023-01-21T23:30:00.000000000",
          "2023-01-22T00:00:00.000000000",
          "2023-01-22T00:30:00.000000000",
          "2023-01-22T01:00:00.000000000",
          "2023-01-22T01:30:00.000000000",
          "2023-01-22T02:00:00.000000000",
          "2023-01-22T02:30:00.000000000",
          "2023-01-22T03:00:00.000000000",
          "2023-01-22T03:30:00.000000000",
          "2023-01-22T04:00:00.000000000",
          "2023-01-22T04:30:00.000000000",
          "2023-01-22T05:00:00.000000000",
          "2023-01-22T05:30:00.000000000",
          "2023-01-22T06:00:00.000000000",
          "2023-01-22T06:30:00.000000000",
          "2023-01-22T07:00:00.000000000",
          "2023-01-22T07:30:00.000000000",
          "2023-01-22T08:00:00.000000000",
          "2023-01-22T08:30:00.000000000",
          "2023-01-22T09:00:00.000000000",
          "2023-01-22T09:30:00.000000000",
          "2023-01-22T10:00:00.000000000",
          "2023-01-22T10:30:00.000000000",
          "2023-01-22T11:00:00.000000000",
          "2023-01-22T11:30:00.000000000",
          "2023-01-22T12:00:00.000000000",
          "2023-01-22T12:30:00.000000000",
          "2023-01-22T13:00:00.000000000",
          "2023-01-22T13:30:00.000000000",
          "2023-01-22T14:00:00.000000000",
          "2023-01-22T14:30:00.000000000",
          "2023-01-22T15:00:00.000000000",
          "2023-01-22T15:30:00.000000000",
          "2023-01-22T16:00:00.000000000",
          "2023-01-22T16:30:00.000000000",
          "2023-01-22T17:00:00.000000000",
          "2023-01-22T17:30:00.000000000",
          "2023-01-22T18:00:00.000000000",
          "2023-01-22T18:30:00.000000000",
          "2023-01-22T19:00:00.000000000",
          "2023-01-22T19:30:00.000000000",
          "2023-01-22T20:00:00.000000000",
          "2023-01-22T20:30:00.000000000",
          "2023-01-22T21:00:00.000000000",
          "2023-01-22T21:30:00.000000000",
          "2023-01-22T22:00:00.000000000",
          "2023-01-22T22:30:00.000000000",
          "2023-01-22T23:00:00.000000000",
          "2023-01-22T23:30:00.000000000",
          "2023-01-23T00:00:00.000000000"
         ],
         "xaxis": "x2",
         "y": {
          "bdata": "AAAAAAAAAIAAAAAAAAAAgAAAAAAAAACAAAAAAAAAAIAAAAAAAAAAgAAAAAAAAACAAAAAAAAAAIAAAAAAAAAAgAAAAAAAAACAAAAAAAAAAIAAAAAAAAAAgAAAAAAAAACAAAAAAAAAAIAAAAAAAAAAgAAAAAAAAACAAAAAAAAAAIAAAAAAAAAAgAAAAAAAAACAAAAAAAAAAIAAAAAAAAAAgAAAAAAAAACAAAAAAAAAAIAAAAAAAAAAgAAAAAAAAACAAAAAAAAAAIAAAAAAAAAAgAAAAAAAAACAAAAAAAAAAIAAAAAAAAAAgAAAAAAAAACAAAAAAAAAAIAAAAAAAAAAgAAAAAAAAACAAAAAAAAAAIAAAAAAAAAAgAAAAAAAAACAAAAAAAAAAIAAAAAAAAAAgAAAAAAAAACAAAAAAAAAAIAAAAAAAAAAgAAAAAAAAACAAAAAAAAAAICGTxzptYJXwAAAAAAAAACAAAAAAAAAAIAAAAAAAAAAgAAAAAAAAACAAAAAAAAAAIAAAAAAAAAAgAAAAAAAAACAAAAAAAAAAIAAAAAAAAAAgAAAAAAAAACAAAAAAAAAAIAAAAAAAAAAgAAAAAAAAACAAAAAAAAAAIAAAAAAAAAAgAAAAAAAAACAAAAAAAAAAIAAAAAAAAAAgAAAAAAAAACAAAAAAAAAAIAAAAAAAAAAgAAAAAAAAACAAAAAAAAAAIAAAAAAAAAAgAAAAAAAAACAAAAAAAAAAIAAAAAAAAAAgAAAAAAAAACAAAAAAAAAAIAAAAAAAAAAgAAAAAAAAACAAAAAAAAAAIAAAAAAAAAAgAAAAAAAAACAAAAAAAAAAIAAAAAAAAAAgAAAAAAAAACAAAAAAAAAAIAAAAAAAAAAgAAAAAAAAACAAAAAAAAAAIAAAAAAAAAAgAAAAAAAAACAAAAAAAAAAIAAAAAAAAAAgAAAAAAAAACAAAAAAAAAAIAAAAAAAAAAgAAAAAAAAACAr6rTL7+BR8AAAAAAAAAAgAAAAAAAAACAAAAAAAAAAIAAAAAAAAAAgAAAAAAAAACAAAAAAAAAAIAAAAAAAAAAgAAAAAAAAACAAAAAAAAAAIAAAAAAAAAAgAAAAAAAAACAAAAAAAAAAIAAAAAAAAAAgAAAAAAAAACAAAAAAAAAAIAAAAAAAAAAgAAAAAAAAACAAAAAAAAAAIAAAAAAAAAAgAAAAAAAAACAAAAAAAAAAIAAAAAAAAAAgAAAAAAAAACAAAAAAAAAAIAAAAAAAAAAgAAAAAAAAACAAAAAAAAAAIAAAAAAAAAAgAAAAAAAAACAAAAAAAAAAIAAAAAAAAAAgAAAAAAAAACAAAAAAAAAAIAAAAAAAAAAgAAAAAAAAACAAAAAAAAAAIAAAAAAAAAAgAAAAAAAAACAAAAAAAAAAIAAAAAAAAAAgAAAAAAAAACAAAAAAAAAAIAAAAAAAAAAgAAAAAAAAACAAAAAAAAAAIAAAAAAAAAAgAAAAAAAAACAAAAAAAAAAIAAAAAAAAAAgAAAAAAAAACAAAAAAAAAAIA=",
          "dtype": "f8"
         },
         "yaxis": "y3"
        },
        {
         "marker": {
          "color": "rgb(144,144,144)"
         },
         "name": "Export Intraday",
         "showlegend": false,
         "type": "bar",
         "x": [
          "2023-01-20T00:00:00.000000000",
          "2023-01-20T00:30:00.000000000",
          "2023-01-20T01:00:00.000000000",
          "2023-01-20T01:30:00.000000000",
          "2023-01-20T02:00:00.000000000",
          "2023-01-20T02:30:00.000000000",
          "2023-01-20T03:00:00.000000000",
          "2023-01-20T03:30:00.000000000",
          "2023-01-20T04:00:00.000000000",
          "2023-01-20T04:30:00.000000000",
          "2023-01-20T05:00:00.000000000",
          "2023-01-20T05:30:00.000000000",
          "2023-01-20T06:00:00.000000000",
          "2023-01-20T06:30:00.000000000",
          "2023-01-20T07:00:00.000000000",
          "2023-01-20T07:30:00.000000000",
          "2023-01-20T08:00:00.000000000",
          "2023-01-20T08:30:00.000000000",
          "2023-01-20T09:00:00.000000000",
          "2023-01-20T09:30:00.000000000",
          "2023-01-20T10:00:00.000000000",
          "2023-01-20T10:30:00.000000000",
          "2023-01-20T11:00:00.000000000",
          "2023-01-20T11:30:00.000000000",
          "2023-01-20T12:00:00.000000000",
          "2023-01-20T12:30:00.000000000",
          "2023-01-20T13:00:00.000000000",
          "2023-01-20T13:30:00.000000000",
          "2023-01-20T14:00:00.000000000",
          "2023-01-20T14:30:00.000000000",
          "2023-01-20T15:00:00.000000000",
          "2023-01-20T15:30:00.000000000",
          "2023-01-20T16:00:00.000000000",
          "2023-01-20T16:30:00.000000000",
          "2023-01-20T17:00:00.000000000",
          "2023-01-20T17:30:00.000000000",
          "2023-01-20T18:00:00.000000000",
          "2023-01-20T18:30:00.000000000",
          "2023-01-20T19:00:00.000000000",
          "2023-01-20T19:30:00.000000000",
          "2023-01-20T20:00:00.000000000",
          "2023-01-20T20:30:00.000000000",
          "2023-01-20T21:00:00.000000000",
          "2023-01-20T21:30:00.000000000",
          "2023-01-20T22:00:00.000000000",
          "2023-01-20T22:30:00.000000000",
          "2023-01-20T23:00:00.000000000",
          "2023-01-20T23:30:00.000000000",
          "2023-01-21T00:00:00.000000000",
          "2023-01-21T00:30:00.000000000",
          "2023-01-21T01:00:00.000000000",
          "2023-01-21T01:30:00.000000000",
          "2023-01-21T02:00:00.000000000",
          "2023-01-21T02:30:00.000000000",
          "2023-01-21T03:00:00.000000000",
          "2023-01-21T03:30:00.000000000",
          "2023-01-21T04:00:00.000000000",
          "2023-01-21T04:30:00.000000000",
          "2023-01-21T05:00:00.000000000",
          "2023-01-21T05:30:00.000000000",
          "2023-01-21T06:00:00.000000000",
          "2023-01-21T06:30:00.000000000",
          "2023-01-21T07:00:00.000000000",
          "2023-01-21T07:30:00.000000000",
          "2023-01-21T08:00:00.000000000",
          "2023-01-21T08:30:00.000000000",
          "2023-01-21T09:00:00.000000000",
          "2023-01-21T09:30:00.000000000",
          "2023-01-21T10:00:00.000000000",
          "2023-01-21T10:30:00.000000000",
          "2023-01-21T11:00:00.000000000",
          "2023-01-21T11:30:00.000000000",
          "2023-01-21T12:00:00.000000000",
          "2023-01-21T12:30:00.000000000",
          "2023-01-21T13:00:00.000000000",
          "2023-01-21T13:30:00.000000000",
          "2023-01-21T14:00:00.000000000",
          "2023-01-21T14:30:00.000000000",
          "2023-01-21T15:00:00.000000000",
          "2023-01-21T15:30:00.000000000",
          "2023-01-21T16:00:00.000000000",
          "2023-01-21T16:30:00.000000000",
          "2023-01-21T17:00:00.000000000",
          "2023-01-21T17:30:00.000000000",
          "2023-01-21T18:00:00.000000000",
          "2023-01-21T18:30:00.000000000",
          "2023-01-21T19:00:00.000000000",
          "2023-01-21T19:30:00.000000000",
          "2023-01-21T20:00:00.000000000",
          "2023-01-21T20:30:00.000000000",
          "2023-01-21T21:00:00.000000000",
          "2023-01-21T21:30:00.000000000",
          "2023-01-21T22:00:00.000000000",
          "2023-01-21T22:30:00.000000000",
          "2023-01-21T23:00:00.000000000",
          "2023-01-21T23:30:00.000000000",
          "2023-01-22T00:00:00.000000000",
          "2023-01-22T00:30:00.000000000",
          "2023-01-22T01:00:00.000000000",
          "2023-01-22T01:30:00.000000000",
          "2023-01-22T02:00:00.000000000",
          "2023-01-22T02:30:00.000000000",
          "2023-01-22T03:00:00.000000000",
          "2023-01-22T03:30:00.000000000",
          "2023-01-22T04:00:00.000000000",
          "2023-01-22T04:30:00.000000000",
          "2023-01-22T05:00:00.000000000",
          "2023-01-22T05:30:00.000000000",
          "2023-01-22T06:00:00.000000000",
          "2023-01-22T06:30:00.000000000",
          "2023-01-22T07:00:00.000000000",
          "2023-01-22T07:30:00.000000000",
          "2023-01-22T08:00:00.000000000",
          "2023-01-22T08:30:00.000000000",
          "2023-01-22T09:00:00.000000000",
          "2023-01-22T09:30:00.000000000",
          "2023-01-22T10:00:00.000000000",
          "2023-01-22T10:30:00.000000000",
          "2023-01-22T11:00:00.000000000",
          "2023-01-22T11:30:00.000000000",
          "2023-01-22T12:00:00.000000000",
          "2023-01-22T12:30:00.000000000",
          "2023-01-22T13:00:00.000000000",
          "2023-01-22T13:30:00.000000000",
          "2023-01-22T14:00:00.000000000",
          "2023-01-22T14:30:00.000000000",
          "2023-01-22T15:00:00.000000000",
          "2023-01-22T15:30:00.000000000",
          "2023-01-22T16:00:00.000000000",
          "2023-01-22T16:30:00.000000000",
          "2023-01-22T17:00:00.000000000",
          "2023-01-22T17:30:00.000000000",
          "2023-01-22T18:00:00.000000000",
          "2023-01-22T18:30:00.000000000",
          "2023-01-22T19:00:00.000000000",
          "2023-01-22T19:30:00.000000000",
          "2023-01-22T20:00:00.000000000",
          "2023-01-22T20:30:00.000000000",
          "2023-01-22T21:00:00.000000000",
          "2023-01-22T21:30:00.000000000",
          "2023-01-22T22:00:00.000000000",
          "2023-01-22T22:30:00.000000000",
          "2023-01-22T23:00:00.000000000",
          "2023-01-22T23:30:00.000000000",
          "2023-01-23T00:00:00.000000000"
         ],
         "xaxis": "x2",
         "y": {
          "bdata": "AAAAAAAAAAAAAAAAAAAAAAAAAAAAAAAAAAAAAAAAAAAAAAAAAAAAAAAAAAAAAAAAAAAAAAAAAAAAAAAAAAAAAAAAAAAAAAAAAAAAAAAAAAAAAAAAAAAAAAAAAAAAAAAAAAAAAAAAAAAAAAAAAAAAAAAAAAAAAAAAAAAAAAAAAAAAAAAAAAAAAAAAAAAAAAAAAAAAAAAAAAAAAAAAAAAAAAAAAAAAAAAAAAAAAAAAAAAAAAAAAAAAAAAAAAAAAAAAAAAAAAAAAAAAAAAAAAAAAJZDi2zn+0NAAAAAAAAAAD0AAAAAAAAAAAAAAAAAAAAAAAAAAAAAAAAAAAAAAAAAAAAAAAAAAAAAAAAAAAAAAAAAAAAAAAAAAAAAAAAAAAAAAAAAAAAAAAAAAAAAAAAAAAAAAAAAAAAAAAAAAAAAAAAAAAAAAAAAAAAAAAAAAAAAAAAAAAAAAAAAAAAAAAAAAAAAAAAAAAAAlkOLbOf7Q0AAAAAAAAAAAAAAAAAAAAAAAAAAAAAAAAAAAAAAAAAAAAAAAAAAAAAAAAAAAAAAAAAAAAAAAAAAAAAAAAAAAAAAAAAAAAAAAAAAAAAAAAAAAAAAAAAAAAAAAAAAAAAAAAAAAAAAAAAAAAAAAAAAAAAAAAAAAAAAAAAAAAAAAAAAAAAAAAAAAAAAAAAAAAAAAAAAAAAAAAAAAAAAAAAAAAAAAAAAAAAAAAAAAAAAAAAAAAAAAAAAAAAAAAAAAAAAAAAAAAAAAAAAAAAAAAAAAAAAAAAAAAAAAAAAAAAAAAAAAAAAAAAAAAAAAAAAAAAAAACz6nO1FftDQAAAAAAAAAAAAAAAAAAAAAAAAAAAAAAAAAAAAAAAAAAAAAAAAAAAAAAAAAAAAAAAAAAAAAAAAAAAAAAAAAAAAAAAAAAAAAAAAAAAAAAAAAAAAAAAAAAAAAAAAAAAAAAAAAAAAAAAAAAAAAAAAAAAAAAAAAAAAAAAAAAAAAAAAAAAAAAAAAAAAAAAAAAAAAAAAAAAAAAAAAAAAAAAAAAAAAAAAAAAAAAAAAAAAAAAAAAAAAAAAAAAAAAAAAAAAAAAAAAAAAAAAAAAAAAAAAAAAAAAAAAAAAAAAAAAAAAAAAAAAAAAAAAAAAAAAAAAAAAAAAAAAAAAAAA9AAAAAAAAAD0AAAAAAAAAAAAAAAAAAAAAAAAAAAAAAAAAAAAAAAAAAAAAAAAAAAAAAAAAAAAAAAAAAAAAAAAAAAAAAAAAAAAAAAAAAAAAAAAAAAAAAAAAAAAAAAAAAAAAAAAAAAAAAAAAAAAAAAAAAAAAAAAAAAAAAAAAAAAAAAAAAAAAAAAAAAAAAAAAAAAAAAAAAAAAAAAAAAAAAAAAAAAAAAAAAAAAAAAAAAAAAAAAAAAAAAAAAAAAAAAAAAAAAAAAAAAAAAAAAAAAAAAAAAAAAAAAAAAAAAAAAAAAAAAAAAAAAAAAAAAAAAAAAAAAAAAAAAAAAAAAAAAAAAAAAAAAAAAAAAAAAAAAAAAAAAAAAAAAAAAAAAAAAAAAAAAAAAAAAAAAAAA=",
          "dtype": "f8"
         },
         "yaxis": "y3"
        },
        {
         "line": {
          "color": "rgb(144,144,144)",
          "dash": "dash",
          "width": 2
         },
         "marker": {
          "color": "rgb(144,144,144)"
         },
         "mode": "lines",
         "name": "Intraday Price",
         "type": "scatter",
         "x": [
          "2023-01-20T00:00:00.000000000",
          "2023-01-20T00:30:00.000000000",
          "2023-01-20T01:00:00.000000000",
          "2023-01-20T01:30:00.000000000",
          "2023-01-20T02:00:00.000000000",
          "2023-01-20T02:30:00.000000000",
          "2023-01-20T03:00:00.000000000",
          "2023-01-20T03:30:00.000000000",
          "2023-01-20T04:00:00.000000000",
          "2023-01-20T04:30:00.000000000",
          "2023-01-20T05:00:00.000000000",
          "2023-01-20T05:30:00.000000000",
          "2023-01-20T06:00:00.000000000",
          "2023-01-20T06:30:00.000000000",
          "2023-01-20T07:00:00.000000000",
          "2023-01-20T07:30:00.000000000",
          "2023-01-20T08:00:00.000000000",
          "2023-01-20T08:30:00.000000000",
          "2023-01-20T09:00:00.000000000",
          "2023-01-20T09:30:00.000000000",
          "2023-01-20T10:00:00.000000000",
          "2023-01-20T10:30:00.000000000",
          "2023-01-20T11:00:00.000000000",
          "2023-01-20T11:30:00.000000000",
          "2023-01-20T12:00:00.000000000",
          "2023-01-20T12:30:00.000000000",
          "2023-01-20T13:00:00.000000000",
          "2023-01-20T13:30:00.000000000",
          "2023-01-20T14:00:00.000000000",
          "2023-01-20T14:30:00.000000000",
          "2023-01-20T15:00:00.000000000",
          "2023-01-20T15:30:00.000000000",
          "2023-01-20T16:00:00.000000000",
          "2023-01-20T16:30:00.000000000",
          "2023-01-20T17:00:00.000000000",
          "2023-01-20T17:30:00.000000000",
          "2023-01-20T18:00:00.000000000",
          "2023-01-20T18:30:00.000000000",
          "2023-01-20T19:00:00.000000000",
          "2023-01-20T19:30:00.000000000",
          "2023-01-20T20:00:00.000000000",
          "2023-01-20T20:30:00.000000000",
          "2023-01-20T21:00:00.000000000",
          "2023-01-20T21:30:00.000000000",
          "2023-01-20T22:00:00.000000000",
          "2023-01-20T22:30:00.000000000",
          "2023-01-20T23:00:00.000000000",
          "2023-01-20T23:30:00.000000000",
          "2023-01-21T00:00:00.000000000",
          "2023-01-21T00:30:00.000000000",
          "2023-01-21T01:00:00.000000000",
          "2023-01-21T01:30:00.000000000",
          "2023-01-21T02:00:00.000000000",
          "2023-01-21T02:30:00.000000000",
          "2023-01-21T03:00:00.000000000",
          "2023-01-21T03:30:00.000000000",
          "2023-01-21T04:00:00.000000000",
          "2023-01-21T04:30:00.000000000",
          "2023-01-21T05:00:00.000000000",
          "2023-01-21T05:30:00.000000000",
          "2023-01-21T06:00:00.000000000",
          "2023-01-21T06:30:00.000000000",
          "2023-01-21T07:00:00.000000000",
          "2023-01-21T07:30:00.000000000",
          "2023-01-21T08:00:00.000000000",
          "2023-01-21T08:30:00.000000000",
          "2023-01-21T09:00:00.000000000",
          "2023-01-21T09:30:00.000000000",
          "2023-01-21T10:00:00.000000000",
          "2023-01-21T10:30:00.000000000",
          "2023-01-21T11:00:00.000000000",
          "2023-01-21T11:30:00.000000000",
          "2023-01-21T12:00:00.000000000",
          "2023-01-21T12:30:00.000000000",
          "2023-01-21T13:00:00.000000000",
          "2023-01-21T13:30:00.000000000",
          "2023-01-21T14:00:00.000000000",
          "2023-01-21T14:30:00.000000000",
          "2023-01-21T15:00:00.000000000",
          "2023-01-21T15:30:00.000000000",
          "2023-01-21T16:00:00.000000000",
          "2023-01-21T16:30:00.000000000",
          "2023-01-21T17:00:00.000000000",
          "2023-01-21T17:30:00.000000000",
          "2023-01-21T18:00:00.000000000",
          "2023-01-21T18:30:00.000000000",
          "2023-01-21T19:00:00.000000000",
          "2023-01-21T19:30:00.000000000",
          "2023-01-21T20:00:00.000000000",
          "2023-01-21T20:30:00.000000000",
          "2023-01-21T21:00:00.000000000",
          "2023-01-21T21:30:00.000000000",
          "2023-01-21T22:00:00.000000000",
          "2023-01-21T22:30:00.000000000",
          "2023-01-21T23:00:00.000000000",
          "2023-01-21T23:30:00.000000000",
          "2023-01-22T00:00:00.000000000",
          "2023-01-22T00:30:00.000000000",
          "2023-01-22T01:00:00.000000000",
          "2023-01-22T01:30:00.000000000",
          "2023-01-22T02:00:00.000000000",
          "2023-01-22T02:30:00.000000000",
          "2023-01-22T03:00:00.000000000",
          "2023-01-22T03:30:00.000000000",
          "2023-01-22T04:00:00.000000000",
          "2023-01-22T04:30:00.000000000",
          "2023-01-22T05:00:00.000000000",
          "2023-01-22T05:30:00.000000000",
          "2023-01-22T06:00:00.000000000",
          "2023-01-22T06:30:00.000000000",
          "2023-01-22T07:00:00.000000000",
          "2023-01-22T07:30:00.000000000",
          "2023-01-22T08:00:00.000000000",
          "2023-01-22T08:30:00.000000000",
          "2023-01-22T09:00:00.000000000",
          "2023-01-22T09:30:00.000000000",
          "2023-01-22T10:00:00.000000000",
          "2023-01-22T10:30:00.000000000",
          "2023-01-22T11:00:00.000000000",
          "2023-01-22T11:30:00.000000000",
          "2023-01-22T12:00:00.000000000",
          "2023-01-22T12:30:00.000000000",
          "2023-01-22T13:00:00.000000000",
          "2023-01-22T13:30:00.000000000",
          "2023-01-22T14:00:00.000000000",
          "2023-01-22T14:30:00.000000000",
          "2023-01-22T15:00:00.000000000",
          "2023-01-22T15:30:00.000000000",
          "2023-01-22T16:00:00.000000000",
          "2023-01-22T16:30:00.000000000",
          "2023-01-22T17:00:00.000000000",
          "2023-01-22T17:30:00.000000000",
          "2023-01-22T18:00:00.000000000",
          "2023-01-22T18:30:00.000000000",
          "2023-01-22T19:00:00.000000000",
          "2023-01-22T19:30:00.000000000",
          "2023-01-22T20:00:00.000000000",
          "2023-01-22T20:30:00.000000000",
          "2023-01-22T21:00:00.000000000",
          "2023-01-22T21:30:00.000000000",
          "2023-01-22T22:00:00.000000000",
          "2023-01-22T22:30:00.000000000",
          "2023-01-22T23:00:00.000000000",
          "2023-01-22T23:30:00.000000000",
          "2023-01-23T00:00:00.000000000"
         ],
         "xaxis": "x2",
         "y": {
          "bdata": "XI/C9Sg8Z0BxPQrXo6BqQHE9CtejCGdAPQrXo3ANakAAAAAAAFhqQOxRuB6Fi2lACtejcD2aaECuR+F6FG5oQNejcD0Kh2dArkfhehTGZkCkcD0K1wNmQBSuR+F63GVAZmZmZmYOZkCkcD0K16tlQMP1KFyPUmZAH4XrUbjOZkDsUbgehRtkQOF6FK5HCWdArkfhehR+ZUAUrkfherRoQHE9CtejyGVAcT0K16MIZ0DsUbgehbtoQFyPwvUonGdACtejcD0aZEDXo3A9CsdjQFK4HoXreWZAhetRuB41ZEBxPQrXoxBjQPYoXI/CBWJAzczMzMz0YUA9CtejcJViQAAAAAAAQGJAMzMzMzOzYUDsUbgehbNgQHsUrkfhAmJAFK5H4XpEYkApXI/C9WBhQArXo3A9smBAUrgeheuBXkCuR+F6FM5eQAAAAAAAIFxAUrgehetxXUCPwvUoXL9bQEjhehSuF2FAUrgeheu5YUCamZmZmaFgQKRwPQrXU19AuB6F61F4YUAAAAAAAJhhQArXo3A9omJAuB6F61HoZEAAAAAAALhiQClcj8L1iGNAw/UoXI/SY0DNzMzMzOxhQD0K16NwZWNArkfhehQOY0AUrkfhehRhQB+F61G4rmBAexSuR+FiYUA9CtejcLVgQPYoXI/CXWBAPQrXo3DdYECamZmZmSFgQAAAAAAA8GBApHA9CtfTYUD2KFyPwgVmQI/C9Shcb2hAzczMzMwUaUAK16NwPfpoQJqZmZmZMWdA16NwPQpHZkAUrkfhekRiQB+F61G4NmNAcT0K16OwX0CuR+F6FL5jQD0K16NwnWJACtejcD1iYkCkcD0K1ztiQM3MzMzMhGFAhetRuB7lY0DXo3A9CodiQBSuR+F6jGRA4XoUrkfZY0AUrkfheuRiQGZmZmZm/mFAMzMzMzMLYEC4HoXrUQBiQI/C9Shct2BASOF6FK5/YEAfhetRuK5fQB+F61G4rl9AH4XrUbiuX0AfhetRuK5fQB+F61G4rl9AH4XrUbiuX0AfhetRuK5fQB+F61G4rl9AH4XrUbiuX0AfhetRuK5fQB+F61G4rl9AH4XrUbiuX0AfhetRuK5fQB+F61G4rl9AH4XrUbiuX0AfhetRuK5fQB+F61G4rl9AH4XrUbiuX0AfhetRuK5fQB+F61G4rl9AH4XrUbiuX0AfhetRuK5fQB+F61G4rl9AH4XrUbiuX0AfhetRuK5fQB+F61G4rl9AH4XrUbiuX0AfhetRuK5fQB+F61G4rl9AH4XrUbiuX0AfhetRuK5fQB+F61G4rl9AH4XrUbiuX0AfhetRuK5fQB+F61G4rl9AH4XrUbiuX0AfhetRuK5fQB+F61G4rl9AH4XrUbiuX0AfhetRuK5fQB+F61G4rl9AH4XrUbiuX0AfhetRuK5fQB+F61G4rl9AH4XrUbiuX0AfhetRuK5fQB+F61G4rl9AH4XrUbiuX0AfhetRuK5fQB+F61G4rl9AH4XrUbiuX0AfhetRuK5fQB+F61G4rl9AH4XrUbiuX0A=",
          "dtype": "f8"
         },
         "yaxis": "y4"
        },
        {
         "line": {
          "color": "black",
          "dash": "dash",
          "width": 2
         },
         "marker": {
          "color": "rgb(144,144,144)"
         },
         "mode": "lines",
         "name": "SoC (%)",
         "type": "scatter",
         "x": [
          "2023-01-20T00:00:00.000000000",
          "2023-01-20T00:30:00.000000000",
          "2023-01-20T01:00:00.000000000",
          "2023-01-20T01:30:00.000000000",
          "2023-01-20T02:00:00.000000000",
          "2023-01-20T02:30:00.000000000",
          "2023-01-20T03:00:00.000000000",
          "2023-01-20T03:30:00.000000000",
          "2023-01-20T04:00:00.000000000",
          "2023-01-20T04:30:00.000000000",
          "2023-01-20T05:00:00.000000000",
          "2023-01-20T05:30:00.000000000",
          "2023-01-20T06:00:00.000000000",
          "2023-01-20T06:30:00.000000000",
          "2023-01-20T07:00:00.000000000",
          "2023-01-20T07:30:00.000000000",
          "2023-01-20T08:00:00.000000000",
          "2023-01-20T08:30:00.000000000",
          "2023-01-20T09:00:00.000000000",
          "2023-01-20T09:30:00.000000000",
          "2023-01-20T10:00:00.000000000",
          "2023-01-20T10:30:00.000000000",
          "2023-01-20T11:00:00.000000000",
          "2023-01-20T11:30:00.000000000",
          "2023-01-20T12:00:00.000000000",
          "2023-01-20T12:30:00.000000000",
          "2023-01-20T13:00:00.000000000",
          "2023-01-20T13:30:00.000000000",
          "2023-01-20T14:00:00.000000000",
          "2023-01-20T14:30:00.000000000",
          "2023-01-20T15:00:00.000000000",
          "2023-01-20T15:30:00.000000000",
          "2023-01-20T16:00:00.000000000",
          "2023-01-20T16:30:00.000000000",
          "2023-01-20T17:00:00.000000000",
          "2023-01-20T17:30:00.000000000",
          "2023-01-20T18:00:00.000000000",
          "2023-01-20T18:30:00.000000000",
          "2023-01-20T19:00:00.000000000",
          "2023-01-20T19:30:00.000000000",
          "2023-01-20T20:00:00.000000000",
          "2023-01-20T20:30:00.000000000",
          "2023-01-20T21:00:00.000000000",
          "2023-01-20T21:30:00.000000000",
          "2023-01-20T22:00:00.000000000",
          "2023-01-20T22:30:00.000000000",
          "2023-01-20T23:00:00.000000000",
          "2023-01-20T23:30:00.000000000",
          "2023-01-21T00:00:00.000000000",
          "2023-01-21T00:30:00.000000000",
          "2023-01-21T01:00:00.000000000",
          "2023-01-21T01:30:00.000000000",
          "2023-01-21T02:00:00.000000000",
          "2023-01-21T02:30:00.000000000",
          "2023-01-21T03:00:00.000000000",
          "2023-01-21T03:30:00.000000000",
          "2023-01-21T04:00:00.000000000",
          "2023-01-21T04:30:00.000000000",
          "2023-01-21T05:00:00.000000000",
          "2023-01-21T05:30:00.000000000",
          "2023-01-21T06:00:00.000000000",
          "2023-01-21T06:30:00.000000000",
          "2023-01-21T07:00:00.000000000",
          "2023-01-21T07:30:00.000000000",
          "2023-01-21T08:00:00.000000000",
          "2023-01-21T08:30:00.000000000",
          "2023-01-21T09:00:00.000000000",
          "2023-01-21T09:30:00.000000000",
          "2023-01-21T10:00:00.000000000",
          "2023-01-21T10:30:00.000000000",
          "2023-01-21T11:00:00.000000000",
          "2023-01-21T11:30:00.000000000",
          "2023-01-21T12:00:00.000000000",
          "2023-01-21T12:30:00.000000000",
          "2023-01-21T13:00:00.000000000",
          "2023-01-21T13:30:00.000000000",
          "2023-01-21T14:00:00.000000000",
          "2023-01-21T14:30:00.000000000",
          "2023-01-21T15:00:00.000000000",
          "2023-01-21T15:30:00.000000000",
          "2023-01-21T16:00:00.000000000",
          "2023-01-21T16:30:00.000000000",
          "2023-01-21T17:00:00.000000000",
          "2023-01-21T17:30:00.000000000",
          "2023-01-21T18:00:00.000000000",
          "2023-01-21T18:30:00.000000000",
          "2023-01-21T19:00:00.000000000",
          "2023-01-21T19:30:00.000000000",
          "2023-01-21T20:00:00.000000000",
          "2023-01-21T20:30:00.000000000",
          "2023-01-21T21:00:00.000000000",
          "2023-01-21T21:30:00.000000000",
          "2023-01-21T22:00:00.000000000",
          "2023-01-21T22:30:00.000000000",
          "2023-01-21T23:00:00.000000000",
          "2023-01-21T23:30:00.000000000",
          "2023-01-22T00:00:00.000000000",
          "2023-01-22T00:30:00.000000000",
          "2023-01-22T01:00:00.000000000",
          "2023-01-22T01:30:00.000000000",
          "2023-01-22T02:00:00.000000000",
          "2023-01-22T02:30:00.000000000",
          "2023-01-22T03:00:00.000000000",
          "2023-01-22T03:30:00.000000000",
          "2023-01-22T04:00:00.000000000",
          "2023-01-22T04:30:00.000000000",
          "2023-01-22T05:00:00.000000000",
          "2023-01-22T05:30:00.000000000",
          "2023-01-22T06:00:00.000000000",
          "2023-01-22T06:30:00.000000000",
          "2023-01-22T07:00:00.000000000",
          "2023-01-22T07:30:00.000000000",
          "2023-01-22T08:00:00.000000000",
          "2023-01-22T08:30:00.000000000",
          "2023-01-22T09:00:00.000000000",
          "2023-01-22T09:30:00.000000000",
          "2023-01-22T10:00:00.000000000",
          "2023-01-22T10:30:00.000000000",
          "2023-01-22T11:00:00.000000000",
          "2023-01-22T11:30:00.000000000",
          "2023-01-22T12:00:00.000000000",
          "2023-01-22T12:30:00.000000000",
          "2023-01-22T13:00:00.000000000",
          "2023-01-22T13:30:00.000000000",
          "2023-01-22T14:00:00.000000000",
          "2023-01-22T14:30:00.000000000",
          "2023-01-22T15:00:00.000000000",
          "2023-01-22T15:30:00.000000000",
          "2023-01-22T16:00:00.000000000",
          "2023-01-22T16:30:00.000000000",
          "2023-01-22T17:00:00.000000000",
          "2023-01-22T17:30:00.000000000",
          "2023-01-22T18:00:00.000000000",
          "2023-01-22T18:30:00.000000000",
          "2023-01-22T19:00:00.000000000",
          "2023-01-22T19:30:00.000000000",
          "2023-01-22T20:00:00.000000000",
          "2023-01-22T20:30:00.000000000",
          "2023-01-22T21:00:00.000000000",
          "2023-01-22T21:30:00.000000000",
          "2023-01-22T22:00:00.000000000",
          "2023-01-22T22:30:00.000000000",
          "2023-01-22T23:00:00.000000000",
          "2023-01-22T23:30:00.000000000",
          "2023-01-23T00:00:00.000000000"
         ],
         "xaxis": "x3",
         "y": {
          "bdata": "AAAAAAAAAAAAAAAAAAAAAAAAAAAAAAAAAAAAAAAAAAAAAAAAAAAAAAAAAAAAAAAAAAAAAAAAAAAAAAAAAAAAAAAAAAAAAAAAAAAAAAAAAAAAAAAAAAAAAAAAAAAAAAAAAAAAAAAAAAAAAAAAAAAAAAAAAAAAAAAAAAAAAABARUAAAAAAAEBVQD0K16NwHVdAexSuR+H6WEB7FK5H4fpYQHsUrkfh+lhAexSuR+H6WEB7FK5H4fpYQHsUrkfh+lhAexSuR+H6WECWQ4ts5/tTQJhDi2zn+0NAl0OLbOf7M0AAAAAAAAAAAAAAAAAAAAAAAAAAAAAAAAAAAAAAAAAAAAAAAAAAAAAAAAAAAAAAAAAAAAAAAAAAAJRDi2zn+0NAlEOLbOf7U0CUQ4ts5/tTQJRDi2zn+1NAlEOLbOf7U0CUQ4ts5/tTQJJDi2zn+1NAkkOLbOf7U0B7FK5H4fpYQJdDi2zn+1NAl0OLbOf7Q0CWQ4ts5/szQAAAAAAAAAAAAAAAAAAAAAAAAAAAAAAAAAAAAAAAAAAAAAAAAAAAAAAAAAAAAAAAAAAAAAAAAAAAAAAAAAAAAAAAAAAAAAAAAAAAAAAAAAAAAAAAAAAAAAAAAAAAAAAAAAAAAAAAAAAAAAAAAAAAAAAAAAAAAAAAAAAAAAAAAAAAAAAAAAAAAAAAAAAAAAAAAAAAAAAAQEVAAAAAAABAVUCwcmiR7RxXQGDl0CLb+VhAYOXQItv5WEBg5dAi2/lYQGDl0CLb+VhAYOXQItv5WEBg5dAi2/lYQGDl0CLb+VhAtOpztRX7U0C16nO1FftDQLbqc7UV+zNAM65rv0ThAT0zrmu/ROEBPTOua79E4QE9M65rv0ThAT0zrmu/ROEBPbXqc7UV+0NAtOpztRX7U0C06nO1FftTQLTqc7UV+1NAtOpztRX7U0C06nO1FftTQLTqc7UV+1NAtOpztRX7U0AQ4C2QoPhNQLfqc7UV+0NAs+pztRX7Q0Cz6nO1FfszQAAAAAAAAAAAAAAAAAAAAAAAAAAAAAAAAAAAAAAAAAAAAAAAAAAAAAAAAAAAAAAAANKRXP5D+kNA0pFc/kP6U0DSkVz+Q/pTQNKRXP5D+lNAutqK/WX3TUDTkVz+Q/pDQNSRXP5D+jNAAAAAAAAAAAAAAAAAAAAAAAAAAAAAAAAAAAAAAAAAAAAAAAAAAAAAAAEAAAAAQEVAAQAAAABAVUAm2/l+ahxXQEa28/3U+FhARrbz/dT4WEBGtvP91PhYQEa28/3U+FhARrbz/dT4WEBGtvP91PhYQEa28/3U+FhARrbz/dT4WEBGtvP91PhYQEa28/3U+FhARrbz/dT4WEBGtvP91PhYQEa28/3U+FhARrbz/dT4WEBGtvP91PhYQEa28/3U+FhARrbz/dT4WEBGtvP91PhYQEa28/3U+FhARrbz/dT4WEBGtvP91PhYQEa28/3U+FhARrbz/dT4WEDRkVz+Q/pTQLraiv1l901A0pFc/kP6Q0DRkVz+Q/ozQAAAAAAAAAAAAAAAAAAAAAA=",
          "dtype": "f8"
         },
         "yaxis": "y5"
        }
       ],
       "layout": {
        "annotations": [
         {
          "font": {
           "size": 14
          },
          "showarrow": false,
          "text": "Notes: Assumes perfect forecast at Day Ahead, with cycling reserved for intraday cycling",
          "x": 0,
          "xanchor": "left",
          "xref": "paper",
          "y": -0.2,
          "yanchor": "top",
          "yref": "paper"
         }
        ],
        "barmode": "relative",
        "font": {
         "color": "black",
         "family": "Century Gothic",
         "size": 14
        },
        "height": 600,
        "images": [
         {
          "sizex": 0.25,
          "sizey": 0.25,
          "source": "images/zenobe_logo.PNG",
          "x": 1.2,
          "xanchor": "right",
          "xref": "paper",
          "y": 1.05,
          "yanchor": "bottom",
          "yref": "paper"
         }
        ],
        "margin": {
         "b": 10
        },
        "paper_bgcolor": "rgb(256,256,256)",
        "plot_bgcolor": "rgb(256,256,256)",
        "template": {
         "data": {
          "bar": [
           {
            "error_x": {
             "color": "#2a3f5f"
            },
            "error_y": {
             "color": "#2a3f5f"
            },
            "marker": {
             "line": {
              "color": "#E5ECF6",
              "width": 0.5
             },
             "pattern": {
              "fillmode": "overlay",
              "size": 10,
              "solidity": 0.2
             }
            },
            "type": "bar"
           }
          ],
          "barpolar": [
           {
            "marker": {
             "line": {
              "color": "#E5ECF6",
              "width": 0.5
             },
             "pattern": {
              "fillmode": "overlay",
              "size": 10,
              "solidity": 0.2
             }
            },
            "type": "barpolar"
           }
          ],
          "carpet": [
           {
            "aaxis": {
             "endlinecolor": "#2a3f5f",
             "gridcolor": "white",
             "linecolor": "white",
             "minorgridcolor": "white",
             "startlinecolor": "#2a3f5f"
            },
            "baxis": {
             "endlinecolor": "#2a3f5f",
             "gridcolor": "white",
             "linecolor": "white",
             "minorgridcolor": "white",
             "startlinecolor": "#2a3f5f"
            },
            "type": "carpet"
           }
          ],
          "choropleth": [
           {
            "colorbar": {
             "outlinewidth": 0,
             "ticks": ""
            },
            "type": "choropleth"
           }
          ],
          "contour": [
           {
            "colorbar": {
             "outlinewidth": 0,
             "ticks": ""
            },
            "colorscale": [
             [
              0,
              "#0d0887"
             ],
             [
              0.1111111111111111,
              "#46039f"
             ],
             [
              0.2222222222222222,
              "#7201a8"
             ],
             [
              0.3333333333333333,
              "#9c179e"
             ],
             [
              0.4444444444444444,
              "#bd3786"
             ],
             [
              0.5555555555555556,
              "#d8576b"
             ],
             [
              0.6666666666666666,
              "#ed7953"
             ],
             [
              0.7777777777777778,
              "#fb9f3a"
             ],
             [
              0.8888888888888888,
              "#fdca26"
             ],
             [
              1,
              "#f0f921"
             ]
            ],
            "type": "contour"
           }
          ],
          "contourcarpet": [
           {
            "colorbar": {
             "outlinewidth": 0,
             "ticks": ""
            },
            "type": "contourcarpet"
           }
          ],
          "heatmap": [
           {
            "colorbar": {
             "outlinewidth": 0,
             "ticks": ""
            },
            "colorscale": [
             [
              0,
              "#0d0887"
             ],
             [
              0.1111111111111111,
              "#46039f"
             ],
             [
              0.2222222222222222,
              "#7201a8"
             ],
             [
              0.3333333333333333,
              "#9c179e"
             ],
             [
              0.4444444444444444,
              "#bd3786"
             ],
             [
              0.5555555555555556,
              "#d8576b"
             ],
             [
              0.6666666666666666,
              "#ed7953"
             ],
             [
              0.7777777777777778,
              "#fb9f3a"
             ],
             [
              0.8888888888888888,
              "#fdca26"
             ],
             [
              1,
              "#f0f921"
             ]
            ],
            "type": "heatmap"
           }
          ],
          "histogram": [
           {
            "marker": {
             "pattern": {
              "fillmode": "overlay",
              "size": 10,
              "solidity": 0.2
             }
            },
            "type": "histogram"
           }
          ],
          "histogram2d": [
           {
            "colorbar": {
             "outlinewidth": 0,
             "ticks": ""
            },
            "colorscale": [
             [
              0,
              "#0d0887"
             ],
             [
              0.1111111111111111,
              "#46039f"
             ],
             [
              0.2222222222222222,
              "#7201a8"
             ],
             [
              0.3333333333333333,
              "#9c179e"
             ],
             [
              0.4444444444444444,
              "#bd3786"
             ],
             [
              0.5555555555555556,
              "#d8576b"
             ],
             [
              0.6666666666666666,
              "#ed7953"
             ],
             [
              0.7777777777777778,
              "#fb9f3a"
             ],
             [
              0.8888888888888888,
              "#fdca26"
             ],
             [
              1,
              "#f0f921"
             ]
            ],
            "type": "histogram2d"
           }
          ],
          "histogram2dcontour": [
           {
            "colorbar": {
             "outlinewidth": 0,
             "ticks": ""
            },
            "colorscale": [
             [
              0,
              "#0d0887"
             ],
             [
              0.1111111111111111,
              "#46039f"
             ],
             [
              0.2222222222222222,
              "#7201a8"
             ],
             [
              0.3333333333333333,
              "#9c179e"
             ],
             [
              0.4444444444444444,
              "#bd3786"
             ],
             [
              0.5555555555555556,
              "#d8576b"
             ],
             [
              0.6666666666666666,
              "#ed7953"
             ],
             [
              0.7777777777777778,
              "#fb9f3a"
             ],
             [
              0.8888888888888888,
              "#fdca26"
             ],
             [
              1,
              "#f0f921"
             ]
            ],
            "type": "histogram2dcontour"
           }
          ],
          "mesh3d": [
           {
            "colorbar": {
             "outlinewidth": 0,
             "ticks": ""
            },
            "type": "mesh3d"
           }
          ],
          "parcoords": [
           {
            "line": {
             "colorbar": {
              "outlinewidth": 0,
              "ticks": ""
             }
            },
            "type": "parcoords"
           }
          ],
          "pie": [
           {
            "automargin": true,
            "type": "pie"
           }
          ],
          "scatter": [
           {
            "fillpattern": {
             "fillmode": "overlay",
             "size": 10,
             "solidity": 0.2
            },
            "type": "scatter"
           }
          ],
          "scatter3d": [
           {
            "line": {
             "colorbar": {
              "outlinewidth": 0,
              "ticks": ""
             }
            },
            "marker": {
             "colorbar": {
              "outlinewidth": 0,
              "ticks": ""
             }
            },
            "type": "scatter3d"
           }
          ],
          "scattercarpet": [
           {
            "marker": {
             "colorbar": {
              "outlinewidth": 0,
              "ticks": ""
             }
            },
            "type": "scattercarpet"
           }
          ],
          "scattergeo": [
           {
            "marker": {
             "colorbar": {
              "outlinewidth": 0,
              "ticks": ""
             }
            },
            "type": "scattergeo"
           }
          ],
          "scattergl": [
           {
            "marker": {
             "colorbar": {
              "outlinewidth": 0,
              "ticks": ""
             }
            },
            "type": "scattergl"
           }
          ],
          "scattermap": [
           {
            "marker": {
             "colorbar": {
              "outlinewidth": 0,
              "ticks": ""
             }
            },
            "type": "scattermap"
           }
          ],
          "scattermapbox": [
           {
            "marker": {
             "colorbar": {
              "outlinewidth": 0,
              "ticks": ""
             }
            },
            "type": "scattermapbox"
           }
          ],
          "scatterpolar": [
           {
            "marker": {
             "colorbar": {
              "outlinewidth": 0,
              "ticks": ""
             }
            },
            "type": "scatterpolar"
           }
          ],
          "scatterpolargl": [
           {
            "marker": {
             "colorbar": {
              "outlinewidth": 0,
              "ticks": ""
             }
            },
            "type": "scatterpolargl"
           }
          ],
          "scatterternary": [
           {
            "marker": {
             "colorbar": {
              "outlinewidth": 0,
              "ticks": ""
             }
            },
            "type": "scatterternary"
           }
          ],
          "surface": [
           {
            "colorbar": {
             "outlinewidth": 0,
             "ticks": ""
            },
            "colorscale": [
             [
              0,
              "#0d0887"
             ],
             [
              0.1111111111111111,
              "#46039f"
             ],
             [
              0.2222222222222222,
              "#7201a8"
             ],
             [
              0.3333333333333333,
              "#9c179e"
             ],
             [
              0.4444444444444444,
              "#bd3786"
             ],
             [
              0.5555555555555556,
              "#d8576b"
             ],
             [
              0.6666666666666666,
              "#ed7953"
             ],
             [
              0.7777777777777778,
              "#fb9f3a"
             ],
             [
              0.8888888888888888,
              "#fdca26"
             ],
             [
              1,
              "#f0f921"
             ]
            ],
            "type": "surface"
           }
          ],
          "table": [
           {
            "cells": {
             "fill": {
              "color": "#EBF0F8"
             },
             "line": {
              "color": "white"
             }
            },
            "header": {
             "fill": {
              "color": "#C8D4E3"
             },
             "line": {
              "color": "white"
             }
            },
            "type": "table"
           }
          ]
         },
         "layout": {
          "annotationdefaults": {
           "arrowcolor": "#2a3f5f",
           "arrowhead": 0,
           "arrowwidth": 1
          },
          "autotypenumbers": "strict",
          "coloraxis": {
           "colorbar": {
            "outlinewidth": 0,
            "ticks": ""
           }
          },
          "colorscale": {
           "diverging": [
            [
             0,
             "#8e0152"
            ],
            [
             0.1,
             "#c51b7d"
            ],
            [
             0.2,
             "#de77ae"
            ],
            [
             0.3,
             "#f1b6da"
            ],
            [
             0.4,
             "#fde0ef"
            ],
            [
             0.5,
             "#f7f7f7"
            ],
            [
             0.6,
             "#e6f5d0"
            ],
            [
             0.7,
             "#b8e186"
            ],
            [
             0.8,
             "#7fbc41"
            ],
            [
             0.9,
             "#4d9221"
            ],
            [
             1,
             "#276419"
            ]
           ],
           "sequential": [
            [
             0,
             "#0d0887"
            ],
            [
             0.1111111111111111,
             "#46039f"
            ],
            [
             0.2222222222222222,
             "#7201a8"
            ],
            [
             0.3333333333333333,
             "#9c179e"
            ],
            [
             0.4444444444444444,
             "#bd3786"
            ],
            [
             0.5555555555555556,
             "#d8576b"
            ],
            [
             0.6666666666666666,
             "#ed7953"
            ],
            [
             0.7777777777777778,
             "#fb9f3a"
            ],
            [
             0.8888888888888888,
             "#fdca26"
            ],
            [
             1,
             "#f0f921"
            ]
           ],
           "sequentialminus": [
            [
             0,
             "#0d0887"
            ],
            [
             0.1111111111111111,
             "#46039f"
            ],
            [
             0.2222222222222222,
             "#7201a8"
            ],
            [
             0.3333333333333333,
             "#9c179e"
            ],
            [
             0.4444444444444444,
             "#bd3786"
            ],
            [
             0.5555555555555556,
             "#d8576b"
            ],
            [
             0.6666666666666666,
             "#ed7953"
            ],
            [
             0.7777777777777778,
             "#fb9f3a"
            ],
            [
             0.8888888888888888,
             "#fdca26"
            ],
            [
             1,
             "#f0f921"
            ]
           ]
          },
          "colorway": [
           "#636efa",
           "#EF553B",
           "#00cc96",
           "#ab63fa",
           "#FFA15A",
           "#19d3f3",
           "#FF6692",
           "#B6E880",
           "#FF97FF",
           "#FECB52"
          ],
          "font": {
           "color": "#2a3f5f"
          },
          "geo": {
           "bgcolor": "white",
           "lakecolor": "white",
           "landcolor": "#E5ECF6",
           "showlakes": true,
           "showland": true,
           "subunitcolor": "white"
          },
          "hoverlabel": {
           "align": "left"
          },
          "hovermode": "closest",
          "mapbox": {
           "style": "light"
          },
          "paper_bgcolor": "white",
          "plot_bgcolor": "#E5ECF6",
          "polar": {
           "angularaxis": {
            "gridcolor": "white",
            "linecolor": "white",
            "ticks": ""
           },
           "bgcolor": "#E5ECF6",
           "radialaxis": {
            "gridcolor": "white",
            "linecolor": "white",
            "ticks": ""
           }
          },
          "scene": {
           "xaxis": {
            "backgroundcolor": "#E5ECF6",
            "gridcolor": "white",
            "gridwidth": 2,
            "linecolor": "white",
            "showbackground": true,
            "ticks": "",
            "zerolinecolor": "white"
           },
           "yaxis": {
            "backgroundcolor": "#E5ECF6",
            "gridcolor": "white",
            "gridwidth": 2,
            "linecolor": "white",
            "showbackground": true,
            "ticks": "",
            "zerolinecolor": "white"
           },
           "zaxis": {
            "backgroundcolor": "#E5ECF6",
            "gridcolor": "white",
            "gridwidth": 2,
            "linecolor": "white",
            "showbackground": true,
            "ticks": "",
            "zerolinecolor": "white"
           }
          },
          "shapedefaults": {
           "line": {
            "color": "#2a3f5f"
           }
          },
          "ternary": {
           "aaxis": {
            "gridcolor": "white",
            "linecolor": "white",
            "ticks": ""
           },
           "baxis": {
            "gridcolor": "white",
            "linecolor": "white",
            "ticks": ""
           },
           "bgcolor": "#E5ECF6",
           "caxis": {
            "gridcolor": "white",
            "linecolor": "white",
            "ticks": ""
           }
          },
          "title": {
           "x": 0.05
          },
          "xaxis": {
           "automargin": true,
           "gridcolor": "white",
           "linecolor": "white",
           "ticks": "",
           "title": {
            "standoff": 15
           },
           "zerolinecolor": "white",
           "zerolinewidth": 2
          },
          "yaxis": {
           "automargin": true,
           "gridcolor": "white",
           "linecolor": "white",
           "ticks": "",
           "title": {
            "standoff": 15
           },
           "zerolinecolor": "white",
           "zerolinewidth": 2
          }
         }
        },
        "title": {
         "text": "Example Operation from 2023-01-20 to 2023-01-23<br><sup>100MW/100MWh BESS, 2 cycles max",
         "x": 0.5,
         "xanchor": "center",
         "yanchor": "top"
        },
        "width": 1000,
        "xaxis": {
         "anchor": "y",
         "domain": [
          0,
          0.94
         ]
        },
        "xaxis2": {
         "anchor": "y3",
         "domain": [
          0,
          0.94
         ]
        },
        "xaxis3": {
         "anchor": "y5",
         "domain": [
          0,
          0.94
         ]
        },
        "yaxis": {
         "anchor": "x",
         "domain": [
          0.7333333333333333,
          1
         ],
         "title": {
          "text": "Power (MW)"
         }
        },
        "yaxis2": {
         "anchor": "x",
         "overlaying": "y",
         "side": "right",
         "title": {
          "text": "Price (£/MWh)"
         }
        },
        "yaxis3": {
         "anchor": "x2",
         "domain": [
          0.36666666666666664,
          0.6333333333333333
         ],
         "title": {
          "text": "Power (MW)"
         }
        },
        "yaxis4": {
         "anchor": "x2",
         "overlaying": "y3",
         "side": "right",
         "title": {
          "text": "Price (£/MWh)"
         }
        },
        "yaxis5": {
         "anchor": "x3",
         "domain": [
          0,
          0.26666666666666666
         ],
         "range": [
          0,
          110
         ],
         "title": {
          "text": "SoC (%)"
         }
        },
        "yaxis6": {
         "anchor": "x3",
         "overlaying": "y5",
         "side": "right"
        }
       }
      }
     },
     "metadata": {},
     "output_type": "display_data"
    }
   ],
   "source": [
    "fig.update_layout(barmode='overlay',\n",
    "                  font=dict(\n",
    "        family=font_family,\n",
    "        size=font_size,\n",
    "        color= zenobe_black,\n",
    "    ),)\n",
    "# Update the layout to show time on x-axis\n",
    "\n",
    "fig.update_layout(title=dict(x = 0.5,\n",
    "                            xanchor =  'center',\n",
    "                            yanchor = 'top',text=f\"Example Operation from {random_period_start.date()} to {random_period_end.date()}<br><sup>{project_power_capacity}MW/{project_energy_capacity}MWh BESS, 2 cycles max\"),\n",
    "                    \n",
    ")\n",
    "fig.update_layout(\n",
    "    margin=dict(b=10),\n",
    "    annotations=[\n",
    "        go.layout.Annotation(\n",
    "            x=0,  # X position on the axis (0 is the far left, 1 is far right)\n",
    "            y=-0.2,  # Y position below the plot (negative value to place it below)\n",
    "            xref='paper',  # 'paper' makes the annotation relative to the entire plot (not data coordinates)\n",
    "            yref='paper',\n",
    "            text=f\"Notes: Assumes perfect forecast at Day Ahead, with cycling reserved for intraday cycling\",  # The note text\n",
    "            showarrow=False,  # No arrow\n",
    "            xanchor='left',  # Align the text to the left\n",
    "            yanchor='top',  # Anchor the note to the top of the y-position\n",
    "            font=dict(size=14)  # Customize the font size if needed\n",
    "        ),\n",
    "        \n",
    "    ]\n",
    ")\n",
    "fig.add_layout_image(\n",
    "    dict(\n",
    "        source=\"images/zenobe_logo.PNG\",  # Path to the logo\n",
    "        xref=\"paper\", yref=\"paper\",\n",
    "        x=1.2, y=1.05,  # Positioning the logo at the top right\n",
    "        sizex=.25, sizey=.25,  # Adjust size based on your needs\n",
    "        xanchor=\"right\", yanchor=\"bottom\"\n",
    "    )\n",
    ")\n",
    "fig.update_layout(\n",
    "    paper_bgcolor='rgb(256,256,256)',\n",
    "    plot_bgcolor='rgb(256,256,256)',\n",
    "    font_color=\"black\",\n",
    "    barmode=\"relative\",\n",
    "    width=1000,\n",
    "    height=600,\n",
    ")\n",
    "fig.show()"
   ]
  }
 ],
 "metadata": {
  "kernelspec": {
   "display_name": ".venv",
   "language": "python",
   "name": "python3"
  },
  "language_info": {
   "codemirror_mode": {
    "name": "ipython",
    "version": 3
   },
   "file_extension": ".py",
   "mimetype": "text/x-python",
   "name": "python",
   "nbconvert_exporter": "python",
   "pygments_lexer": "ipython3",
   "version": "3.12.9"
  },
  "orig_nbformat": 4
 },
 "nbformat": 4,
 "nbformat_minor": 2
}
